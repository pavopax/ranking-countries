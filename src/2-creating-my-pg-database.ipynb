{
 "cells": [
  {
   "cell_type": "code",
   "execution_count": 18,
   "metadata": {
    "autoscroll": "json-false",
    "collapsed": false,
    "ein.tags": [
     "worksheet-0"
    ]
   },
   "outputs": [],
   "source": [
    "import psycopg2\n",
    "import pandas as pd\n",
    "from bokeh.plotting import figure, show, ColumnDataSource, output_file\n",
    "from bokeh.models import HoverTool, BoxSelectTool"
   ]
  },
  {
   "cell_type": "code",
   "execution_count": 2,
   "metadata": {
    "autoscroll": "json-false",
    "collapsed": false,
    "ein.tags": [
     "worksheet-0"
    ]
   },
   "outputs": [],
   "source": [
    "#  HEROKU - SAVE\n",
    "\n",
    "# see next block\n",
    "# http://blog.y3xz.com/blog/2012/08/16/flask-and-postgresql-on-heroku\n",
    "# app.config['SQLALCHEMY_DATABASE_URI'] = os.environ['DATABASE_URL']\n",
    "# db = SQLAlchemy(app)\n",
    "\n",
    "\n",
    "# conn = psycopg2.connect(\n",
    "#     database=pawel,\n",
    "#     user=url.username,\n",
    "#     password=url.password,\n",
    "#     host=url.hostname,\n",
    "#     port=url.port\n",
    "# )"
   ]
  },
  {
   "cell_type": "code",
   "execution_count": 3,
   "metadata": {
    "autoscroll": "json-false",
    "collapsed": false,
    "ein.tags": [
     "worksheet-0"
    ]
   },
   "outputs": [],
   "source": [
    "# http://stackoverflow.com/questions/31473457/converting-query-results-into-dataframe-in-python\n",
    "# QUOTES ARE important: \"\"\" vs ' vs \"\n",
    "# http://www.postgresql.org/docs/current/static/sql-syntax-lexical.html#SQL-SYNTAX-IDENTIFIERS"
   ]
  },
  {
   "cell_type": "code",
   "execution_count": 4,
   "metadata": {
    "autoscroll": "json-false",
    "collapsed": false,
    "ein.tags": [
     "worksheet-0"
    ]
   },
   "outputs": [
    {
     "name": "stdout",
     "output_type": "stream",
     "text": [
      "('AG.LND.TOTL.K2', 'IS.AIR.PSGR')\n"
     ]
    },
    {
     "data": {
      "text/plain": [
       "\"('AG.LND.TOTL.K2', 'IS.AIR.PSGR')\""
      ]
     },
     "execution_count": 4,
     "metadata": {},
     "output_type": "execute_result"
    }
   ],
   "source": [
    "\n",
    "indicators = [('AG.LND.TOTL.K2', 'Land area (sq. km)'),\n",
    "              ('EN.POP.DNST', 'Population density (people per sq. km of land area)'),\n",
    "              ('ER.BDV.TOTL.XQ', 'GEF benefits index for biodiversity (0 = no biodiversity potential to 100 = maximum)'),\n",
    "              ('VC.PKP.TOTL.UN', 'Presence of peace keepers (number of troops, police, and military observers in mandate)')]\n",
    "#ind1 = app.vars['i1']\n",
    "# ind2 = app.vars['i2']\n",
    "\n",
    "ind1 = 'AG.LND.TOTL.K2'\n",
    "ind2 = 'IS.AIR.PSGR'\n",
    "ind = (ind1, ind2)\n",
    "print ind\n",
    "repr(ind)"
   ]
  },
  {
   "cell_type": "code",
   "execution_count": 74,
   "metadata": {
    "collapsed": false
   },
   "outputs": [
    {
     "name": "stdout",
     "output_type": "stream",
     "text": [
      "SELECT a.country, a.indicator, a.zscore, b.label from usn as a LEFT  JOIN codes as b on a.indicator=b.indicator WHERE a.indicator IN (%s, %s);\n",
      "     country       indicator    zscore                              label\n",
      "0    Algeria  AG.LND.TOTL.K2  0.261822                 Land area (sq. km)\n",
      "1    Algeria     IS.AIR.PSGR -0.403979  Air transport, passengers carried\n",
      "2  Argentina  AG.LND.TOTL.K2  0.377283                 Land area (sq. km)\n",
      "3  Argentina     IS.AIR.PSGR -0.356186  Air transport, passengers carried\n",
      "4  Australia  AG.LND.TOTL.K2  1.986030                 Land area (sq. km)\n",
      "(119, 4)\n"
     ]
    }
   ],
   "source": [
    "conn = psycopg2.connect(database=\"wb_indicators\")\n",
    "#query = \"\"\"SELECT \"Country\", \"Indicator\", \"zscore\" from usn WHERE \"Indicator\" IN ('AG.LND.TOTL.K2', 'SI.POV.GINI');\"\"\"\n",
    "#query = \"\"\"SELECT country, a.indicator, zscore from usn as a LEFT  JOIN (select indicator, label from codes) as b on a.indicator=b.indicator WHERE a.indicator IN (%s, %s) ;\"\"\"\n",
    "query = \"\"\"SELECT a.country, a.indicator, a.zscore, b.label from usn as a LEFT  JOIN codes as b on a.indicator=b.indicator WHERE a.indicator IN (%s, %s);\"\"\"\n",
    "print query\n",
    "cursor = conn.cursor()\n",
    "cursor.execute(query, (ind1, ind2))\n",
    "df0=pd.DataFrame(cursor.fetchall(), columns=['country', 'indicator', 'zscore', 'label'])\n",
    "\n",
    "# conn.commit();\n",
    "# conn.close();\n",
    "print df0.head()\n",
    "print df0.shape"
   ]
  },
  {
   "cell_type": "code",
   "execution_count": 77,
   "metadata": {
    "autoscroll": "json-false",
    "collapsed": false,
    "ein.tags": [
     "worksheet-0"
    ]
   },
   "outputs": [
    {
     "name": "stdout",
     "output_type": "stream",
     "text": [
      "     country       indicator    zscore                              label\n",
      "0    Algeria  AG.LND.TOTL.K2  0.261822                 Land area (sq. km)\n",
      "1    Algeria     IS.AIR.PSGR -0.403979  Air transport, passengers carried\n",
      "2  Argentina  AG.LND.TOTL.K2  0.377283                 Land area (sq. km)\n",
      "3  Argentina     IS.AIR.PSGR -0.356186  Air transport, passengers carried\n",
      "4  Australia  AG.LND.TOTL.K2  1.986030                 Land area (sq. km)\n",
      "indicator   AG.LND.TOTL.K2  IS.AIR.PSGR\n",
      "country                                \n",
      "Algeria           0.261822    -0.403979\n",
      "Argentina         0.377283    -0.356186\n",
      "Australia         1.986030     0.163806\n",
      "Austria          -0.486082    -0.309165\n",
      "Azerbaijan       -0.486040    -0.430303\n"
     ]
    }
   ],
   "source": [
    "df = df0.pivot('country', 'indicator')\n",
    "df = df.zscore\n",
    "\n",
    "print df0.head()\n",
    "print df.head()"
   ]
  },
  {
   "cell_type": "code",
   "execution_count": 86,
   "metadata": {
    "autoscroll": "json-false",
    "collapsed": false,
    "ein.tags": [
     "worksheet-0"
    ]
   },
   "outputs": [
    {
     "name": "stdout",
     "output_type": "stream",
     "text": [
      "<type 'dict'>\n",
      "['Land area (sq. km)', 'Air transport, passengers carried']\n"
     ]
    }
   ],
   "source": [
    "# get labels\n",
    "query = \"\"\"SELECT Indicator, Label from codes WHERE Indicator IN (%s, %s);\"\"\"\n",
    "cursor.execute(query, (ind1, ind2) )\n",
    "\n",
    "x = dict(cursor.fetchall())\n",
    "print type(x)\n",
    "print x.values()"
   ]
  },
  {
   "cell_type": "code",
   "execution_count": 17,
   "metadata": {
    "collapsed": true
   },
   "outputs": [],
   "source": [
    "from bokeh.plotting import figure, ColumnDataSource"
   ]
  },
  {
   "cell_type": "code",
   "execution_count": 42,
   "metadata": {
    "collapsed": false
   },
   "outputs": [
    {
     "ename": "NameError",
     "evalue": "name 'labs' is not defined",
     "output_type": "error",
     "traceback": [
      "\u001b[0;31m---------------------------------------------------------------------------\u001b[0m",
      "\u001b[0;31mNameError\u001b[0m                                 Traceback (most recent call last)",
      "\u001b[0;32m<ipython-input-42-31becc3ad570>\u001b[0m in \u001b[0;36m<module>\u001b[0;34m()\u001b[0m\n\u001b[1;32m     14\u001b[0m \u001b[0;34m\u001b[0m\u001b[0m\n\u001b[1;32m     15\u001b[0m p = figure(width=700, height=500, #title = app.vars['title'],\n\u001b[0;32m---> 16\u001b[0;31m            \u001b[0mx_axis_label\u001b[0m \u001b[0;34m=\u001b[0m \u001b[0mlabs\u001b[0m\u001b[0;34m[\u001b[0m\u001b[0;36m0\u001b[0m\u001b[0;34m]\u001b[0m\u001b[0;34m[\u001b[0m\u001b[0;36m1\u001b[0m\u001b[0;34m]\u001b[0m\u001b[0;34m,\u001b[0m \u001b[0my_axis_label\u001b[0m \u001b[0;34m=\u001b[0m \u001b[0mlabs\u001b[0m\u001b[0;34m[\u001b[0m\u001b[0;36m1\u001b[0m\u001b[0;34m]\u001b[0m\u001b[0;34m[\u001b[0m\u001b[0;36m1\u001b[0m\u001b[0;34m]\u001b[0m\u001b[0;34m,\u001b[0m\u001b[0;34m\u001b[0m\u001b[0m\n\u001b[0m\u001b[1;32m     17\u001b[0m            tools=[hover])\n\u001b[1;32m     18\u001b[0m p.circle(x=df[df.columns[0]], y=df[df.columns[1]], size=10,\n",
      "\u001b[0;31mNameError\u001b[0m: name 'labs' is not defined"
     ]
    }
   ],
   "source": [
    "hover = HoverTool(\n",
    "        tooltips=[\n",
    "            (\"Country\", \"@country\"),\n",
    "            (\"Values\", \"($x, $y)\"),\n",
    "            (\"in\", \"@indicator\"),\n",
    "            (\"in2\", \"@indicator\"),\n",
    "            (df.columns[1], \"@indicator\")\n",
    "\n",
    "\n",
    "        ]\n",
    "    )\n",
    "\n",
    "data_source = ColumnDataSource(data=df)\n",
    "\n",
    "p = figure(width=700, height=500, #title = app.vars['title'],\n",
    "           x_axis_label = labs[0][1], y_axis_label = labs[1][1],\n",
    "           tools=[hover])\n",
    "p.circle(x=df[df.columns[0]], y=df[df.columns[1]], size=10,\n",
    "         color=\"navy\", alpha=0.5, source=data_source)\n",
    "p.xaxis.axis_label_text_font_size = \"10pt\"\n",
    "p.yaxis.axis_label_text_font_size = \"10pt\"\n",
    "    \n",
    "    "
   ]
  },
  {
   "cell_type": "code",
   "execution_count": 38,
   "metadata": {
    "autoscroll": "json-false",
    "collapsed": false,
    "ein.tags": [
     "worksheet-0"
    ]
   },
   "outputs": [],
   "source": [
    "p = figure(width=700, height=500, title = 'my title',\n",
    "           x_axis_label = df.columns[1], y_axis_label = df.columns[0],\n",
    "           tools=[hover])\n",
    "p.circle(x=df[df.columns[1]], y=df[df.columns[0]], size=10,\n",
    "         color=\"navy\", alpha=0.5, source=data_source)\n",
    "#p.circle(x=df[df.columns[1]], y=df[df.columns[0]], size=10,\n",
    "#         color=\"navy\", alpha=0.5, source=data_source)\n",
    "p.xaxis.axis_label_text_font_size = \"10pt\"\n",
    "p.yaxis.axis_label_text_font_size = \"10pt\""
   ]
  },
  {
   "cell_type": "code",
   "execution_count": 39,
   "metadata": {
    "autoscroll": "json-false",
    "collapsed": false,
    "ein.tags": [
     "worksheet-0"
    ]
   },
   "outputs": [],
   "source": [
    "# opens in browser\n",
    "output_file('temp.html')\n",
    "show(p)"
   ]
  },
  {
   "cell_type": "raw",
   "metadata": {
    "autoscroll": "json-false",
    "collapsed": false,
    "ein.tags": [
     "worksheet-0"
    ]
   },
   "source": []
  }
 ],
 "metadata": {
  "kernelspec": {
   "display_name": "Python 2",
   "language": "python",
   "name": "python2"
  },
  "language_info": {
   "codemirror_mode": {
    "name": "ipython",
    "version": 2
   },
   "file_extension": ".py",
   "mimetype": "text/x-python",
   "name": "python",
   "nbconvert_exporter": "python",
   "pygments_lexer": "ipython2",
   "version": "2.7.11"
  },
  "name": "2-creating-my-pg-database-python.ipynb"
 },
 "nbformat": 4,
 "nbformat_minor": 0
}
