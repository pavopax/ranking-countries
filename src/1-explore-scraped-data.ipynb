{
 "cells": [
  {
   "cell_type": "markdown",
   "metadata": {
    "autoscroll": "json-false",
    "collapsed": false,
    "ein.tags": [
     "worksheet-0"
    ]
   },
   "source": [
    "import pickle\n",
    "import pandas as pd"
   ]
  },
  {
   "cell_type": "code",
   "execution_count": 44,
   "metadata": {
    "collapsed": false
   },
   "outputs": [],
   "source": [
    "from IPython.core.display import HTML\n",
    "HTML(\"<style>.container { width:100% !important; }</style>\")\n",
    "\n",
    "import pickle\n",
    "import pandas as pd\n",
    "from itertools import chain"
   ]
  },
  {
   "cell_type": "code",
   "execution_count": 49,
   "metadata": {
    "autoscroll": "json-false",
    "collapsed": false,
    "ein.tags": [
     "worksheet-0"
    ]
   },
   "outputs": [],
   "source": [
    "dfc = pickle.load( open(\"../../data/countries.pickle\", \"rb\"))\n",
    "dfa = pickle.load( open(\"../../data/attributes.pickle\", \"rb\"))"
   ]
  },
  {
   "cell_type": "code",
   "execution_count": 50,
   "metadata": {
    "autoscroll": "json-false",
    "collapsed": false,
    "ein.tags": [
     "worksheet-0"
    ]
   },
   "outputs": [
    {
     "data": {
      "text/html": [
       "<div>\n",
       "<table border=\"1\" class=\"dataframe\">\n",
       "  <thead>\n",
       "    <tr style=\"text-align: right;\">\n",
       "      <th></th>\n",
       "      <th>name</th>\n",
       "      <th>url</th>\n",
       "    </tr>\n",
       "  </thead>\n",
       "  <tbody>\n",
       "    <tr>\n",
       "      <th>0</th>\n",
       "      <td>Algeria</td>\n",
       "      <td>/news/best-countries/algeria</td>\n",
       "    </tr>\n",
       "    <tr>\n",
       "      <th>1</th>\n",
       "      <td>Argentina</td>\n",
       "      <td>/news/best-countries/argentina</td>\n",
       "    </tr>\n",
       "    <tr>\n",
       "      <th>2</th>\n",
       "      <td>Australia</td>\n",
       "      <td>/news/best-countries/australia</td>\n",
       "    </tr>\n",
       "    <tr>\n",
       "      <th>3</th>\n",
       "      <td>Austria</td>\n",
       "      <td>/news/best-countries/austria</td>\n",
       "    </tr>\n",
       "    <tr>\n",
       "      <th>4</th>\n",
       "      <td>Azerbaijan</td>\n",
       "      <td>/news/best-countries/azerbaijan</td>\n",
       "    </tr>\n",
       "  </tbody>\n",
       "</table>\n",
       "</div>"
      ],
      "text/plain": [
       "         name                              url\n",
       "0     Algeria     /news/best-countries/algeria\n",
       "1   Argentina   /news/best-countries/argentina\n",
       "2   Australia   /news/best-countries/australia\n",
       "3     Austria     /news/best-countries/austria\n",
       "4  Azerbaijan  /news/best-countries/azerbaijan"
      ]
     },
     "execution_count": 50,
     "metadata": {},
     "output_type": "execute_result"
    }
   ],
   "source": [
    "dfc.head()"
   ]
  },
  {
   "cell_type": "code",
   "execution_count": 71,
   "metadata": {
    "collapsed": false
   },
   "outputs": [
    {
     "data": {
      "text/html": [
       "<div>\n",
       "<table border=\"1\" class=\"dataframe\">\n",
       "  <thead>\n",
       "    <tr style=\"text-align: right;\">\n",
       "      <th></th>\n",
       "      <th>subranking</th>\n",
       "      <th>url</th>\n",
       "      <th>weight</th>\n",
       "      <th>attributes</th>\n",
       "    </tr>\n",
       "  </thead>\n",
       "  <tbody>\n",
       "    <tr>\n",
       "      <th>0</th>\n",
       "      <td>Adventure</td>\n",
       "      <td>/news/best-countries/adventure-rankings</td>\n",
       "      <td>3.24</td>\n",
       "      <td>[friendly, fun, pleasant climate, scenic, sexy]</td>\n",
       "    </tr>\n",
       "    <tr>\n",
       "      <th>1</th>\n",
       "      <td>Citizenship</td>\n",
       "      <td>/news/best-countries/citizenship-rankings</td>\n",
       "      <td>16.95</td>\n",
       "      <td>[ares about human rights, cares about the envi...</td>\n",
       "    </tr>\n",
       "    <tr>\n",
       "      <th>2</th>\n",
       "      <td>Cultural Influence</td>\n",
       "      <td>/news/best-countries/influence-rankings</td>\n",
       "      <td>12.93</td>\n",
       "      <td>[ulturally significant in terms of entertainme...</td>\n",
       "    </tr>\n",
       "    <tr>\n",
       "      <th>3</th>\n",
       "      <td>Entrepreneurship</td>\n",
       "      <td>/news/best-countries/entrepreneurship-rankings</td>\n",
       "      <td>17.42</td>\n",
       "      <td>[onnected to the rest of the world, educated p...</td>\n",
       "    </tr>\n",
       "    <tr>\n",
       "      <th>4</th>\n",
       "      <td>Heritage</td>\n",
       "      <td>/news/best-countries/heritage-rankings</td>\n",
       "      <td>3.17</td>\n",
       "      <td>[ulturally accessible, has a rich history, has...</td>\n",
       "    </tr>\n",
       "    <tr>\n",
       "      <th>5</th>\n",
       "      <td>Open for Business</td>\n",
       "      <td>/news/best-countries/open-for-business-rankings</td>\n",
       "      <td>11.99</td>\n",
       "      <td>[ureaucratic, cheap manufacturing costs, corru...</td>\n",
       "    </tr>\n",
       "    <tr>\n",
       "      <th>6</th>\n",
       "      <td>Movers</td>\n",
       "      <td>/news/best-countries/movers-rankings</td>\n",
       "      <td>10.00</td>\n",
       "      <td>[ifferent, distinctive, dynamic, unique]</td>\n",
       "    </tr>\n",
       "    <tr>\n",
       "      <th>7</th>\n",
       "      <td>Power</td>\n",
       "      <td>/news/best-countries/power-rankings</td>\n",
       "      <td>7.42</td>\n",
       "      <td>[leader, economically influential, politically...</td>\n",
       "    </tr>\n",
       "    <tr>\n",
       "      <th>8</th>\n",
       "      <td>Quality of Life</td>\n",
       "      <td>/news/best-countries/quality-of-life-rankings</td>\n",
       "      <td>16.89</td>\n",
       "      <td>[a good job market, affordable, economically s...</td>\n",
       "    </tr>\n",
       "  </tbody>\n",
       "</table>\n",
       "</div>"
      ],
      "text/plain": [
       "           subranking                                              url  \\\n",
       "0           Adventure          /news/best-countries/adventure-rankings   \n",
       "1         Citizenship        /news/best-countries/citizenship-rankings   \n",
       "2  Cultural Influence          /news/best-countries/influence-rankings   \n",
       "3    Entrepreneurship   /news/best-countries/entrepreneurship-rankings   \n",
       "4            Heritage           /news/best-countries/heritage-rankings   \n",
       "5   Open for Business  /news/best-countries/open-for-business-rankings   \n",
       "6              Movers             /news/best-countries/movers-rankings   \n",
       "7               Power              /news/best-countries/power-rankings   \n",
       "8     Quality of Life    /news/best-countries/quality-of-life-rankings   \n",
       "\n",
       "   weight                                         attributes  \n",
       "0    3.24    [friendly, fun, pleasant climate, scenic, sexy]  \n",
       "1   16.95  [ares about human rights, cares about the envi...  \n",
       "2   12.93  [ulturally significant in terms of entertainme...  \n",
       "3   17.42  [onnected to the rest of the world, educated p...  \n",
       "4    3.17  [ulturally accessible, has a rich history, has...  \n",
       "5   11.99  [ureaucratic, cheap manufacturing costs, corru...  \n",
       "6   10.00           [ifferent, distinctive, dynamic, unique]  \n",
       "7    7.42  [leader, economically influential, politically...  \n",
       "8   16.89  [a good job market, affordable, economically s...  "
      ]
     },
     "execution_count": 71,
     "metadata": {},
     "output_type": "execute_result"
    }
   ],
   "source": [
    "dfa"
   ]
  },
  {
   "cell_type": "code",
   "execution_count": 26,
   "metadata": {
    "collapsed": false
   },
   "outputs": [
    {
     "data": {
      "text/html": [
       "<div>\n",
       "<table border=\"1\" class=\"dataframe\">\n",
       "  <thead>\n",
       "    <tr style=\"text-align: right;\">\n",
       "      <th></th>\n",
       "      <th>attributes</th>\n",
       "    </tr>\n",
       "  </thead>\n",
       "  <tbody>\n",
       "    <tr>\n",
       "      <th>0</th>\n",
       "      <td>[friendly, fun, pleasant climate, scenic, sexy]</td>\n",
       "    </tr>\n",
       "    <tr>\n",
       "      <th>1</th>\n",
       "      <td>[ares about human rights, cares about the envi...</td>\n",
       "    </tr>\n",
       "    <tr>\n",
       "      <th>2</th>\n",
       "      <td>[ulturally significant in terms of entertainme...</td>\n",
       "    </tr>\n",
       "    <tr>\n",
       "      <th>3</th>\n",
       "      <td>[onnected to the rest of the world, educated p...</td>\n",
       "    </tr>\n",
       "    <tr>\n",
       "      <th>4</th>\n",
       "      <td>[ulturally accessible, has a rich history, has...</td>\n",
       "    </tr>\n",
       "    <tr>\n",
       "      <th>5</th>\n",
       "      <td>[ureaucratic, cheap manufacturing costs, corru...</td>\n",
       "    </tr>\n",
       "    <tr>\n",
       "      <th>6</th>\n",
       "      <td>[ifferent, distinctive, dynamic, unique]</td>\n",
       "    </tr>\n",
       "    <tr>\n",
       "      <th>7</th>\n",
       "      <td>[leader, economically influential, politically...</td>\n",
       "    </tr>\n",
       "    <tr>\n",
       "      <th>8</th>\n",
       "      <td>[[a good job market, affordable, economically ...</td>\n",
       "    </tr>\n",
       "  </tbody>\n",
       "</table>\n",
       "</div>"
      ],
      "text/plain": [
       "                                          attributes\n",
       "0    [friendly, fun, pleasant climate, scenic, sexy]\n",
       "1  [ares about human rights, cares about the envi...\n",
       "2  [ulturally significant in terms of entertainme...\n",
       "3  [onnected to the rest of the world, educated p...\n",
       "4  [ulturally accessible, has a rich history, has...\n",
       "5  [ureaucratic, cheap manufacturing costs, corru...\n",
       "6           [ifferent, distinctive, dynamic, unique]\n",
       "7  [leader, economically influential, politically...\n",
       "8  [[a good job market, affordable, economically ..."
      ]
     },
     "execution_count": 26,
     "metadata": {},
     "output_type": "execute_result"
    }
   ],
   "source": [
    "pd.DataFrame(dfa['attributes'])"
   ]
  },
  {
   "cell_type": "code",
   "execution_count": 69,
   "metadata": {
    "collapsed": false
   },
   "outputs": [],
   "source": [
    "attrs = dfa['attributes']\n",
    "\n",
    "attrs = list(chain(*attrs))\n",
    "attrs = [a.replace(\"ares about human rights\", \"cares about human rights\").replace(\n",
    "        \"onnected\", \"connected\").replace(\"ulturally\", \"culturally\").replace(\n",
    "        'ureaucratic', \"bureaucratic\").replace(\"ifferent\", \"different\").replace(\n",
    "    \"leader\", \"a leader\") for a in attrs]"
   ]
  },
  {
   "cell_type": "code",
   "execution_count": 70,
   "metadata": {
    "collapsed": false
   },
   "outputs": [
    {
     "data": {
      "text/plain": [
       "[u'friendly',\n",
       " u'fun',\n",
       " u'pleasant climate',\n",
       " u'scenic',\n",
       " u'sexy',\n",
       " u'cares about human rights',\n",
       " u'cares about the environment',\n",
       " u'gender equality',\n",
       " u'progressive',\n",
       " u'religious freedom',\n",
       " u'respects property rights',\n",
       " u'trustworthy',\n",
       " u'well-distributed political power',\n",
       " u'culturally significant in terms of entertainment',\n",
       " u'fashionable',\n",
       " u'happy',\n",
       " u'has an influential culture',\n",
       " u'modern',\n",
       " u'prestigious',\n",
       " u'trendy',\n",
       " u'connected to the rest of the world',\n",
       " u'educated population',\n",
       " u'entrepreneurial',\n",
       " u'innovative',\n",
       " u'provides easy access to capital',\n",
       " u'skilled labor force',\n",
       " u'technological expertise',\n",
       " u'transparent business practices',\n",
       " u'well-developed infrastructure',\n",
       " u'well-developed legal framework',\n",
       " u'culturally accessible',\n",
       " u'has a rich history',\n",
       " u'has great food',\n",
       " u'many cultural attractions',\n",
       " u'bureaucratic',\n",
       " u'cheap manufacturing costs',\n",
       " u'corrupt',\n",
       " u'favorable tax environment',\n",
       " u'transparent government practices',\n",
       " u'different',\n",
       " u'distinctive',\n",
       " u'dynamic',\n",
       " u'unique',\n",
       " u'a leader',\n",
       " u'economically influential',\n",
       " u'politically influential',\n",
       " u'strong international alliances',\n",
       " u'strong military',\n",
       " 'a good job market',\n",
       " 'affordable',\n",
       " 'economically stable',\n",
       " 'family friendly',\n",
       " 'income equality',\n",
       " 'politically stable',\n",
       " 'safe',\n",
       " 'well-developed public education system',\n",
       " 'well-developed public health system']"
      ]
     },
     "execution_count": 70,
     "metadata": {},
     "output_type": "execute_result"
    }
   ],
   "source": [
    "attrs"
   ]
  },
  {
   "cell_type": "code",
   "execution_count": 64,
   "metadata": {
    "collapsed": true
   },
   "outputs": [],
   "source": [
    "out = pd.DataFrame(attrs)"
   ]
  },
  {
   "cell_type": "code",
   "execution_count": 66,
   "metadata": {
    "collapsed": false
   },
   "outputs": [
    {
     "data": {
      "text/html": [
       "<div>\n",
       "<table border=\"1\" class=\"dataframe\">\n",
       "  <thead>\n",
       "    <tr style=\"text-align: right;\">\n",
       "      <th></th>\n",
       "      <th>0</th>\n",
       "    </tr>\n",
       "  </thead>\n",
       "  <tbody>\n",
       "    <tr>\n",
       "      <th>0</th>\n",
       "      <td>friendly</td>\n",
       "    </tr>\n",
       "    <tr>\n",
       "      <th>1</th>\n",
       "      <td>fun</td>\n",
       "    </tr>\n",
       "    <tr>\n",
       "      <th>2</th>\n",
       "      <td>pleasant climate</td>\n",
       "    </tr>\n",
       "    <tr>\n",
       "      <th>3</th>\n",
       "      <td>scenic</td>\n",
       "    </tr>\n",
       "    <tr>\n",
       "      <th>4</th>\n",
       "      <td>sexy</td>\n",
       "    </tr>\n",
       "  </tbody>\n",
       "</table>\n",
       "</div>"
      ],
      "text/plain": [
       "                  0\n",
       "0          friendly\n",
       "1               fun\n",
       "2  pleasant climate\n",
       "3            scenic\n",
       "4              sexy"
      ]
     },
     "execution_count": 66,
     "metadata": {},
     "output_type": "execute_result"
    }
   ],
   "source": [
    "out.head()"
   ]
  },
  {
   "cell_type": "code",
   "execution_count": 67,
   "metadata": {
    "collapsed": true
   },
   "outputs": [],
   "source": [
    "out.to_csv(\"../../data/attributes.csv\")"
   ]
  },
  {
   "cell_type": "code",
   "execution_count": null,
   "metadata": {
    "collapsed": true
   },
   "outputs": [],
   "source": []
  }
 ],
 "metadata": {
  "kernelspec": {
   "display_name": "Python 2",
   "language": "python",
   "name": "python2"
  },
  "language_info": {
   "codemirror_mode": {
    "name": "ipython",
    "version": 2
   },
   "file_extension": ".py",
   "mimetype": "text/x-python",
   "name": "python",
   "nbconvert_exporter": "python",
   "pygments_lexer": "ipython2",
   "version": "2.7.10"
  },
  "name": "1-explore.ipynb"
 },
 "nbformat": 4,
 "nbformat_minor": 0
}
