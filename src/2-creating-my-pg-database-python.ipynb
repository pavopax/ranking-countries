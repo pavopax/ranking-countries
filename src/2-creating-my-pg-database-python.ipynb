{
 "cells": [
  {
   "cell_type": "code",
   "execution_count": 134,
   "metadata": {
    "autoscroll": "json-false",
    "collapsed": false,
    "ein.tags": [
     "worksheet-0"
    ]
   },
   "outputs": [],
   "source": [
    "import psycopg2\n",
    "import pandas as pd\n",
    "from bokeh.plotting import figure, show, output_file"
   ]
  },
  {
   "cell_type": "code",
   "execution_count": 135,
   "metadata": {
    "autoscroll": "json-false",
    "collapsed": false,
    "ein.tags": [
     "worksheet-0"
    ]
   },
   "outputs": [],
   "source": [
    "#  HEROKU - SAVE\n",
    "\n",
    "# see next block\n",
    "# http://blog.y3xz.com/blog/2012/08/16/flask-and-postgresql-on-heroku\n",
    "# app.config['SQLALCHEMY_DATABASE_URI'] = os.environ['DATABASE_URL']\n",
    "# db = SQLAlchemy(app)\n",
    "\n",
    "\n",
    "# conn = psycopg2.connect(\n",
    "#     database=pawel,\n",
    "#     user=url.username,\n",
    "#     password=url.password,\n",
    "#     host=url.hostname,\n",
    "#     port=url.port\n",
    "# )"
   ]
  },
  {
   "cell_type": "code",
   "execution_count": 0,
   "metadata": {
    "autoscroll": "json-false",
    "collapsed": false,
    "ein.tags": [
     "worksheet-0"
    ]
   },
   "outputs": [],
   "source": [
    "# http://stackoverflow.com/questions/31473457/converting-query-results-into-dataframe-in-python\n",
    "# QUOTES ARE important: \"\"\" vs ' vs \"\n",
    "# http://www.postgresql.org/docs/current/static/sql-syntax-lexical.html#SQL-SYNTAX-IDENTIFIERS"
   ]
  },
  {
   "cell_type": "code",
   "execution_count": 168,
   "metadata": {
    "autoscroll": "json-false",
    "collapsed": false,
    "ein.tags": [
     "worksheet-0"
    ]
   },
   "outputs": [
    {
     "data": {
      "text/plain": [
       "\"('AG.LND.TOTL.K2', 'IS.AIR.PSGR')\""
      ]
     },
     "execution_count": 168,
     "metadata": {},
     "output_type": "execute_result"
    },
    {
     "name": "stdout",
     "output_type": "stream",
     "text": [
      "('AG.LND.TOTL.K2', 'IS.AIR.PSGR')\n"
     ]
    }
   ],
   "source": [
    "\n",
    "indicators = [('AG.LND.TOTL.K2', 'Land area (sq. km)'),\n",
    "              ('EN.POP.DNST', 'Population density (people per sq. km of land area)'),\n",
    "              ('ER.BDV.TOTL.XQ', 'GEF benefits index for biodiversity (0 = no biodiversity potential to 100 = maximum)'),\n",
    "              ('VC.PKP.TOTL.UN', 'Presence of peace keepers (number of troops, police, and military observers in mandate)')]\n",
    "#ind1 = app.vars['i1']\n",
    "# ind2 = app.vars['i2']\n",
    "\n",
    "ind1 = 'AG.LND.TOTL.K2'\n",
    "ind2 = 'IS.AIR.PSGR'\n",
    "ind = (ind1, ind2)\n",
    "print ind\n",
    "repr(ind)"
   ]
  },
  {
   "cell_type": "code",
   "execution_count": 175,
   "metadata": {
    "autoscroll": "json-false",
    "collapsed": false,
    "ein.tags": [
     "worksheet-0"
    ]
   },
   "outputs": [
    {
     "name": "stdout",
     "output_type": "stream",
     "text": [
      "SELECT \"Country\", \"Indicator\", \"zscore\" from usn WHERE \"Indicator\" IN ('AG.LND.TOTL.K2', 'IS.AIR.PSGR');\n",
      "     Country       Indicator    zscore\n",
      "0    Algeria  AG.LND.TOTL.K2  0.261822\n",
      "1    Algeria     IS.AIR.PSGR -0.403979\n",
      "2  Argentina  AG.LND.TOTL.K2  0.377283\n",
      "3  Argentina     IS.AIR.PSGR -0.356186\n",
      "4  Australia  AG.LND.TOTL.K2  1.986030\n",
      "Indicator   AG.LND.TOTL.K2  IS.AIR.PSGR\n",
      "Country                                \n",
      "Algeria           0.261822    -0.403979\n",
      "Argentina         0.377283    -0.356186\n",
      "Australia         1.986030     0.163806\n",
      "Austria          -0.486082    -0.309165\n",
      "Azerbaijan       -0.486040    -0.430303\n"
     ]
    }
   ],
   "source": [
    "conn = psycopg2.connect(database=\"wb_indicators\")\n",
    "#query = \"\"\"SELECT \"Country\", \"Indicator\", \"zscore\" from usn WHERE \"Indicator\" IN ('AG.LND.TOTL.K2', 'SI.POV.GINI');\"\"\"\n",
    "query = \"\"\"SELECT \"Country\", \"Indicator\", \"zscore\" from usn WHERE \"Indicator\" IN \"\"\" + str(ind) + \"\"\";\"\"\"\n",
    "print query\n",
    "cursor = conn.cursor()\n",
    "cursor.execute(query)\n",
    "df0=pd.DataFrame(cursor.fetchall(), columns=['Country', 'Indicator', 'zscore'])\n",
    "\n",
    "# conn.commit();\n",
    "# conn.close();\n",
    "\n",
    "df = df0.pivot('Country', 'Indicator')\n",
    "df = df.zscore\n",
    "\n",
    "print df0.head()\n",
    "print df.head()\n",
    "\n"
   ]
  },
  {
   "cell_type": "code",
   "execution_count": 176,
   "metadata": {
    "autoscroll": "json-false",
    "collapsed": false,
    "ein.tags": [
     "worksheet-0"
    ]
   },
   "outputs": [
    {
     "name": "stdout",
     "output_type": "stream",
     "text": [
      "[('AG.LND.TOTL.K2', 'Land area (sq. km)'), ('IS.AIR.PSGR', 'Air transport, passengers carried')]\n"
     ]
    }
   ],
   "source": [
    "# get labels\n",
    "query = \"\"\"SELECT \"Indicator\", \"Label\" from codes WHERE \"Indicator\" IN (%s, %s);\"\"\"\n",
    "cursor.execute(query, (ind1, ind2) )\n",
    "\n",
    "x = cursor.fetchall()\n",
    "print x"
   ]
  },
  {
   "cell_type": "code",
   "execution_count": 0,
   "metadata": {
    "autoscroll": "json-false",
    "collapsed": false,
    "ein.tags": [
     "worksheet-0"
    ]
   },
   "outputs": [],
   "source": []
  },
  {
   "cell_type": "code",
   "execution_count": 151,
   "metadata": {
    "autoscroll": "json-false",
    "collapsed": false,
    "ein.tags": [
     "worksheet-0"
    ]
   },
   "outputs": [
    {
     "ename": "IndexError",
     "evalue": "index 1 is out of bounds for axis 0 with size 1",
     "output_type": "error",
     "traceback": [
      "\u001b[0;31m---------------------------------------------------------------------------\u001b[0m",
      "\u001b[0;31mIndexError\u001b[0m                                Traceback (most recent call last)",
      "\u001b[0;32m<ipython-input-151-003556d16963>\u001b[0m in \u001b[0;36m<module>\u001b[0;34m()\u001b[0m\n\u001b[1;32m      1\u001b[0m p = figure(width=700, height=500, title = 'my title',\n\u001b[0;32m----> 2\u001b[0;31m \t   x_axis_label = df.columns[1], y_axis_label = df.columns[0])\n\u001b[0m\u001b[1;32m      3\u001b[0m p.circle(x=df[df.columns[1]], y=df[df.columns[0]], size=10,\n\u001b[1;32m      4\u001b[0m \t color=\"navy\", alpha=0.5)\n",
      "\u001b[0;32m/Users/pawel/anaconda/lib/python2.7/site-packages/pandas/indexes/base.pyc\u001b[0m in \u001b[0;36m__getitem__\u001b[0;34m(self, key)\u001b[0m\n\u001b[1;32m   1254\u001b[0m \u001b[0;34m\u001b[0m\u001b[0m\n\u001b[1;32m   1255\u001b[0m         \u001b[0;32mif\u001b[0m \u001b[0mlib\u001b[0m\u001b[0;34m.\u001b[0m\u001b[0misscalar\u001b[0m\u001b[0;34m(\u001b[0m\u001b[0mkey\u001b[0m\u001b[0;34m)\u001b[0m\u001b[0;34m:\u001b[0m\u001b[0;34m\u001b[0m\u001b[0m\n\u001b[0;32m-> 1256\u001b[0;31m             \u001b[0;32mreturn\u001b[0m \u001b[0mgetitem\u001b[0m\u001b[0;34m(\u001b[0m\u001b[0mkey\u001b[0m\u001b[0;34m)\u001b[0m\u001b[0;34m\u001b[0m\u001b[0m\n\u001b[0m\u001b[1;32m   1257\u001b[0m \u001b[0;34m\u001b[0m\u001b[0m\n\u001b[1;32m   1258\u001b[0m         \u001b[0;32mif\u001b[0m \u001b[0misinstance\u001b[0m\u001b[0;34m(\u001b[0m\u001b[0mkey\u001b[0m\u001b[0;34m,\u001b[0m \u001b[0mslice\u001b[0m\u001b[0;34m)\u001b[0m\u001b[0;34m:\u001b[0m\u001b[0;34m\u001b[0m\u001b[0m\n",
      "\u001b[0;31mIndexError\u001b[0m: index 1 is out of bounds for axis 0 with size 1"
     ]
    }
   ],
   "source": [
    "p = figure(width=700, height=500, title = 'my title',\n",
    "\t   x_axis_label = df.columns[1], y_axis_label = df.columns[0])\n",
    "p.circle(x=df[df.columns[1]], y=df[df.columns[0]], size=10,\n",
    "\t color=\"navy\", alpha=0.5)"
   ]
  },
  {
   "cell_type": "code",
   "execution_count": 138,
   "metadata": {
    "autoscroll": "json-false",
    "collapsed": false,
    "ein.tags": [
     "worksheet-0"
    ]
   },
   "outputs": [
    {
     "data": {
      "text/plain": [
       "<bokeh.io._CommsHandle at 0x1122fd090>"
      ]
     },
     "execution_count": 138,
     "metadata": {},
     "output_type": "execute_result"
    },
    {
     "data": {
      "text/html": [
       "\n",
       "\n",
       "    <div class=\"plotdiv\" id=\"7c7c6e27-0e94-4d1b-97be-07937cf68ea5\"></div>\n",
       "<script type=\"text/javascript\">\n",
       "  \n",
       "  (function(global) {\n",
       "    function now() {\n",
       "      return new Date();\n",
       "    }\n",
       "  \n",
       "    if (typeof (window._bokeh_onload_callbacks) === \"undefined\") {\n",
       "      window._bokeh_onload_callbacks = [];\n",
       "    }\n",
       "  \n",
       "    function run_callbacks() {\n",
       "      window._bokeh_onload_callbacks.forEach(function(callback) { callback() });\n",
       "      delete window._bokeh_onload_callbacks\n",
       "      console.info(\"Bokeh: all callbacks have finished\");\n",
       "    }\n",
       "  \n",
       "    function load_libs(js_urls, callback) {\n",
       "      window._bokeh_onload_callbacks.push(callback);\n",
       "      if (window._bokeh_is_loading > 0) {\n",
       "        console.log(\"Bokeh: BokehJS is being loaded, scheduling callback at\", now());\n",
       "        return null;\n",
       "      }\n",
       "      if (js_urls == null || js_urls.length === 0) {\n",
       "        run_callbacks();\n",
       "        return null;\n",
       "      }\n",
       "      console.log(\"Bokeh: BokehJS not loaded, scheduling load and callback at\", now());\n",
       "      window._bokeh_is_loading = js_urls.length;\n",
       "      for (var i = 0; i < js_urls.length; i++) {\n",
       "        var url = js_urls[i];\n",
       "        var s = document.createElement('script');\n",
       "        s.src = url;\n",
       "        s.async = false;\n",
       "        s.onreadystatechange = s.onload = function() {\n",
       "          window._bokeh_is_loading--;\n",
       "          if (window._bokeh_is_loading === 0) {\n",
       "            console.log(\"Bokeh: all BokehJS libraries loaded\");\n",
       "            run_callbacks()\n",
       "          }\n",
       "        };\n",
       "        s.onerror = function() {\n",
       "          console.warn(\"failed to load library \" + url);\n",
       "        };\n",
       "        console.log(\"Bokeh: injecting script tag for BokehJS library: \", url);\n",
       "        document.getElementsByTagName(\"head\")[0].appendChild(s);\n",
       "      }\n",
       "    };var element = document.getElementById(\"7c7c6e27-0e94-4d1b-97be-07937cf68ea5\");\n",
       "    if (element == null) {\n",
       "      console.log(\"Bokeh: ERROR: autoload.js configured with elementid '7c7c6e27-0e94-4d1b-97be-07937cf68ea5' but no matching script tag was found. \")\n",
       "      return false;\n",
       "    }\n",
       "  \n",
       "    var js_urls = [];\n",
       "  \n",
       "    var inline_js = [\n",
       "      function(Bokeh) {\n",
       "        Bokeh.$(function() {\n",
       "            var docs_json = {\"875cf799-5343-437f-9667-5cb36a7e3e5c\":{\"roots\":{\"references\":[{\"attributes\":{\"callback\":null,\"column_names\":[\"y\",\"x\"],\"data\":{\"x\":[\"NaN\",0.465398,-0.411213,-0.943867,\"NaN\",1.1557,1.73015,-0.283423,-0.561694,1.44114,0.439124,1.8042,1.28946,-1.46338,-1.11107,1.03746,-0.911622,-0.630963,-0.985668,-0.203406,1.66805,-0.935507,-0.535419,-0.335972,-0.123388,-0.700232,0.525113,-0.384938,-0.749198,-0.564082,-1.43711,\"NaN\",-0.429127,0.940727,1.15689,0.279089,-1.24125,\"NaN\",0.547804,-1.05016,1.58684,0.758,0.556165,-0.279841,-1.32007,0.382992,\"NaN\",\"NaN\",2.98536,-0.297755,0.0235099,-1.32126,0.104722,-0.307309,0.213402,-1.65208,-0.69426,0.319695,0.416432,0.0378414],\"y\":[0.261822,0.377283,1.98603,-0.486082,-0.48604,-0.160544,2.20587,-0.477615,2.44508,-0.271066,2.54094,-0.152022,-0.496319,-0.487806,-0.499126,-0.49721,-0.189121,-0.334815,-0.399552,-0.470999,-0.47807,-0.48348,0.454213,0.0763528,0.0168187,-0.490519,-0.505889,-0.417248,-0.394341,-0.484049,0.36525,-0.481224,-0.512086,-0.406055,0.119414,-0.367752,-0.501976,-0.427277,-0.216666,-0.262171,-0.488746,-0.0965602,-0.415937,-0.483132,-0.438102,4.81426,0.186339,-0.512698,-0.118325,-0.350216,-0.492529,-0.380426,-0.346742,-0.462391,-0.262577,-0.324483,-0.434231,2.46261,-0.455996,-0.412066]}},\"id\":\"87f6817f-dc23-432e-8300-d0d714781bfa\",\"type\":\"ColumnDataSource\"},{\"attributes\":{\"fill_alpha\":{\"value\":0.5},\"fill_color\":{\"value\":\"navy\"},\"line_alpha\":{\"value\":0.5},\"line_color\":{\"value\":\"navy\"},\"size\":{\"units\":\"screen\",\"value\":10},\"x\":{\"field\":\"x\"},\"y\":{\"field\":\"y\"}},\"id\":\"507ae4d0-fd89-47ca-a319-4fb02df9c173\",\"type\":\"Circle\"},{\"attributes\":{\"plot\":{\"id\":\"9f51ac84-1c42-44ba-8b72-6e631b2d7b68\",\"subtype\":\"Figure\",\"type\":\"Plot\"}},\"id\":\"3c967ead-9bce-4f77-bb3a-f6eb3163b8ed\",\"type\":\"ResizeTool\"},{\"attributes\":{\"below\":[{\"id\":\"5c49c71e-a9e1-4d2c-932a-8f6ccc9e20db\",\"type\":\"LinearAxis\"}],\"left\":[{\"id\":\"49211926-3b6d-4c4d-bab7-20725873a87c\",\"type\":\"LinearAxis\"}],\"plot_height\":500,\"plot_width\":700,\"renderers\":[{\"id\":\"5c49c71e-a9e1-4d2c-932a-8f6ccc9e20db\",\"type\":\"LinearAxis\"},{\"id\":\"709acfa8-ed72-4163-bb51-e5092bb94fd1\",\"type\":\"Grid\"},{\"id\":\"49211926-3b6d-4c4d-bab7-20725873a87c\",\"type\":\"LinearAxis\"},{\"id\":\"9f20bf0d-d38b-4b12-9863-5c6496020829\",\"type\":\"Grid\"},{\"id\":\"7b0dba33-7b89-4952-89a1-7ba7471776ee\",\"type\":\"BoxAnnotation\"},{\"id\":\"67a30eb6-9086-4809-a255-f46f43a50609\",\"type\":\"GlyphRenderer\"}],\"title\":\"my title\",\"tool_events\":{\"id\":\"4e144746-83eb-404f-b8a7-46ae8a01e924\",\"type\":\"ToolEvents\"},\"tools\":[{\"id\":\"3ef01b0b-c7fb-4b44-8a57-967ef3b44d32\",\"type\":\"PanTool\"},{\"id\":\"32c0a9bf-2ee3-497c-9c2d-b54ddc5e76ff\",\"type\":\"WheelZoomTool\"},{\"id\":\"ebd8cb6b-de5c-4c58-b0fc-af77f2310f50\",\"type\":\"BoxZoomTool\"},{\"id\":\"4f4247ce-96bc-40fb-8cc1-4da6497e05bc\",\"type\":\"PreviewSaveTool\"},{\"id\":\"d39604e1-c107-4ae6-b081-bd3c763d4258\",\"type\":\"ResizeTool\"},{\"id\":\"8ba97d03-226a-4439-b432-37021f4652aa\",\"type\":\"ResetTool\"},{\"id\":\"92636bf2-f0c3-4fa0-8cd3-1a53818985b4\",\"type\":\"HelpTool\"}],\"x_range\":{\"id\":\"3d4b4d44-ccb4-4fd5-acbf-5712de651a83\",\"type\":\"DataRange1d\"},\"y_range\":{\"id\":\"465f5b52-5dc9-48fc-94b7-195f8c789803\",\"type\":\"DataRange1d\"}},\"id\":\"98886cf0-2141-4733-8ad7-d2df866e57a3\",\"subtype\":\"Figure\",\"type\":\"Plot\"},{\"attributes\":{\"callback\":null},\"id\":\"b022a52f-4a55-476b-85ec-a1e2056cd681\",\"type\":\"DataRange1d\"},{\"attributes\":{},\"id\":\"c2d17446-1119-4720-bba9-37613e1707aa\",\"type\":\"BasicTickFormatter\"},{\"attributes\":{\"plot\":{\"id\":\"9f51ac84-1c42-44ba-8b72-6e631b2d7b68\",\"subtype\":\"Figure\",\"type\":\"Plot\"}},\"id\":\"c882beae-4999-40f1-913a-5ff0f422a709\",\"type\":\"HelpTool\"},{\"attributes\":{},\"id\":\"b04934d3-d830-46cb-b576-18aa575d5456\",\"type\":\"BasicTicker\"},{\"attributes\":{\"plot\":{\"id\":\"9f51ac84-1c42-44ba-8b72-6e631b2d7b68\",\"subtype\":\"Figure\",\"type\":\"Plot\"},\"ticker\":{\"id\":\"2fd00334-b46d-4f54-826f-a2d4fb7dc0f2\",\"type\":\"BasicTicker\"}},\"id\":\"06070504-6c60-40ec-9c91-0f65b3832785\",\"type\":\"Grid\"},{\"attributes\":{},\"id\":\"49429d84-8ace-41f4-8b79-07e94dd35c92\",\"type\":\"BasicTickFormatter\"},{\"attributes\":{\"axis_label\":\"SI.POV.GINI\",\"formatter\":{\"id\":\"49429d84-8ace-41f4-8b79-07e94dd35c92\",\"type\":\"BasicTickFormatter\"},\"plot\":{\"id\":\"98886cf0-2141-4733-8ad7-d2df866e57a3\",\"subtype\":\"Figure\",\"type\":\"Plot\"},\"ticker\":{\"id\":\"b04934d3-d830-46cb-b576-18aa575d5456\",\"type\":\"BasicTicker\"}},\"id\":\"5c49c71e-a9e1-4d2c-932a-8f6ccc9e20db\",\"type\":\"LinearAxis\"},{\"attributes\":{\"fill_alpha\":{\"value\":0.5},\"fill_color\":{\"value\":\"navy\"},\"line_alpha\":{\"value\":0.5},\"line_color\":{\"value\":\"navy\"},\"size\":{\"units\":\"screen\",\"value\":10},\"x\":{\"field\":\"x\"},\"y\":{\"field\":\"y\"}},\"id\":\"fe4c5b85-9e31-43e8-86d6-865b7bf0e93d\",\"type\":\"Circle\"},{\"attributes\":{\"plot\":{\"id\":\"98886cf0-2141-4733-8ad7-d2df866e57a3\",\"subtype\":\"Figure\",\"type\":\"Plot\"}},\"id\":\"92636bf2-f0c3-4fa0-8cd3-1a53818985b4\",\"type\":\"HelpTool\"},{\"attributes\":{\"plot\":{\"id\":\"9f51ac84-1c42-44ba-8b72-6e631b2d7b68\",\"subtype\":\"Figure\",\"type\":\"Plot\"}},\"id\":\"fe31a12e-5864-4f4d-a375-21624c9e18de\",\"type\":\"PreviewSaveTool\"},{\"attributes\":{},\"id\":\"507462a5-efca-4302-844c-a97e5e501d0c\",\"type\":\"BasicTicker\"},{\"attributes\":{},\"id\":\"0fc36947-755b-46f5-a51a-6c5d5afda7d5\",\"type\":\"BasicTickFormatter\"},{\"attributes\":{\"plot\":{\"id\":\"98886cf0-2141-4733-8ad7-d2df866e57a3\",\"subtype\":\"Figure\",\"type\":\"Plot\"}},\"id\":\"4f4247ce-96bc-40fb-8cc1-4da6497e05bc\",\"type\":\"PreviewSaveTool\"},{\"attributes\":{\"fill_alpha\":{\"value\":0.1},\"fill_color\":{\"value\":\"#1f77b4\"},\"line_alpha\":{\"value\":0.1},\"line_color\":{\"value\":\"#1f77b4\"},\"size\":{\"units\":\"screen\",\"value\":10},\"x\":{\"field\":\"x\"},\"y\":{\"field\":\"y\"}},\"id\":\"5e462778-6201-45fd-83af-c552b5fd7ee3\",\"type\":\"Circle\"},{\"attributes\":{\"data_source\":{\"id\":\"ddc9abec-51a4-4f39-8968-d788eaca0ab1\",\"type\":\"ColumnDataSource\"},\"glyph\":{\"id\":\"fe4c5b85-9e31-43e8-86d6-865b7bf0e93d\",\"type\":\"Circle\"},\"hover_glyph\":null,\"nonselection_glyph\":{\"id\":\"5e462778-6201-45fd-83af-c552b5fd7ee3\",\"type\":\"Circle\"},\"selection_glyph\":null},\"id\":\"68adcd0c-ef94-4e6e-a6e2-af135a0a44bf\",\"type\":\"GlyphRenderer\"},{\"attributes\":{\"overlay\":{\"id\":\"7b0dba33-7b89-4952-89a1-7ba7471776ee\",\"type\":\"BoxAnnotation\"},\"plot\":{\"id\":\"98886cf0-2141-4733-8ad7-d2df866e57a3\",\"subtype\":\"Figure\",\"type\":\"Plot\"}},\"id\":\"ebd8cb6b-de5c-4c58-b0fc-af77f2310f50\",\"type\":\"BoxZoomTool\"},{\"attributes\":{\"bottom_units\":\"screen\",\"fill_alpha\":{\"value\":0.5},\"fill_color\":{\"value\":\"lightgrey\"},\"left_units\":\"screen\",\"level\":\"overlay\",\"line_alpha\":{\"value\":1.0},\"line_color\":{\"value\":\"black\"},\"line_dash\":[4,4],\"line_width\":{\"value\":2},\"plot\":null,\"render_mode\":\"css\",\"right_units\":\"screen\",\"top_units\":\"screen\"},\"id\":\"7b0dba33-7b89-4952-89a1-7ba7471776ee\",\"type\":\"BoxAnnotation\"},{\"attributes\":{\"callback\":null,\"column_names\":[\"y\",\"x\"],\"data\":{\"x\":[\"NaN\",0.465398,-0.411213,-0.943867,\"NaN\",1.1557,1.73015,-0.283423,-0.561694,1.44114,0.439124,1.8042,1.28946,-1.46338,-1.11107,1.03746,-0.911622,-0.630963,-0.985668,-0.203406,1.66805,-0.935507,-0.535419,-0.335972,-0.123388,-0.700232,0.525113,-0.384938,-0.749198,-0.564082,-1.43711,\"NaN\",-0.429127,0.940727,1.15689,0.279089,-1.24125,\"NaN\",0.547804,-1.05016,1.58684,0.758,0.556165,-0.279841,-1.32007,0.382992,\"NaN\",\"NaN\",2.98536,-0.297755,0.0235099,-1.32126,0.104722,-0.307309,0.213402,-1.65208,-0.69426,0.319695,0.416432,0.0378414],\"y\":[0.261822,0.377283,1.98603,-0.486082,-0.48604,-0.160544,2.20587,-0.477615,2.44508,-0.271066,2.54094,-0.152022,-0.496319,-0.487806,-0.499126,-0.49721,-0.189121,-0.334815,-0.399552,-0.470999,-0.47807,-0.48348,0.454213,0.0763528,0.0168187,-0.490519,-0.505889,-0.417248,-0.394341,-0.484049,0.36525,-0.481224,-0.512086,-0.406055,0.119414,-0.367752,-0.501976,-0.427277,-0.216666,-0.262171,-0.488746,-0.0965602,-0.415937,-0.483132,-0.438102,4.81426,0.186339,-0.512698,-0.118325,-0.350216,-0.492529,-0.380426,-0.346742,-0.462391,-0.262577,-0.324483,-0.434231,2.46261,-0.455996,-0.412066]}},\"id\":\"ddc9abec-51a4-4f39-8968-d788eaca0ab1\",\"type\":\"ColumnDataSource\"},{\"attributes\":{\"overlay\":{\"id\":\"89f93858-136e-4951-b800-4eb4b0948ac8\",\"type\":\"BoxAnnotation\"},\"plot\":{\"id\":\"9f51ac84-1c42-44ba-8b72-6e631b2d7b68\",\"subtype\":\"Figure\",\"type\":\"Plot\"}},\"id\":\"3efe922f-c018-493a-a186-53af302d8bd6\",\"type\":\"BoxZoomTool\"},{\"attributes\":{},\"id\":\"9cc27846-24c7-477d-b181-8b44d3e8e973\",\"type\":\"BasicTickFormatter\"},{\"attributes\":{},\"id\":\"4e144746-83eb-404f-b8a7-46ae8a01e924\",\"type\":\"ToolEvents\"},{\"attributes\":{\"plot\":{\"id\":\"9f51ac84-1c42-44ba-8b72-6e631b2d7b68\",\"subtype\":\"Figure\",\"type\":\"Plot\"}},\"id\":\"79319f16-3e34-43c3-9cbf-7bbf6a681603\",\"type\":\"ResetTool\"},{\"attributes\":{\"plot\":{\"id\":\"98886cf0-2141-4733-8ad7-d2df866e57a3\",\"subtype\":\"Figure\",\"type\":\"Plot\"}},\"id\":\"d39604e1-c107-4ae6-b081-bd3c763d4258\",\"type\":\"ResizeTool\"},{\"attributes\":{\"callback\":null},\"id\":\"465f5b52-5dc9-48fc-94b7-195f8c789803\",\"type\":\"DataRange1d\"},{\"attributes\":{\"plot\":{\"id\":\"9f51ac84-1c42-44ba-8b72-6e631b2d7b68\",\"subtype\":\"Figure\",\"type\":\"Plot\"}},\"id\":\"0878d9d8-01eb-4804-a6cd-30a753e55ff2\",\"type\":\"WheelZoomTool\"},{\"attributes\":{\"axis_label\":\"AG.LND.TOTL.K2\",\"formatter\":{\"id\":\"c2d17446-1119-4720-bba9-37613e1707aa\",\"type\":\"BasicTickFormatter\"},\"plot\":{\"id\":\"98886cf0-2141-4733-8ad7-d2df866e57a3\",\"subtype\":\"Figure\",\"type\":\"Plot\"},\"ticker\":{\"id\":\"507462a5-efca-4302-844c-a97e5e501d0c\",\"type\":\"BasicTicker\"}},\"id\":\"49211926-3b6d-4c4d-bab7-20725873a87c\",\"type\":\"LinearAxis\"},{\"attributes\":{\"bottom_units\":\"screen\",\"fill_alpha\":{\"value\":0.5},\"fill_color\":{\"value\":\"lightgrey\"},\"left_units\":\"screen\",\"level\":\"overlay\",\"line_alpha\":{\"value\":1.0},\"line_color\":{\"value\":\"black\"},\"line_dash\":[4,4],\"line_width\":{\"value\":2},\"plot\":null,\"render_mode\":\"css\",\"right_units\":\"screen\",\"top_units\":\"screen\"},\"id\":\"89f93858-136e-4951-b800-4eb4b0948ac8\",\"type\":\"BoxAnnotation\"},{\"attributes\":{\"dimension\":1,\"plot\":{\"id\":\"9f51ac84-1c42-44ba-8b72-6e631b2d7b68\",\"subtype\":\"Figure\",\"type\":\"Plot\"},\"ticker\":{\"id\":\"72bc74eb-ef1f-4332-a8ac-9f73e55af8a4\",\"type\":\"BasicTicker\"}},\"id\":\"8a82e8f9-a971-4e71-bb17-ae46e34a7bd1\",\"type\":\"Grid\"},{\"attributes\":{},\"id\":\"2fd00334-b46d-4f54-826f-a2d4fb7dc0f2\",\"type\":\"BasicTicker\"},{\"attributes\":{},\"id\":\"5ba652fa-e571-4549-ae60-a7352181184c\",\"type\":\"ToolEvents\"},{\"attributes\":{\"axis_label\":\"SI.POV.GINI\",\"formatter\":{\"id\":\"0fc36947-755b-46f5-a51a-6c5d5afda7d5\",\"type\":\"BasicTickFormatter\"},\"plot\":{\"id\":\"9f51ac84-1c42-44ba-8b72-6e631b2d7b68\",\"subtype\":\"Figure\",\"type\":\"Plot\"},\"ticker\":{\"id\":\"2fd00334-b46d-4f54-826f-a2d4fb7dc0f2\",\"type\":\"BasicTicker\"}},\"id\":\"0cf0b8ef-2a19-4b8b-87b4-ca28aefc4e9d\",\"type\":\"LinearAxis\"},{\"attributes\":{\"callback\":null},\"id\":\"3d4b4d44-ccb4-4fd5-acbf-5712de651a83\",\"type\":\"DataRange1d\"},{\"attributes\":{\"below\":[{\"id\":\"0cf0b8ef-2a19-4b8b-87b4-ca28aefc4e9d\",\"type\":\"LinearAxis\"}],\"left\":[{\"id\":\"75cc0437-8bbe-4cb2-be28-a895440b79d0\",\"type\":\"LinearAxis\"}],\"plot_height\":500,\"plot_width\":700,\"renderers\":[{\"id\":\"0cf0b8ef-2a19-4b8b-87b4-ca28aefc4e9d\",\"type\":\"LinearAxis\"},{\"id\":\"06070504-6c60-40ec-9c91-0f65b3832785\",\"type\":\"Grid\"},{\"id\":\"75cc0437-8bbe-4cb2-be28-a895440b79d0\",\"type\":\"LinearAxis\"},{\"id\":\"8a82e8f9-a971-4e71-bb17-ae46e34a7bd1\",\"type\":\"Grid\"},{\"id\":\"89f93858-136e-4951-b800-4eb4b0948ac8\",\"type\":\"BoxAnnotation\"},{\"id\":\"68adcd0c-ef94-4e6e-a6e2-af135a0a44bf\",\"type\":\"GlyphRenderer\"}],\"title\":\"my title\",\"tool_events\":{\"id\":\"5ba652fa-e571-4549-ae60-a7352181184c\",\"type\":\"ToolEvents\"},\"tools\":[{\"id\":\"03f8338f-17f8-4ff3-a2b8-d5b7d083989b\",\"type\":\"PanTool\"},{\"id\":\"0878d9d8-01eb-4804-a6cd-30a753e55ff2\",\"type\":\"WheelZoomTool\"},{\"id\":\"3efe922f-c018-493a-a186-53af302d8bd6\",\"type\":\"BoxZoomTool\"},{\"id\":\"fe31a12e-5864-4f4d-a375-21624c9e18de\",\"type\":\"PreviewSaveTool\"},{\"id\":\"3c967ead-9bce-4f77-bb3a-f6eb3163b8ed\",\"type\":\"ResizeTool\"},{\"id\":\"79319f16-3e34-43c3-9cbf-7bbf6a681603\",\"type\":\"ResetTool\"},{\"id\":\"c882beae-4999-40f1-913a-5ff0f422a709\",\"type\":\"HelpTool\"}],\"x_range\":{\"id\":\"b022a52f-4a55-476b-85ec-a1e2056cd681\",\"type\":\"DataRange1d\"},\"y_range\":{\"id\":\"cef785d1-f7f5-41f3-9a27-5931fecd845c\",\"type\":\"DataRange1d\"}},\"id\":\"9f51ac84-1c42-44ba-8b72-6e631b2d7b68\",\"subtype\":\"Figure\",\"type\":\"Plot\"},{\"attributes\":{\"plot\":{\"id\":\"98886cf0-2141-4733-8ad7-d2df866e57a3\",\"subtype\":\"Figure\",\"type\":\"Plot\"},\"ticker\":{\"id\":\"b04934d3-d830-46cb-b576-18aa575d5456\",\"type\":\"BasicTicker\"}},\"id\":\"709acfa8-ed72-4163-bb51-e5092bb94fd1\",\"type\":\"Grid\"},{\"attributes\":{\"data_source\":{\"id\":\"87f6817f-dc23-432e-8300-d0d714781bfa\",\"type\":\"ColumnDataSource\"},\"glyph\":{\"id\":\"507ae4d0-fd89-47ca-a319-4fb02df9c173\",\"type\":\"Circle\"},\"hover_glyph\":null,\"nonselection_glyph\":{\"id\":\"d3b863ea-66cc-4a0a-ab87-1e0c0799357b\",\"type\":\"Circle\"},\"selection_glyph\":null},\"id\":\"67a30eb6-9086-4809-a255-f46f43a50609\",\"type\":\"GlyphRenderer\"},{\"attributes\":{\"axis_label\":\"AG.LND.TOTL.K2\",\"formatter\":{\"id\":\"9cc27846-24c7-477d-b181-8b44d3e8e973\",\"type\":\"BasicTickFormatter\"},\"plot\":{\"id\":\"9f51ac84-1c42-44ba-8b72-6e631b2d7b68\",\"subtype\":\"Figure\",\"type\":\"Plot\"},\"ticker\":{\"id\":\"72bc74eb-ef1f-4332-a8ac-9f73e55af8a4\",\"type\":\"BasicTicker\"}},\"id\":\"75cc0437-8bbe-4cb2-be28-a895440b79d0\",\"type\":\"LinearAxis\"},{\"attributes\":{\"plot\":{\"id\":\"9f51ac84-1c42-44ba-8b72-6e631b2d7b68\",\"subtype\":\"Figure\",\"type\":\"Plot\"}},\"id\":\"03f8338f-17f8-4ff3-a2b8-d5b7d083989b\",\"type\":\"PanTool\"},{\"attributes\":{\"plot\":{\"id\":\"98886cf0-2141-4733-8ad7-d2df866e57a3\",\"subtype\":\"Figure\",\"type\":\"Plot\"}},\"id\":\"3ef01b0b-c7fb-4b44-8a57-967ef3b44d32\",\"type\":\"PanTool\"},{\"attributes\":{\"plot\":{\"id\":\"98886cf0-2141-4733-8ad7-d2df866e57a3\",\"subtype\":\"Figure\",\"type\":\"Plot\"}},\"id\":\"32c0a9bf-2ee3-497c-9c2d-b54ddc5e76ff\",\"type\":\"WheelZoomTool\"},{\"attributes\":{\"callback\":null},\"id\":\"cef785d1-f7f5-41f3-9a27-5931fecd845c\",\"type\":\"DataRange1d\"},{\"attributes\":{\"plot\":{\"id\":\"98886cf0-2141-4733-8ad7-d2df866e57a3\",\"subtype\":\"Figure\",\"type\":\"Plot\"}},\"id\":\"8ba97d03-226a-4439-b432-37021f4652aa\",\"type\":\"ResetTool\"},{\"attributes\":{\"dimension\":1,\"plot\":{\"id\":\"98886cf0-2141-4733-8ad7-d2df866e57a3\",\"subtype\":\"Figure\",\"type\":\"Plot\"},\"ticker\":{\"id\":\"507462a5-efca-4302-844c-a97e5e501d0c\",\"type\":\"BasicTicker\"}},\"id\":\"9f20bf0d-d38b-4b12-9863-5c6496020829\",\"type\":\"Grid\"},{\"attributes\":{},\"id\":\"72bc74eb-ef1f-4332-a8ac-9f73e55af8a4\",\"type\":\"BasicTicker\"},{\"attributes\":{\"fill_alpha\":{\"value\":0.1},\"fill_color\":{\"value\":\"#1f77b4\"},\"line_alpha\":{\"value\":0.1},\"line_color\":{\"value\":\"#1f77b4\"},\"size\":{\"units\":\"screen\",\"value\":10},\"x\":{\"field\":\"x\"},\"y\":{\"field\":\"y\"}},\"id\":\"d3b863ea-66cc-4a0a-ab87-1e0c0799357b\",\"type\":\"Circle\"}],\"root_ids\":[\"9f51ac84-1c42-44ba-8b72-6e631b2d7b68\",\"98886cf0-2141-4733-8ad7-d2df866e57a3\"]},\"title\":\"Bokeh Application\",\"version\":\"0.11.1\"}};\n",
       "            var render_items = [{\"docid\":\"875cf799-5343-437f-9667-5cb36a7e3e5c\",\"elementid\":\"7c7c6e27-0e94-4d1b-97be-07937cf68ea5\",\"modelid\":\"98886cf0-2141-4733-8ad7-d2df866e57a3\",\"notebook_comms_target\":\"be5f25b9-c593-4319-a3c7-2dc2c63d7385\"}];\n",
       "            \n",
       "            Bokeh.embed.embed_items(docs_json, render_items);\n",
       "        });\n",
       "      },\n",
       "      function(Bokeh) {\n",
       "      }\n",
       "    ];\n",
       "  \n",
       "    function run_inline_js() {\n",
       "      for (var i = 0; i < inline_js.length; i++) {\n",
       "        inline_js[i](window.Bokeh);\n",
       "      }\n",
       "    }\n",
       "  \n",
       "    if (window._bokeh_is_loading === 0) {\n",
       "      console.log(\"Bokeh: BokehJS loaded, going straight to plotting\");\n",
       "      run_inline_js();\n",
       "    } else {\n",
       "      load_libs(js_urls, function() {\n",
       "        console.log(\"Bokeh: BokehJS plotting callback run at\", now());\n",
       "        run_inline_js();\n",
       "      });\n",
       "    }\n",
       "  }(this));\n",
       "</script>"
      ]
     },
     "metadata": {},
     "output_type": "display_data"
    }
   ],
   "source": [
    "# opens in browser\n",
    "output_file('temp.html')\n",
    "show(p)"
   ]
  },
  {
   "cell_type": "code",
   "execution_count": 0,
   "metadata": {
    "autoscroll": "json-false",
    "collapsed": false,
    "ein.tags": [
     "worksheet-0"
    ]
   },
   "outputs": [],
   "source": []
  }
 ],
 "metadata": {
  "kernelspec": {
   "display_name": "Python 2",
   "name": "python2"
  },
  "language_info": {
   "codemirror_mode": {
    "name": "ipython",
    "version": 2
   },
   "file_extension": ".py",
   "mimetype": "text/x-python",
   "name": "python",
   "nbconvert_exporter": "python",
   "pygments_lexer": "ipython2",
   "version": "2.7.11"
  },
  "name": "2-creating-my-pg-database-python.ipynb"
 },
 "nbformat": 4,
 "nbformat_minor": 0
}
