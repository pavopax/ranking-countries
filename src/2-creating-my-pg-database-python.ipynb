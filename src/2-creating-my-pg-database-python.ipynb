{
 "cells": [
  {
   "cell_type": "code",
   "execution_count": 134,
   "metadata": {
    "autoscroll": "json-false",
    "collapsed": false,
    "ein.tags": [
     "worksheet-0"
    ]
   },
   "outputs": [],
   "source": [
    "import psycopg2\n",
    "import pandas as pd\n",
    "from bokeh.plotting import figure, show, output_file"
   ]
  },
  {
   "cell_type": "code",
   "execution_count": 135,
   "metadata": {
    "autoscroll": "json-false",
    "collapsed": false,
    "ein.tags": [
     "worksheet-0"
    ]
   },
   "outputs": [],
   "source": [
    "#  HEROKU - SAVE\n",
    "\n",
    "# see next block\n",
    "# http://blog.y3xz.com/blog/2012/08/16/flask-and-postgresql-on-heroku\n",
    "# app.config['SQLALCHEMY_DATABASE_URI'] = os.environ['DATABASE_URL']\n",
    "# db = SQLAlchemy(app)\n",
    "\n",
    "\n",
    "# conn = psycopg2.connect(\n",
    "#     database=pawel,\n",
    "#     user=url.username,\n",
    "#     password=url.password,\n",
    "#     host=url.hostname,\n",
    "#     port=url.port\n",
    "# )"
   ]
  },
  {
   "cell_type": "code",
   "execution_count": 0,
   "metadata": {
    "autoscroll": "json-false",
    "collapsed": false,
    "ein.tags": [
     "worksheet-0"
    ]
   },
   "outputs": [],
   "source": [
    "# http://stackoverflow.com/questions/31473457/converting-query-results-into-dataframe-in-python\n",
    "# QUOTES ARE important: \"\"\" vs ' vs \"\n",
    "# http://www.postgresql.org/docs/current/static/sql-syntax-lexical.html#SQL-SYNTAX-IDENTIFIERS"
   ]
  },
  {
   "cell_type": "code",
   "execution_count": 194,
   "metadata": {
    "autoscroll": "json-false",
    "collapsed": false,
    "ein.tags": [
     "worksheet-0"
    ]
   },
   "outputs": [
    {
     "data": {
      "text/plain": [
       "\"('AG.LND.TOTL.K2', 'IS.AIR.PSGR')\""
      ]
     },
     "execution_count": 194,
     "metadata": {},
     "output_type": "execute_result"
    },
    {
     "name": "stdout",
     "output_type": "stream",
     "text": [
      "('AG.LND.TOTL.K2', 'IS.AIR.PSGR')\n"
     ]
    }
   ],
   "source": [
    "\n",
    "indicators = [('AG.LND.TOTL.K2', 'Land area (sq. km)'),\n",
    "              ('EN.POP.DNST', 'Population density (people per sq. km of land area)'),\n",
    "              ('ER.BDV.TOTL.XQ', 'GEF benefits index for biodiversity (0 = no biodiversity potential to 100 = maximum)'),\n",
    "              ('VC.PKP.TOTL.UN', 'Presence of peace keepers (number of troops, police, and military observers in mandate)')]\n",
    "#ind1 = app.vars['i1']\n",
    "# ind2 = app.vars['i2']\n",
    "\n",
    "ind1 = 'AG.LND.TOTL.K2'\n",
    "ind2 = 'IS.AIR.PSGR'\n",
    "ind = (ind1, ind2)\n",
    "print ind\n",
    "repr(ind)"
   ]
  },
  {
   "cell_type": "code",
   "execution_count": 198,
   "metadata": {
    "autoscroll": "json-false",
    "collapsed": false,
    "ein.tags": [
     "worksheet-0"
    ]
   },
   "outputs": [
    {
     "name": "stdout",
     "output_type": "stream",
     "text": [
      "SELECT country, indicator, zscore from usn WHERE indicator IN (%s, %s);\n",
      "     country       indicator    zscore\n",
      "0    Algeria  AG.LND.TOTL.K2  0.261822\n",
      "1    Algeria     IS.AIR.PSGR -0.403979\n",
      "2  Argentina  AG.LND.TOTL.K2  0.377283\n",
      "3  Argentina     IS.AIR.PSGR -0.356186\n",
      "4  Australia  AG.LND.TOTL.K2  1.986030\n",
      "indicator   AG.LND.TOTL.K2  IS.AIR.PSGR\n",
      "country                                \n",
      "Algeria           0.261822    -0.403979\n",
      "Argentina         0.377283    -0.356186\n",
      "Australia         1.986030     0.163806\n",
      "Austria          -0.486082    -0.309165\n",
      "Azerbaijan       -0.486040    -0.430303\n"
     ]
    }
   ],
   "source": [
    "conn = psycopg2.connect(database=\"wb_indicators\")\n",
    "#query = \"\"\"SELECT \"Country\", \"Indicator\", \"zscore\" from usn WHERE \"Indicator\" IN ('AG.LND.TOTL.K2', 'SI.POV.GINI');\"\"\"\n",
    "query = \"\"\"SELECT country, indicator, zscore from usn WHERE indicator IN (%s, %s);\"\"\"\n",
    "print query\n",
    "cursor = conn.cursor()\n",
    "cursor.execute(query, (ind1, ind2))\n",
    "df0=pd.DataFrame(cursor.fetchall(), columns=['country', 'indicator', 'zscore'])\n",
    "\n",
    "# conn.commit();\n",
    "# conn.close();\n",
    "\n",
    "df = df0.pivot('country', 'indicator')\n",
    "df = df.zscore\n",
    "\n",
    "print df0.head()\n",
    "print df.head()"
   ]
  },
  {
   "cell_type": "code",
   "execution_count": 178,
   "metadata": {
    "autoscroll": "json-false",
    "collapsed": false,
    "ein.tags": [
     "worksheet-0"
    ]
   },
   "outputs": [
    {
     "name": "stdout",
     "output_type": "stream",
     "text": [
      "Land area (sq. km)\n"
     ]
    }
   ],
   "source": [
    "# get labels\n",
    "query = \"\"\"SELECT Indicator, Label from codes WHERE Indicator IN (%s, %s);\"\"\"\n",
    "cursor.execute(query, (ind1, ind2) )\n",
    "\n",
    "x = cursor.fetchall()\n",
    "print x[0][1]"
   ]
  },
  {
   "cell_type": "code",
   "execution_count": 0,
   "metadata": {
    "autoscroll": "json-false",
    "collapsed": false,
    "ein.tags": [
     "worksheet-0"
    ]
   },
   "outputs": [],
   "source": []
  },
  {
   "cell_type": "code",
   "execution_count": 192,
   "metadata": {
    "autoscroll": "json-false",
    "collapsed": false,
    "ein.tags": [
     "worksheet-0"
    ]
   },
   "outputs": [],
   "source": [
    "p = figure(width=700, height=500, title = 'my title',\n",
    "\t   x_axis_label = df.columns[1], y_axis_label = df.columns[0])\n",
    "p.circle(x=df[df.columns[1]], y=df[df.columns[0]], size=10,\n",
    "\t color=\"navy\", alpha=0.5)\n",
    "p.xaxis.axis_label_text_font_size = \"10pt\"\n",
    "p.yaxis.axis_label_text_font_size = \"10pt\""
   ]
  },
  {
   "cell_type": "code",
   "execution_count": 193,
   "metadata": {
    "autoscroll": "json-false",
    "collapsed": false,
    "ein.tags": [
     "worksheet-0"
    ]
   },
   "outputs": [
    {
     "data": {
      "text/plain": [
       "<bokeh.io._CommsHandle at 0x1122d09d0>"
      ]
     },
     "execution_count": 193,
     "metadata": {},
     "output_type": "execute_result"
    },
    {
     "data": {
      "text/html": [
       "\n",
       "\n",
       "    <div class=\"plotdiv\" id=\"d3f23930-7d68-40b9-9a5b-7cf0b3bfdfa6\"></div>\n",
       "<script type=\"text/javascript\">\n",
       "  \n",
       "  (function(global) {\n",
       "    function now() {\n",
       "      return new Date();\n",
       "    }\n",
       "  \n",
       "    if (typeof (window._bokeh_onload_callbacks) === \"undefined\") {\n",
       "      window._bokeh_onload_callbacks = [];\n",
       "    }\n",
       "  \n",
       "    function run_callbacks() {\n",
       "      window._bokeh_onload_callbacks.forEach(function(callback) { callback() });\n",
       "      delete window._bokeh_onload_callbacks\n",
       "      console.info(\"Bokeh: all callbacks have finished\");\n",
       "    }\n",
       "  \n",
       "    function load_libs(js_urls, callback) {\n",
       "      window._bokeh_onload_callbacks.push(callback);\n",
       "      if (window._bokeh_is_loading > 0) {\n",
       "        console.log(\"Bokeh: BokehJS is being loaded, scheduling callback at\", now());\n",
       "        return null;\n",
       "      }\n",
       "      if (js_urls == null || js_urls.length === 0) {\n",
       "        run_callbacks();\n",
       "        return null;\n",
       "      }\n",
       "      console.log(\"Bokeh: BokehJS not loaded, scheduling load and callback at\", now());\n",
       "      window._bokeh_is_loading = js_urls.length;\n",
       "      for (var i = 0; i < js_urls.length; i++) {\n",
       "        var url = js_urls[i];\n",
       "        var s = document.createElement('script');\n",
       "        s.src = url;\n",
       "        s.async = false;\n",
       "        s.onreadystatechange = s.onload = function() {\n",
       "          window._bokeh_is_loading--;\n",
       "          if (window._bokeh_is_loading === 0) {\n",
       "            console.log(\"Bokeh: all BokehJS libraries loaded\");\n",
       "            run_callbacks()\n",
       "          }\n",
       "        };\n",
       "        s.onerror = function() {\n",
       "          console.warn(\"failed to load library \" + url);\n",
       "        };\n",
       "        console.log(\"Bokeh: injecting script tag for BokehJS library: \", url);\n",
       "        document.getElementsByTagName(\"head\")[0].appendChild(s);\n",
       "      }\n",
       "    };var element = document.getElementById(\"d3f23930-7d68-40b9-9a5b-7cf0b3bfdfa6\");\n",
       "    if (element == null) {\n",
       "      console.log(\"Bokeh: ERROR: autoload.js configured with elementid 'd3f23930-7d68-40b9-9a5b-7cf0b3bfdfa6' but no matching script tag was found. \")\n",
       "      return false;\n",
       "    }\n",
       "  \n",
       "    var js_urls = [];\n",
       "  \n",
       "    var inline_js = [\n",
       "      function(Bokeh) {\n",
       "        Bokeh.$(function() {\n",
       "            var docs_json = {\"cce1c16e-7b7f-4098-8baf-7cbcb3824712\":{\"roots\":{\"references\":[{\"attributes\":{\"plot\":{\"id\":\"297c3f67-6772-4594-b334-749e006822da\",\"subtype\":\"Figure\",\"type\":\"Plot\"},\"ticker\":{\"id\":\"73c03843-5d4e-4d36-aa05-688d2a937460\",\"type\":\"BasicTicker\"}},\"id\":\"73c4f898-f2e1-453d-9ad5-249e431a437e\",\"type\":\"Grid\"},{\"attributes\":{\"axis_label\":\"AG.LND.TOTL.K2\",\"formatter\":{\"id\":\"15d29ddd-afa7-46d3-b55f-f5b905422d14\",\"type\":\"BasicTickFormatter\"},\"plot\":{\"id\":\"e8c886e4-fb3b-469b-befe-49bf6f7a1b7f\",\"subtype\":\"Figure\",\"type\":\"Plot\"},\"ticker\":{\"id\":\"0ebba8b7-3824-4b86-afe4-0c49f7ca052c\",\"type\":\"BasicTicker\"}},\"id\":\"9dceda28-99eb-4de8-b51e-44eed689eb04\",\"type\":\"LinearAxis\"},{\"attributes\":{\"dimension\":1,\"plot\":{\"id\":\"9f51ac84-1c42-44ba-8b72-6e631b2d7b68\",\"subtype\":\"Figure\",\"type\":\"Plot\"},\"ticker\":{\"id\":\"72bc74eb-ef1f-4332-a8ac-9f73e55af8a4\",\"type\":\"BasicTicker\"}},\"id\":\"8a82e8f9-a971-4e71-bb17-ae46e34a7bd1\",\"type\":\"Grid\"},{\"attributes\":{},\"id\":\"5edae0e4-365d-43c9-b298-126680729dc0\",\"type\":\"BasicTicker\"},{\"attributes\":{\"callback\":null},\"id\":\"cef785d1-f7f5-41f3-9a27-5931fecd845c\",\"type\":\"DataRange1d\"},{\"attributes\":{\"fill_alpha\":{\"value\":0.5},\"fill_color\":{\"value\":\"navy\"},\"line_alpha\":{\"value\":0.5},\"line_color\":{\"value\":\"navy\"},\"size\":{\"units\":\"screen\",\"value\":10},\"x\":{\"field\":\"x\"},\"y\":{\"field\":\"y\"}},\"id\":\"507ae4d0-fd89-47ca-a319-4fb02df9c173\",\"type\":\"Circle\"},{\"attributes\":{},\"id\":\"49429d84-8ace-41f4-8b79-07e94dd35c92\",\"type\":\"BasicTickFormatter\"},{\"attributes\":{\"axis_label\":\"SI.POV.GINI\",\"formatter\":{\"id\":\"49429d84-8ace-41f4-8b79-07e94dd35c92\",\"type\":\"BasicTickFormatter\"},\"plot\":{\"id\":\"98886cf0-2141-4733-8ad7-d2df866e57a3\",\"subtype\":\"Figure\",\"type\":\"Plot\"},\"ticker\":{\"id\":\"b04934d3-d830-46cb-b576-18aa575d5456\",\"type\":\"BasicTicker\"}},\"id\":\"5c49c71e-a9e1-4d2c-932a-8f6ccc9e20db\",\"type\":\"LinearAxis\"},{\"attributes\":{\"fill_alpha\":{\"value\":0.5},\"fill_color\":{\"value\":\"navy\"},\"line_alpha\":{\"value\":0.5},\"line_color\":{\"value\":\"navy\"},\"size\":{\"units\":\"screen\",\"value\":10},\"x\":{\"field\":\"x\"},\"y\":{\"field\":\"y\"}},\"id\":\"fe4c5b85-9e31-43e8-86d6-865b7bf0e93d\",\"type\":\"Circle\"},{\"attributes\":{},\"id\":\"78989267-e618-4b39-b3dc-ec71f137ae89\",\"type\":\"BasicTickFormatter\"},{\"attributes\":{\"plot\":{\"id\":\"98886cf0-2141-4733-8ad7-d2df866e57a3\",\"subtype\":\"Figure\",\"type\":\"Plot\"}},\"id\":\"4f4247ce-96bc-40fb-8cc1-4da6497e05bc\",\"type\":\"PreviewSaveTool\"},{\"attributes\":{\"bottom_units\":\"screen\",\"fill_alpha\":{\"value\":0.5},\"fill_color\":{\"value\":\"lightgrey\"},\"left_units\":\"screen\",\"level\":\"overlay\",\"line_alpha\":{\"value\":1.0},\"line_color\":{\"value\":\"black\"},\"line_dash\":[4,4],\"line_width\":{\"value\":2},\"plot\":null,\"render_mode\":\"css\",\"right_units\":\"screen\",\"top_units\":\"screen\"},\"id\":\"6cfacb71-75a6-4717-b65c-5ca09e4f1a9d\",\"type\":\"BoxAnnotation\"},{\"attributes\":{\"axis_label\":\"IS.AIR.PSGR\",\"axis_label_text_font_size\":{\"value\":\"10pt\"},\"formatter\":{\"id\":\"0d7c117d-63d3-41d2-ae16-56fd898cab90\",\"type\":\"BasicTickFormatter\"},\"plot\":{\"id\":\"aecdc96b-1745-4726-83b6-98e86cdce1cc\",\"subtype\":\"Figure\",\"type\":\"Plot\"},\"ticker\":{\"id\":\"8dacdcec-aa31-4511-8209-206c2c6e226c\",\"type\":\"BasicTicker\"}},\"id\":\"228925d9-9c92-41bf-8198-63b748400f44\",\"type\":\"LinearAxis\"},{\"attributes\":{\"plot\":{\"id\":\"297c3f67-6772-4594-b334-749e006822da\",\"subtype\":\"Figure\",\"type\":\"Plot\"}},\"id\":\"862215ce-da53-4a51-8cbc-4aef518ca045\",\"type\":\"PanTool\"},{\"attributes\":{\"callback\":null,\"column_names\":[\"y\",\"x\"],\"data\":{\"x\":[\"NaN\",0.465398,-0.411213,-0.943867,\"NaN\",1.1557,1.73015,-0.283423,-0.561694,1.44114,0.439124,1.8042,1.28946,-1.46338,-1.11107,1.03746,-0.911622,-0.630963,-0.985668,-0.203406,1.66805,-0.935507,-0.535419,-0.335972,-0.123388,-0.700232,0.525113,-0.384938,-0.749198,-0.564082,-1.43711,\"NaN\",-0.429127,0.940727,1.15689,0.279089,-1.24125,\"NaN\",0.547804,-1.05016,1.58684,0.758,0.556165,-0.279841,-1.32007,0.382992,\"NaN\",\"NaN\",2.98536,-0.297755,0.0235099,-1.32126,0.104722,-0.307309,0.213402,-1.65208,-0.69426,0.319695,0.416432,0.0378414],\"y\":[0.261822,0.377283,1.98603,-0.486082,-0.48604,-0.160544,2.20587,-0.477615,2.44508,-0.271066,2.54094,-0.152022,-0.496319,-0.487806,-0.499126,-0.49721,-0.189121,-0.334815,-0.399552,-0.470999,-0.47807,-0.48348,0.454213,0.0763528,0.0168187,-0.490519,-0.505889,-0.417248,-0.394341,-0.484049,0.36525,-0.481224,-0.512086,-0.406055,0.119414,-0.367752,-0.501976,-0.427277,-0.216666,-0.262171,-0.488746,-0.0965602,-0.415937,-0.483132,-0.438102,4.81426,0.186339,-0.512698,-0.118325,-0.350216,-0.492529,-0.380426,-0.346742,-0.462391,-0.262577,-0.324483,-0.434231,2.46261,-0.455996,-0.412066]}},\"id\":\"ddc9abec-51a4-4f39-8968-d788eaca0ab1\",\"type\":\"ColumnDataSource\"},{\"attributes\":{\"plot\":{\"id\":\"aecdc96b-1745-4726-83b6-98e86cdce1cc\",\"subtype\":\"Figure\",\"type\":\"Plot\"}},\"id\":\"03d4ba42-30b8-4b18-a01e-c34a8a2f789f\",\"type\":\"HelpTool\"},{\"attributes\":{\"plot\":{\"id\":\"9f51ac84-1c42-44ba-8b72-6e631b2d7b68\",\"subtype\":\"Figure\",\"type\":\"Plot\"}},\"id\":\"79319f16-3e34-43c3-9cbf-7bbf6a681603\",\"type\":\"ResetTool\"},{\"attributes\":{},\"id\":\"541f9563-a0d0-4c14-9dfe-ecd060876e8c\",\"type\":\"BasicTicker\"},{\"attributes\":{},\"id\":\"9cc27846-24c7-477d-b181-8b44d3e8e973\",\"type\":\"BasicTickFormatter\"},{\"attributes\":{\"bottom_units\":\"screen\",\"fill_alpha\":{\"value\":0.5},\"fill_color\":{\"value\":\"lightgrey\"},\"left_units\":\"screen\",\"level\":\"overlay\",\"line_alpha\":{\"value\":1.0},\"line_color\":{\"value\":\"black\"},\"line_dash\":[4,4],\"line_width\":{\"value\":2},\"plot\":null,\"render_mode\":\"css\",\"right_units\":\"screen\",\"top_units\":\"screen\"},\"id\":\"c5272654-6429-49ed-bbec-78b7b44cfac7\",\"type\":\"BoxAnnotation\"},{\"attributes\":{\"plot\":{\"id\":\"e8c886e4-fb3b-469b-befe-49bf6f7a1b7f\",\"subtype\":\"Figure\",\"type\":\"Plot\"}},\"id\":\"6e0392eb-6235-4b3f-9286-09345df32db7\",\"type\":\"HelpTool\"},{\"attributes\":{\"callback\":null},\"id\":\"1ade958f-f7a2-4aea-b677-a4d7628b2170\",\"type\":\"DataRange1d\"},{\"attributes\":{},\"id\":\"c2d17446-1119-4720-bba9-37613e1707aa\",\"type\":\"BasicTickFormatter\"},{\"attributes\":{},\"id\":\"15d29ddd-afa7-46d3-b55f-f5b905422d14\",\"type\":\"BasicTickFormatter\"},{\"attributes\":{\"fill_alpha\":{\"value\":0.1},\"fill_color\":{\"value\":\"#1f77b4\"},\"line_alpha\":{\"value\":0.1},\"line_color\":{\"value\":\"#1f77b4\"},\"size\":{\"units\":\"screen\",\"value\":10},\"x\":{\"field\":\"x\"},\"y\":{\"field\":\"y\"}},\"id\":\"5346f7dd-4ab0-404c-96dc-44651938fee5\",\"type\":\"Circle\"},{\"attributes\":{\"below\":[{\"id\":\"228925d9-9c92-41bf-8198-63b748400f44\",\"type\":\"LinearAxis\"}],\"left\":[{\"id\":\"06229978-3ede-4518-a810-0e6308efb61a\",\"type\":\"LinearAxis\"}],\"plot_height\":500,\"plot_width\":700,\"renderers\":[{\"id\":\"228925d9-9c92-41bf-8198-63b748400f44\",\"type\":\"LinearAxis\"},{\"id\":\"59871600-aed6-4cfc-9bbc-4dea49e944b8\",\"type\":\"Grid\"},{\"id\":\"06229978-3ede-4518-a810-0e6308efb61a\",\"type\":\"LinearAxis\"},{\"id\":\"fc223dbb-e104-4853-bbe1-ba6cfd870b6d\",\"type\":\"Grid\"},{\"id\":\"07dc1d95-9299-468b-ba6d-bdfae5ed5098\",\"type\":\"BoxAnnotation\"},{\"id\":\"79d24b22-0d3d-473c-85f3-4751d464d0f0\",\"type\":\"GlyphRenderer\"}],\"title\":\"my title\",\"tool_events\":{\"id\":\"996770f7-6d7e-4a75-a263-da5729d026b1\",\"type\":\"ToolEvents\"},\"tools\":[{\"id\":\"8acdd9ed-18dd-474b-a9eb-09e56be73455\",\"type\":\"PanTool\"},{\"id\":\"34434a97-a682-409b-bafd-2a39cf740218\",\"type\":\"WheelZoomTool\"},{\"id\":\"078ca04d-167f-4c29-902e-77e15e24a8b0\",\"type\":\"BoxZoomTool\"},{\"id\":\"f4aa3397-bd80-42d0-9e8b-06b7d4c6f3c5\",\"type\":\"PreviewSaveTool\"},{\"id\":\"1e6f5f0e-57b7-4b45-bdff-9e0ccc55b0ac\",\"type\":\"ResizeTool\"},{\"id\":\"7b876c96-1c4d-45f8-b494-6d7634bfaf91\",\"type\":\"ResetTool\"},{\"id\":\"03d4ba42-30b8-4b18-a01e-c34a8a2f789f\",\"type\":\"HelpTool\"}],\"x_range\":{\"id\":\"36caaa29-5c98-4efb-b728-4165281b0fb6\",\"type\":\"DataRange1d\"},\"y_range\":{\"id\":\"1ade958f-f7a2-4aea-b677-a4d7628b2170\",\"type\":\"DataRange1d\"}},\"id\":\"aecdc96b-1745-4726-83b6-98e86cdce1cc\",\"subtype\":\"Figure\",\"type\":\"Plot\"},{\"attributes\":{\"dimension\":1,\"plot\":{\"id\":\"75b6bc90-eb69-4284-8244-2eeefce64755\",\"subtype\":\"Figure\",\"type\":\"Plot\"},\"ticker\":{\"id\":\"cb6a4ac2-88e4-4ed8-a0a6-f4347ed8482c\",\"type\":\"BasicTicker\"}},\"id\":\"36073fbf-f77a-4d51-b05d-86bdece75dec\",\"type\":\"Grid\"},{\"attributes\":{\"plot\":{\"id\":\"9f51ac84-1c42-44ba-8b72-6e631b2d7b68\",\"subtype\":\"Figure\",\"type\":\"Plot\"}},\"id\":\"03f8338f-17f8-4ff3-a2b8-d5b7d083989b\",\"type\":\"PanTool\"},{\"attributes\":{\"plot\":{\"id\":\"98886cf0-2141-4733-8ad7-d2df866e57a3\",\"subtype\":\"Figure\",\"type\":\"Plot\"}},\"id\":\"32c0a9bf-2ee3-497c-9c2d-b54ddc5e76ff\",\"type\":\"WheelZoomTool\"},{\"attributes\":{\"dimension\":1,\"plot\":{\"id\":\"aecdc96b-1745-4726-83b6-98e86cdce1cc\",\"subtype\":\"Figure\",\"type\":\"Plot\"},\"ticker\":{\"id\":\"d47530c2-058d-4969-bc17-4fe05b680df9\",\"type\":\"BasicTicker\"}},\"id\":\"fc223dbb-e104-4853-bbe1-ba6cfd870b6d\",\"type\":\"Grid\"},{\"attributes\":{\"plot\":{\"id\":\"98886cf0-2141-4733-8ad7-d2df866e57a3\",\"subtype\":\"Figure\",\"type\":\"Plot\"}},\"id\":\"8ba97d03-226a-4439-b432-37021f4652aa\",\"type\":\"ResetTool\"},{\"attributes\":{\"plot\":{\"id\":\"75b6bc90-eb69-4284-8244-2eeefce64755\",\"subtype\":\"Figure\",\"type\":\"Plot\"}},\"id\":\"d51d1f62-4d72-49ef-b19b-d6872cb7bbc8\",\"type\":\"PanTool\"},{\"attributes\":{\"plot\":{\"id\":\"297c3f67-6772-4594-b334-749e006822da\",\"subtype\":\"Figure\",\"type\":\"Plot\"}},\"id\":\"99e91860-7d4b-483f-a3de-c15e88824ee7\",\"type\":\"ResizeTool\"},{\"attributes\":{\"plot\":{\"id\":\"e8c886e4-fb3b-469b-befe-49bf6f7a1b7f\",\"subtype\":\"Figure\",\"type\":\"Plot\"}},\"id\":\"725a81f7-12a9-4bde-8186-243762b34514\",\"type\":\"PreviewSaveTool\"},{\"attributes\":{\"plot\":{\"id\":\"75b6bc90-eb69-4284-8244-2eeefce64755\",\"subtype\":\"Figure\",\"type\":\"Plot\"}},\"id\":\"a9f4a444-92c1-41fa-957e-f870d9981352\",\"type\":\"ResetTool\"},{\"attributes\":{\"data_source\":{\"id\":\"17f27b25-596e-444e-9014-fbe373e7c0ac\",\"type\":\"ColumnDataSource\"},\"glyph\":{\"id\":\"62337725-4eb3-4438-a01c-9ac748f74f18\",\"type\":\"Circle\"},\"hover_glyph\":null,\"nonselection_glyph\":{\"id\":\"5346f7dd-4ab0-404c-96dc-44651938fee5\",\"type\":\"Circle\"},\"selection_glyph\":null},\"id\":\"938eb01d-708c-45c9-8861-ceb3beb5c2ad\",\"type\":\"GlyphRenderer\"},{\"attributes\":{},\"id\":\"996770f7-6d7e-4a75-a263-da5729d026b1\",\"type\":\"ToolEvents\"},{\"attributes\":{\"plot\":{\"id\":\"9f51ac84-1c42-44ba-8b72-6e631b2d7b68\",\"subtype\":\"Figure\",\"type\":\"Plot\"}},\"id\":\"3c967ead-9bce-4f77-bb3a-f6eb3163b8ed\",\"type\":\"ResizeTool\"},{\"attributes\":{},\"id\":\"adbd7b56-3859-4701-a548-23125bb399b2\",\"type\":\"ToolEvents\"},{\"attributes\":{\"axis_label\":\"AG.LND.TOTL.K2\",\"formatter\":{\"id\":\"78989267-e618-4b39-b3dc-ec71f137ae89\",\"type\":\"BasicTickFormatter\"},\"plot\":{\"id\":\"75b6bc90-eb69-4284-8244-2eeefce64755\",\"subtype\":\"Figure\",\"type\":\"Plot\"},\"ticker\":{\"id\":\"cb6a4ac2-88e4-4ed8-a0a6-f4347ed8482c\",\"type\":\"BasicTicker\"}},\"id\":\"ea5571c8-2a65-49cc-832f-14f88a521980\",\"type\":\"LinearAxis\"},{\"attributes\":{\"plot\":{\"id\":\"75b6bc90-eb69-4284-8244-2eeefce64755\",\"subtype\":\"Figure\",\"type\":\"Plot\"}},\"id\":\"9893c0d2-18c8-4cef-a91b-bcf337ec8f16\",\"type\":\"HelpTool\"},{\"attributes\":{},\"id\":\"00e6355e-5656-4428-a1cd-2fc8a776625d\",\"type\":\"BasicTickFormatter\"},{\"attributes\":{\"axis_label\":\"AG.LND.TOTL.K2\",\"axis_label_text_font_size\":{\"value\":\"8pt\"},\"formatter\":{\"id\":\"89da4fab-e492-480b-834f-f0461ad0d436\",\"type\":\"BasicTickFormatter\"},\"plot\":{\"id\":\"297c3f67-6772-4594-b334-749e006822da\",\"subtype\":\"Figure\",\"type\":\"Plot\"},\"ticker\":{\"id\":\"fc3c61b2-9a47-44b4-954a-ef914a0be97e\",\"type\":\"BasicTicker\"}},\"id\":\"e8c4b9f5-e0a4-49ac-a047-3f8cceb90973\",\"type\":\"LinearAxis\"},{\"attributes\":{\"below\":[{\"id\":\"75a3f500-a8a7-4ae8-88a7-36d49b2942b5\",\"type\":\"LinearAxis\"}],\"left\":[{\"id\":\"e8c4b9f5-e0a4-49ac-a047-3f8cceb90973\",\"type\":\"LinearAxis\"}],\"plot_height\":500,\"plot_width\":700,\"renderers\":[{\"id\":\"75a3f500-a8a7-4ae8-88a7-36d49b2942b5\",\"type\":\"LinearAxis\"},{\"id\":\"73c4f898-f2e1-453d-9ad5-249e431a437e\",\"type\":\"Grid\"},{\"id\":\"e8c4b9f5-e0a4-49ac-a047-3f8cceb90973\",\"type\":\"LinearAxis\"},{\"id\":\"88ee81ce-f3ec-48b2-a456-95bcb6f381e8\",\"type\":\"Grid\"},{\"id\":\"6cfacb71-75a6-4717-b65c-5ca09e4f1a9d\",\"type\":\"BoxAnnotation\"},{\"id\":\"c0c2040c-5581-4678-a5b0-5db3811082ac\",\"type\":\"GlyphRenderer\"}],\"title\":\"my title\",\"tool_events\":{\"id\":\"85345229-aa90-4e69-b589-99d727a4917e\",\"type\":\"ToolEvents\"},\"tools\":[{\"id\":\"862215ce-da53-4a51-8cbc-4aef518ca045\",\"type\":\"PanTool\"},{\"id\":\"7fa88c3c-25f2-4b4c-a7d4-935438405e2f\",\"type\":\"WheelZoomTool\"},{\"id\":\"29e7e0d6-d4fe-4482-9fb9-e25f27dcff36\",\"type\":\"BoxZoomTool\"},{\"id\":\"dcf9bf80-3a21-48d1-af65-49a307af230d\",\"type\":\"PreviewSaveTool\"},{\"id\":\"99e91860-7d4b-483f-a3de-c15e88824ee7\",\"type\":\"ResizeTool\"},{\"id\":\"3eaed028-7621-4dda-93c2-709f8e5aa4c3\",\"type\":\"ResetTool\"},{\"id\":\"1eb0054b-169b-45f0-9a24-6e3c918f957c\",\"type\":\"HelpTool\"}],\"x_range\":{\"id\":\"784d1820-aaab-4883-845c-ced6070da900\",\"type\":\"DataRange1d\"},\"y_range\":{\"id\":\"01da3bd4-07fe-49b0-a2a6-b139067a2b64\",\"type\":\"DataRange1d\"}},\"id\":\"297c3f67-6772-4594-b334-749e006822da\",\"subtype\":\"Figure\",\"type\":\"Plot\"},{\"attributes\":{\"bottom_units\":\"screen\",\"fill_alpha\":{\"value\":0.5},\"fill_color\":{\"value\":\"lightgrey\"},\"left_units\":\"screen\",\"level\":\"overlay\",\"line_alpha\":{\"value\":1.0},\"line_color\":{\"value\":\"black\"},\"line_dash\":[4,4],\"line_width\":{\"value\":2},\"plot\":null,\"render_mode\":\"css\",\"right_units\":\"screen\",\"top_units\":\"screen\"},\"id\":\"b2926861-6185-4717-8423-8a6d80062df7\",\"type\":\"BoxAnnotation\"},{\"attributes\":{\"fill_alpha\":{\"value\":0.5},\"fill_color\":{\"value\":\"navy\"},\"line_alpha\":{\"value\":0.5},\"line_color\":{\"value\":\"navy\"},\"size\":{\"units\":\"screen\",\"value\":10},\"x\":{\"field\":\"x\"},\"y\":{\"field\":\"y\"}},\"id\":\"2f72ff6e-f2c9-4896-b5b4-4d5dbc95c4ee\",\"type\":\"Circle\"},{\"attributes\":{\"plot\":{\"id\":\"aecdc96b-1745-4726-83b6-98e86cdce1cc\",\"subtype\":\"Figure\",\"type\":\"Plot\"}},\"id\":\"1e6f5f0e-57b7-4b45-bdff-9e0ccc55b0ac\",\"type\":\"ResizeTool\"},{\"attributes\":{\"below\":[{\"id\":\"5c49c71e-a9e1-4d2c-932a-8f6ccc9e20db\",\"type\":\"LinearAxis\"}],\"left\":[{\"id\":\"49211926-3b6d-4c4d-bab7-20725873a87c\",\"type\":\"LinearAxis\"}],\"plot_height\":500,\"plot_width\":700,\"renderers\":[{\"id\":\"5c49c71e-a9e1-4d2c-932a-8f6ccc9e20db\",\"type\":\"LinearAxis\"},{\"id\":\"709acfa8-ed72-4163-bb51-e5092bb94fd1\",\"type\":\"Grid\"},{\"id\":\"49211926-3b6d-4c4d-bab7-20725873a87c\",\"type\":\"LinearAxis\"},{\"id\":\"9f20bf0d-d38b-4b12-9863-5c6496020829\",\"type\":\"Grid\"},{\"id\":\"7b0dba33-7b89-4952-89a1-7ba7471776ee\",\"type\":\"BoxAnnotation\"},{\"id\":\"67a30eb6-9086-4809-a255-f46f43a50609\",\"type\":\"GlyphRenderer\"}],\"title\":\"my title\",\"tool_events\":{\"id\":\"4e144746-83eb-404f-b8a7-46ae8a01e924\",\"type\":\"ToolEvents\"},\"tools\":[{\"id\":\"3ef01b0b-c7fb-4b44-8a57-967ef3b44d32\",\"type\":\"PanTool\"},{\"id\":\"32c0a9bf-2ee3-497c-9c2d-b54ddc5e76ff\",\"type\":\"WheelZoomTool\"},{\"id\":\"ebd8cb6b-de5c-4c58-b0fc-af77f2310f50\",\"type\":\"BoxZoomTool\"},{\"id\":\"4f4247ce-96bc-40fb-8cc1-4da6497e05bc\",\"type\":\"PreviewSaveTool\"},{\"id\":\"d39604e1-c107-4ae6-b081-bd3c763d4258\",\"type\":\"ResizeTool\"},{\"id\":\"8ba97d03-226a-4439-b432-37021f4652aa\",\"type\":\"ResetTool\"},{\"id\":\"92636bf2-f0c3-4fa0-8cd3-1a53818985b4\",\"type\":\"HelpTool\"}],\"x_range\":{\"id\":\"3d4b4d44-ccb4-4fd5-acbf-5712de651a83\",\"type\":\"DataRange1d\"},\"y_range\":{\"id\":\"465f5b52-5dc9-48fc-94b7-195f8c789803\",\"type\":\"DataRange1d\"}},\"id\":\"98886cf0-2141-4733-8ad7-d2df866e57a3\",\"subtype\":\"Figure\",\"type\":\"Plot\"},{\"attributes\":{\"callback\":null,\"column_names\":[\"y\",\"x\"],\"data\":{\"x\":[-0.403979,-0.356186,0.163806,-0.309165,-0.430303,-0.42553,0.458684,-0.436629,0.234485,-0.31694,3.07675,-0.220451,-0.433392,-0.401103,-0.441012,-0.446112,-0.365075,0.125478,0.523433,-0.361023,-0.444014,-0.297704,0.299585,0.405511,-0.303839,0.46372,-0.388386,-0.215576,0.55008,-0.417832,-0.401926,0.0861186,-0.436076,-0.0176377,-0.0794821,-0.387833,-0.140458,-0.310607,-0.4076,-0.396149,-0.341327,-0.335536,-0.167457,-0.332575,-0.418646,0.204393,-0.15808,-0.149878,-0.296584,0.0317804,-0.403391,\"NaN\",-0.0493309,-0.404722,0.388574,-0.405789,0.680994,6.42673,-0.441178,-0.223603],\"y\":[0.261822,0.377283,1.98603,-0.486082,-0.48604,-0.160544,2.20587,-0.477615,2.44508,-0.271066,2.54094,-0.152022,-0.496319,-0.487806,-0.499126,-0.49721,-0.189121,-0.334815,-0.399552,-0.470999,-0.47807,-0.48348,0.454213,0.0763528,0.0168187,-0.490519,-0.505889,-0.417248,-0.394341,-0.484049,0.36525,-0.481224,-0.512086,-0.406055,0.119414,-0.367752,-0.501976,-0.427277,-0.216666,-0.262171,-0.488746,-0.0965602,-0.415937,-0.483132,-0.438102,4.81426,0.186339,-0.512698,-0.118325,-0.350216,-0.492529,-0.380426,-0.346742,-0.462391,-0.262577,-0.324483,-0.434231,2.46261,-0.455996,-0.412066]}},\"id\":\"c58c3601-aebd-4792-a17d-109cd599d7b9\",\"type\":\"ColumnDataSource\"},{\"attributes\":{\"fill_alpha\":{\"value\":0.5},\"fill_color\":{\"value\":\"navy\"},\"line_alpha\":{\"value\":0.5},\"line_color\":{\"value\":\"navy\"},\"size\":{\"units\":\"screen\",\"value\":10},\"x\":{\"field\":\"x\"},\"y\":{\"field\":\"y\"}},\"id\":\"0b089019-add5-4641-8cb6-57783d9fccfa\",\"type\":\"Circle\"},{\"attributes\":{\"axis_label\":\"IS.AIR.PSGR\",\"formatter\":{\"id\":\"fe16517e-6b4f-4084-9c95-74fbe5a336aa\",\"type\":\"BasicTickFormatter\"},\"plot\":{\"id\":\"e8c886e4-fb3b-469b-befe-49bf6f7a1b7f\",\"subtype\":\"Figure\",\"type\":\"Plot\"},\"ticker\":{\"id\":\"541f9563-a0d0-4c14-9dfe-ecd060876e8c\",\"type\":\"BasicTicker\"}},\"id\":\"7d0176e5-1a12-44ca-85d7-629ce8eaba63\",\"type\":\"LinearAxis\"},{\"attributes\":{},\"id\":\"93bd562a-5137-4df2-8840-eb8ba645fc49\",\"type\":\"BasicTickFormatter\"},{\"attributes\":{\"callback\":null},\"id\":\"be0d4954-88c4-4dd3-9404-ac932f8e955a\",\"type\":\"DataRange1d\"},{\"attributes\":{\"overlay\":{\"id\":\"c5272654-6429-49ed-bbec-78b7b44cfac7\",\"type\":\"BoxAnnotation\"},\"plot\":{\"id\":\"e8c886e4-fb3b-469b-befe-49bf6f7a1b7f\",\"subtype\":\"Figure\",\"type\":\"Plot\"}},\"id\":\"d6b72818-7b2b-43de-b931-c78db9bc42f9\",\"type\":\"BoxZoomTool\"},{\"attributes\":{\"data_source\":{\"id\":\"f5767c97-4acb-4387-9416-daf77b8150bf\",\"type\":\"ColumnDataSource\"},\"glyph\":{\"id\":\"0b089019-add5-4641-8cb6-57783d9fccfa\",\"type\":\"Circle\"},\"hover_glyph\":null,\"nonselection_glyph\":{\"id\":\"901d6b71-f4f1-49b0-9a3d-4ef7eb7c1549\",\"type\":\"Circle\"},\"selection_glyph\":null},\"id\":\"c0c2040c-5581-4678-a5b0-5db3811082ac\",\"type\":\"GlyphRenderer\"},{\"attributes\":{\"callback\":null},\"id\":\"36caaa29-5c98-4efb-b728-4165281b0fb6\",\"type\":\"DataRange1d\"},{\"attributes\":{\"data_source\":{\"id\":\"bd64b908-d6d2-4864-b9d9-eb9993fa9f44\",\"type\":\"ColumnDataSource\"},\"glyph\":{\"id\":\"25174fa6-e44b-4183-8b6d-63bbc8ae161a\",\"type\":\"Circle\"},\"hover_glyph\":null,\"nonselection_glyph\":{\"id\":\"2fc1f380-d93a-439a-b163-54550bf9fc85\",\"type\":\"Circle\"},\"selection_glyph\":null},\"id\":\"d89b3ca2-56ea-491b-8b4a-3b471cf64f72\",\"type\":\"GlyphRenderer\"},{\"attributes\":{\"dimension\":1,\"plot\":{\"id\":\"e8c886e4-fb3b-469b-befe-49bf6f7a1b7f\",\"subtype\":\"Figure\",\"type\":\"Plot\"},\"ticker\":{\"id\":\"0ebba8b7-3824-4b86-afe4-0c49f7ca052c\",\"type\":\"BasicTicker\"}},\"id\":\"58482bc6-d902-41c7-b74d-305e8cd25ce9\",\"type\":\"Grid\"},{\"attributes\":{},\"id\":\"4e144746-83eb-404f-b8a7-46ae8a01e924\",\"type\":\"ToolEvents\"},{\"attributes\":{\"callback\":null},\"id\":\"784d1820-aaab-4883-845c-ced6070da900\",\"type\":\"DataRange1d\"},{\"attributes\":{},\"id\":\"cb6a4ac2-88e4-4ed8-a0a6-f4347ed8482c\",\"type\":\"BasicTicker\"},{\"attributes\":{},\"id\":\"73c03843-5d4e-4d36-aa05-688d2a937460\",\"type\":\"BasicTicker\"},{\"attributes\":{},\"id\":\"0d7c117d-63d3-41d2-ae16-56fd898cab90\",\"type\":\"BasicTickFormatter\"},{\"attributes\":{\"bottom_units\":\"screen\",\"fill_alpha\":{\"value\":0.5},\"fill_color\":{\"value\":\"lightgrey\"},\"left_units\":\"screen\",\"level\":\"overlay\",\"line_alpha\":{\"value\":1.0},\"line_color\":{\"value\":\"black\"},\"line_dash\":[4,4],\"line_width\":{\"value\":2},\"plot\":null,\"render_mode\":\"css\",\"right_units\":\"screen\",\"top_units\":\"screen\"},\"id\":\"89f93858-136e-4951-b800-4eb4b0948ac8\",\"type\":\"BoxAnnotation\"},{\"attributes\":{\"data_source\":{\"id\":\"c58c3601-aebd-4792-a17d-109cd599d7b9\",\"type\":\"ColumnDataSource\"},\"glyph\":{\"id\":\"2f72ff6e-f2c9-4896-b5b4-4d5dbc95c4ee\",\"type\":\"Circle\"},\"hover_glyph\":null,\"nonselection_glyph\":{\"id\":\"8c2b1aad-91d7-4dab-9d89-ce9c7111052b\",\"type\":\"Circle\"},\"selection_glyph\":null},\"id\":\"79d24b22-0d3d-473c-85f3-4751d464d0f0\",\"type\":\"GlyphRenderer\"},{\"attributes\":{},\"id\":\"2fd00334-b46d-4f54-826f-a2d4fb7dc0f2\",\"type\":\"BasicTicker\"},{\"attributes\":{\"plot\":{\"id\":\"75b6bc90-eb69-4284-8244-2eeefce64755\",\"subtype\":\"Figure\",\"type\":\"Plot\"}},\"id\":\"5d2a5df7-872b-4779-8fa4-78543a832ccc\",\"type\":\"PreviewSaveTool\"},{\"attributes\":{\"plot\":{\"id\":\"98886cf0-2141-4733-8ad7-d2df866e57a3\",\"subtype\":\"Figure\",\"type\":\"Plot\"}},\"id\":\"3ef01b0b-c7fb-4b44-8a57-967ef3b44d32\",\"type\":\"PanTool\"},{\"attributes\":{},\"id\":\"89da4fab-e492-480b-834f-f0461ad0d436\",\"type\":\"BasicTickFormatter\"},{\"attributes\":{\"plot\":{\"id\":\"aecdc96b-1745-4726-83b6-98e86cdce1cc\",\"subtype\":\"Figure\",\"type\":\"Plot\"}},\"id\":\"8acdd9ed-18dd-474b-a9eb-09e56be73455\",\"type\":\"PanTool\"},{\"attributes\":{\"plot\":{\"id\":\"75b6bc90-eb69-4284-8244-2eeefce64755\",\"subtype\":\"Figure\",\"type\":\"Plot\"}},\"id\":\"3f408671-373c-47e0-a5a2-f47491ad3ec4\",\"type\":\"WheelZoomTool\"},{\"attributes\":{\"callback\":null},\"id\":\"01da3bd4-07fe-49b0-a2a6-b139067a2b64\",\"type\":\"DataRange1d\"},{\"attributes\":{\"callback\":null},\"id\":\"b022a52f-4a55-476b-85ec-a1e2056cd681\",\"type\":\"DataRange1d\"},{\"attributes\":{},\"id\":\"fc3c61b2-9a47-44b4-954a-ef914a0be97e\",\"type\":\"BasicTicker\"},{\"attributes\":{\"fill_alpha\":{\"value\":0.5},\"fill_color\":{\"value\":\"navy\"},\"line_alpha\":{\"value\":0.5},\"line_color\":{\"value\":\"navy\"},\"size\":{\"units\":\"screen\",\"value\":10},\"x\":{\"field\":\"x\"},\"y\":{\"field\":\"y\"}},\"id\":\"62337725-4eb3-4438-a01c-9ac748f74f18\",\"type\":\"Circle\"},{\"attributes\":{\"plot\":{\"id\":\"9f51ac84-1c42-44ba-8b72-6e631b2d7b68\",\"subtype\":\"Figure\",\"type\":\"Plot\"}},\"id\":\"c882beae-4999-40f1-913a-5ff0f422a709\",\"type\":\"HelpTool\"},{\"attributes\":{},\"id\":\"8a4779b0-5d46-4590-9788-38342f24f5be\",\"type\":\"ToolEvents\"},{\"attributes\":{\"callback\":null},\"id\":\"332d7fc1-f2e4-433f-8a15-2d1bbcdb4cfc\",\"type\":\"DataRange1d\"},{\"attributes\":{\"plot\":{\"id\":\"e8c886e4-fb3b-469b-befe-49bf6f7a1b7f\",\"subtype\":\"Figure\",\"type\":\"Plot\"}},\"id\":\"2137909f-5f53-42c9-807b-4bc9ef9f4f27\",\"type\":\"ResetTool\"},{\"attributes\":{\"overlay\":{\"id\":\"6cfacb71-75a6-4717-b65c-5ca09e4f1a9d\",\"type\":\"BoxAnnotation\"},\"plot\":{\"id\":\"297c3f67-6772-4594-b334-749e006822da\",\"subtype\":\"Figure\",\"type\":\"Plot\"}},\"id\":\"29e7e0d6-d4fe-4482-9fb9-e25f27dcff36\",\"type\":\"BoxZoomTool\"},{\"attributes\":{\"axis_label\":\"AG.LND.TOTL.K2\",\"axis_label_text_font_size\":{\"value\":\"10pt\"},\"formatter\":{\"id\":\"93bd562a-5137-4df2-8840-eb8ba645fc49\",\"type\":\"BasicTickFormatter\"},\"plot\":{\"id\":\"aecdc96b-1745-4726-83b6-98e86cdce1cc\",\"subtype\":\"Figure\",\"type\":\"Plot\"},\"ticker\":{\"id\":\"d47530c2-058d-4969-bc17-4fe05b680df9\",\"type\":\"BasicTicker\"}},\"id\":\"06229978-3ede-4518-a810-0e6308efb61a\",\"type\":\"LinearAxis\"},{\"attributes\":{\"below\":[{\"id\":\"7d0176e5-1a12-44ca-85d7-629ce8eaba63\",\"type\":\"LinearAxis\"}],\"left\":[{\"id\":\"9dceda28-99eb-4de8-b51e-44eed689eb04\",\"type\":\"LinearAxis\"}],\"plot_height\":500,\"plot_width\":700,\"renderers\":[{\"id\":\"7d0176e5-1a12-44ca-85d7-629ce8eaba63\",\"type\":\"LinearAxis\"},{\"id\":\"9e0defa9-02fc-4804-880b-47d00ad2a942\",\"type\":\"Grid\"},{\"id\":\"9dceda28-99eb-4de8-b51e-44eed689eb04\",\"type\":\"LinearAxis\"},{\"id\":\"58482bc6-d902-41c7-b74d-305e8cd25ce9\",\"type\":\"Grid\"},{\"id\":\"c5272654-6429-49ed-bbec-78b7b44cfac7\",\"type\":\"BoxAnnotation\"},{\"id\":\"938eb01d-708c-45c9-8861-ceb3beb5c2ad\",\"type\":\"GlyphRenderer\"}],\"title\":\"my title\",\"tool_events\":{\"id\":\"8a4779b0-5d46-4590-9788-38342f24f5be\",\"type\":\"ToolEvents\"},\"tools\":[{\"id\":\"d536920c-b717-4078-b1b9-685d556a9d5d\",\"type\":\"PanTool\"},{\"id\":\"359be194-4602-4a48-b0af-2b00fdf9bb12\",\"type\":\"WheelZoomTool\"},{\"id\":\"d6b72818-7b2b-43de-b931-c78db9bc42f9\",\"type\":\"BoxZoomTool\"},{\"id\":\"725a81f7-12a9-4bde-8186-243762b34514\",\"type\":\"PreviewSaveTool\"},{\"id\":\"0cf8c6c5-8172-4292-ae36-f7fac8924e48\",\"type\":\"ResizeTool\"},{\"id\":\"2137909f-5f53-42c9-807b-4bc9ef9f4f27\",\"type\":\"ResetTool\"},{\"id\":\"6e0392eb-6235-4b3f-9286-09345df32db7\",\"type\":\"HelpTool\"}],\"x_range\":{\"id\":\"44b0ae2b-4d3f-4f5e-a553-40afc65a4c66\",\"type\":\"DataRange1d\"},\"y_range\":{\"id\":\"be0d4954-88c4-4dd3-9404-ac932f8e955a\",\"type\":\"DataRange1d\"}},\"id\":\"e8c886e4-fb3b-469b-befe-49bf6f7a1b7f\",\"subtype\":\"Figure\",\"type\":\"Plot\"},{\"attributes\":{\"plot\":{\"id\":\"9f51ac84-1c42-44ba-8b72-6e631b2d7b68\",\"subtype\":\"Figure\",\"type\":\"Plot\"}},\"id\":\"fe31a12e-5864-4f4d-a375-21624c9e18de\",\"type\":\"PreviewSaveTool\"},{\"attributes\":{},\"id\":\"507462a5-efca-4302-844c-a97e5e501d0c\",\"type\":\"BasicTicker\"},{\"attributes\":{\"bottom_units\":\"screen\",\"fill_alpha\":{\"value\":0.5},\"fill_color\":{\"value\":\"lightgrey\"},\"left_units\":\"screen\",\"level\":\"overlay\",\"line_alpha\":{\"value\":1.0},\"line_color\":{\"value\":\"black\"},\"line_dash\":[4,4],\"line_width\":{\"value\":2},\"plot\":null,\"render_mode\":\"css\",\"right_units\":\"screen\",\"top_units\":\"screen\"},\"id\":\"07dc1d95-9299-468b-ba6d-bdfae5ed5098\",\"type\":\"BoxAnnotation\"},{\"attributes\":{},\"id\":\"0fc36947-755b-46f5-a51a-6c5d5afda7d5\",\"type\":\"BasicTickFormatter\"},{\"attributes\":{\"plot\":{\"id\":\"297c3f67-6772-4594-b334-749e006822da\",\"subtype\":\"Figure\",\"type\":\"Plot\"}},\"id\":\"3eaed028-7621-4dda-93c2-709f8e5aa4c3\",\"type\":\"ResetTool\"},{\"attributes\":{\"plot\":{\"id\":\"e8c886e4-fb3b-469b-befe-49bf6f7a1b7f\",\"subtype\":\"Figure\",\"type\":\"Plot\"}},\"id\":\"0cf8c6c5-8172-4292-ae36-f7fac8924e48\",\"type\":\"ResizeTool\"},{\"attributes\":{\"fill_alpha\":{\"value\":0.1},\"fill_color\":{\"value\":\"#1f77b4\"},\"line_alpha\":{\"value\":0.1},\"line_color\":{\"value\":\"#1f77b4\"},\"size\":{\"units\":\"screen\",\"value\":10},\"x\":{\"field\":\"x\"},\"y\":{\"field\":\"y\"}},\"id\":\"5e462778-6201-45fd-83af-c552b5fd7ee3\",\"type\":\"Circle\"},{\"attributes\":{\"overlay\":{\"id\":\"7b0dba33-7b89-4952-89a1-7ba7471776ee\",\"type\":\"BoxAnnotation\"},\"plot\":{\"id\":\"98886cf0-2141-4733-8ad7-d2df866e57a3\",\"subtype\":\"Figure\",\"type\":\"Plot\"}},\"id\":\"ebd8cb6b-de5c-4c58-b0fc-af77f2310f50\",\"type\":\"BoxZoomTool\"},{\"attributes\":{\"bottom_units\":\"screen\",\"fill_alpha\":{\"value\":0.5},\"fill_color\":{\"value\":\"lightgrey\"},\"left_units\":\"screen\",\"level\":\"overlay\",\"line_alpha\":{\"value\":1.0},\"line_color\":{\"value\":\"black\"},\"line_dash\":[4,4],\"line_width\":{\"value\":2},\"plot\":null,\"render_mode\":\"css\",\"right_units\":\"screen\",\"top_units\":\"screen\"},\"id\":\"7b0dba33-7b89-4952-89a1-7ba7471776ee\",\"type\":\"BoxAnnotation\"},{\"attributes\":{\"overlay\":{\"id\":\"89f93858-136e-4951-b800-4eb4b0948ac8\",\"type\":\"BoxAnnotation\"},\"plot\":{\"id\":\"9f51ac84-1c42-44ba-8b72-6e631b2d7b68\",\"subtype\":\"Figure\",\"type\":\"Plot\"}},\"id\":\"3efe922f-c018-493a-a186-53af302d8bd6\",\"type\":\"BoxZoomTool\"},{\"attributes\":{\"callback\":null},\"id\":\"1ab06130-4463-4a45-a34e-bdc07e66c446\",\"type\":\"DataRange1d\"},{\"attributes\":{\"axis_label\":\"AG.LND.TOTL.K2\",\"formatter\":{\"id\":\"9cc27846-24c7-477d-b181-8b44d3e8e973\",\"type\":\"BasicTickFormatter\"},\"plot\":{\"id\":\"9f51ac84-1c42-44ba-8b72-6e631b2d7b68\",\"subtype\":\"Figure\",\"type\":\"Plot\"},\"ticker\":{\"id\":\"72bc74eb-ef1f-4332-a8ac-9f73e55af8a4\",\"type\":\"BasicTicker\"}},\"id\":\"75cc0437-8bbe-4cb2-be28-a895440b79d0\",\"type\":\"LinearAxis\"},{\"attributes\":{},\"id\":\"b04934d3-d830-46cb-b576-18aa575d5456\",\"type\":\"BasicTicker\"},{\"attributes\":{\"plot\":{\"id\":\"75b6bc90-eb69-4284-8244-2eeefce64755\",\"subtype\":\"Figure\",\"type\":\"Plot\"}},\"id\":\"2cc04743-92a5-43e7-85de-ad6307fe0adc\",\"type\":\"ResizeTool\"},{\"attributes\":{\"callback\":null},\"id\":\"44b0ae2b-4d3f-4f5e-a553-40afc65a4c66\",\"type\":\"DataRange1d\"},{\"attributes\":{\"plot\":{\"id\":\"9f51ac84-1c42-44ba-8b72-6e631b2d7b68\",\"subtype\":\"Figure\",\"type\":\"Plot\"}},\"id\":\"0878d9d8-01eb-4804-a6cd-30a753e55ff2\",\"type\":\"WheelZoomTool\"},{\"attributes\":{\"axis_label\":\"AG.LND.TOTL.K2\",\"formatter\":{\"id\":\"c2d17446-1119-4720-bba9-37613e1707aa\",\"type\":\"BasicTickFormatter\"},\"plot\":{\"id\":\"98886cf0-2141-4733-8ad7-d2df866e57a3\",\"subtype\":\"Figure\",\"type\":\"Plot\"},\"ticker\":{\"id\":\"507462a5-efca-4302-844c-a97e5e501d0c\",\"type\":\"BasicTicker\"}},\"id\":\"49211926-3b6d-4c4d-bab7-20725873a87c\",\"type\":\"LinearAxis\"},{\"attributes\":{},\"id\":\"8dacdcec-aa31-4511-8209-206c2c6e226c\",\"type\":\"BasicTicker\"},{\"attributes\":{\"plot\":{\"id\":\"e8c886e4-fb3b-469b-befe-49bf6f7a1b7f\",\"subtype\":\"Figure\",\"type\":\"Plot\"},\"ticker\":{\"id\":\"541f9563-a0d0-4c14-9dfe-ecd060876e8c\",\"type\":\"BasicTicker\"}},\"id\":\"9e0defa9-02fc-4804-880b-47d00ad2a942\",\"type\":\"Grid\"},{\"attributes\":{\"overlay\":{\"id\":\"b2926861-6185-4717-8423-8a6d80062df7\",\"type\":\"BoxAnnotation\"},\"plot\":{\"id\":\"75b6bc90-eb69-4284-8244-2eeefce64755\",\"subtype\":\"Figure\",\"type\":\"Plot\"}},\"id\":\"21e66e9c-9e21-4395-a9a5-a51ba92fb182\",\"type\":\"BoxZoomTool\"},{\"attributes\":{},\"id\":\"5ba652fa-e571-4549-ae60-a7352181184c\",\"type\":\"ToolEvents\"},{\"attributes\":{\"plot\":{\"id\":\"aecdc96b-1745-4726-83b6-98e86cdce1cc\",\"subtype\":\"Figure\",\"type\":\"Plot\"}},\"id\":\"f4aa3397-bd80-42d0-9e8b-06b7d4c6f3c5\",\"type\":\"PreviewSaveTool\"},{\"attributes\":{\"plot\":{\"id\":\"aecdc96b-1745-4726-83b6-98e86cdce1cc\",\"subtype\":\"Figure\",\"type\":\"Plot\"},\"ticker\":{\"id\":\"8dacdcec-aa31-4511-8209-206c2c6e226c\",\"type\":\"BasicTicker\"}},\"id\":\"59871600-aed6-4cfc-9bbc-4dea49e944b8\",\"type\":\"Grid\"},{\"attributes\":{\"plot\":{\"id\":\"e8c886e4-fb3b-469b-befe-49bf6f7a1b7f\",\"subtype\":\"Figure\",\"type\":\"Plot\"}},\"id\":\"d536920c-b717-4078-b1b9-685d556a9d5d\",\"type\":\"PanTool\"},{\"attributes\":{\"below\":[{\"id\":\"0cf0b8ef-2a19-4b8b-87b4-ca28aefc4e9d\",\"type\":\"LinearAxis\"}],\"left\":[{\"id\":\"75cc0437-8bbe-4cb2-be28-a895440b79d0\",\"type\":\"LinearAxis\"}],\"plot_height\":500,\"plot_width\":700,\"renderers\":[{\"id\":\"0cf0b8ef-2a19-4b8b-87b4-ca28aefc4e9d\",\"type\":\"LinearAxis\"},{\"id\":\"06070504-6c60-40ec-9c91-0f65b3832785\",\"type\":\"Grid\"},{\"id\":\"75cc0437-8bbe-4cb2-be28-a895440b79d0\",\"type\":\"LinearAxis\"},{\"id\":\"8a82e8f9-a971-4e71-bb17-ae46e34a7bd1\",\"type\":\"Grid\"},{\"id\":\"89f93858-136e-4951-b800-4eb4b0948ac8\",\"type\":\"BoxAnnotation\"},{\"id\":\"68adcd0c-ef94-4e6e-a6e2-af135a0a44bf\",\"type\":\"GlyphRenderer\"}],\"title\":\"my title\",\"tool_events\":{\"id\":\"5ba652fa-e571-4549-ae60-a7352181184c\",\"type\":\"ToolEvents\"},\"tools\":[{\"id\":\"03f8338f-17f8-4ff3-a2b8-d5b7d083989b\",\"type\":\"PanTool\"},{\"id\":\"0878d9d8-01eb-4804-a6cd-30a753e55ff2\",\"type\":\"WheelZoomTool\"},{\"id\":\"3efe922f-c018-493a-a186-53af302d8bd6\",\"type\":\"BoxZoomTool\"},{\"id\":\"fe31a12e-5864-4f4d-a375-21624c9e18de\",\"type\":\"PreviewSaveTool\"},{\"id\":\"3c967ead-9bce-4f77-bb3a-f6eb3163b8ed\",\"type\":\"ResizeTool\"},{\"id\":\"79319f16-3e34-43c3-9cbf-7bbf6a681603\",\"type\":\"ResetTool\"},{\"id\":\"c882beae-4999-40f1-913a-5ff0f422a709\",\"type\":\"HelpTool\"}],\"x_range\":{\"id\":\"b022a52f-4a55-476b-85ec-a1e2056cd681\",\"type\":\"DataRange1d\"},\"y_range\":{\"id\":\"cef785d1-f7f5-41f3-9a27-5931fecd845c\",\"type\":\"DataRange1d\"}},\"id\":\"9f51ac84-1c42-44ba-8b72-6e631b2d7b68\",\"subtype\":\"Figure\",\"type\":\"Plot\"},{\"attributes\":{\"plot\":{\"id\":\"98886cf0-2141-4733-8ad7-d2df866e57a3\",\"subtype\":\"Figure\",\"type\":\"Plot\"},\"ticker\":{\"id\":\"b04934d3-d830-46cb-b576-18aa575d5456\",\"type\":\"BasicTicker\"}},\"id\":\"709acfa8-ed72-4163-bb51-e5092bb94fd1\",\"type\":\"Grid\"},{\"attributes\":{\"plot\":{\"id\":\"aecdc96b-1745-4726-83b6-98e86cdce1cc\",\"subtype\":\"Figure\",\"type\":\"Plot\"}},\"id\":\"7b876c96-1c4d-45f8-b494-6d7634bfaf91\",\"type\":\"ResetTool\"},{\"attributes\":{\"below\":[{\"id\":\"4d68837d-805f-4fee-ae13-730f076ea797\",\"type\":\"LinearAxis\"}],\"left\":[{\"id\":\"ea5571c8-2a65-49cc-832f-14f88a521980\",\"type\":\"LinearAxis\"}],\"plot_height\":500,\"plot_width\":700,\"renderers\":[{\"id\":\"4d68837d-805f-4fee-ae13-730f076ea797\",\"type\":\"LinearAxis\"},{\"id\":\"d44ce04e-9ccd-4f28-886c-a1341945e33c\",\"type\":\"Grid\"},{\"id\":\"ea5571c8-2a65-49cc-832f-14f88a521980\",\"type\":\"LinearAxis\"},{\"id\":\"36073fbf-f77a-4d51-b05d-86bdece75dec\",\"type\":\"Grid\"},{\"id\":\"b2926861-6185-4717-8423-8a6d80062df7\",\"type\":\"BoxAnnotation\"},{\"id\":\"d89b3ca2-56ea-491b-8b4a-3b471cf64f72\",\"type\":\"GlyphRenderer\"}],\"title\":\"my title\",\"tool_events\":{\"id\":\"adbd7b56-3859-4701-a548-23125bb399b2\",\"type\":\"ToolEvents\"},\"tools\":[{\"id\":\"d51d1f62-4d72-49ef-b19b-d6872cb7bbc8\",\"type\":\"PanTool\"},{\"id\":\"3f408671-373c-47e0-a5a2-f47491ad3ec4\",\"type\":\"WheelZoomTool\"},{\"id\":\"21e66e9c-9e21-4395-a9a5-a51ba92fb182\",\"type\":\"BoxZoomTool\"},{\"id\":\"5d2a5df7-872b-4779-8fa4-78543a832ccc\",\"type\":\"PreviewSaveTool\"},{\"id\":\"2cc04743-92a5-43e7-85de-ad6307fe0adc\",\"type\":\"ResizeTool\"},{\"id\":\"a9f4a444-92c1-41fa-957e-f870d9981352\",\"type\":\"ResetTool\"},{\"id\":\"9893c0d2-18c8-4cef-a91b-bcf337ec8f16\",\"type\":\"HelpTool\"}],\"x_range\":{\"id\":\"1ab06130-4463-4a45-a34e-bdc07e66c446\",\"type\":\"DataRange1d\"},\"y_range\":{\"id\":\"332d7fc1-f2e4-433f-8a15-2d1bbcdb4cfc\",\"type\":\"DataRange1d\"}},\"id\":\"75b6bc90-eb69-4284-8244-2eeefce64755\",\"subtype\":\"Figure\",\"type\":\"Plot\"},{\"attributes\":{\"plot\":{\"id\":\"297c3f67-6772-4594-b334-749e006822da\",\"subtype\":\"Figure\",\"type\":\"Plot\"}},\"id\":\"7fa88c3c-25f2-4b4c-a7d4-935438405e2f\",\"type\":\"WheelZoomTool\"},{\"attributes\":{},\"id\":\"fe16517e-6b4f-4084-9c95-74fbe5a336aa\",\"type\":\"BasicTickFormatter\"},{\"attributes\":{},\"id\":\"0ebba8b7-3824-4b86-afe4-0c49f7ca052c\",\"type\":\"BasicTicker\"},{\"attributes\":{\"plot\":{\"id\":\"aecdc96b-1745-4726-83b6-98e86cdce1cc\",\"subtype\":\"Figure\",\"type\":\"Plot\"}},\"id\":\"34434a97-a682-409b-bafd-2a39cf740218\",\"type\":\"WheelZoomTool\"},{\"attributes\":{\"fill_alpha\":{\"value\":0.1},\"fill_color\":{\"value\":\"#1f77b4\"},\"line_alpha\":{\"value\":0.1},\"line_color\":{\"value\":\"#1f77b4\"},\"size\":{\"units\":\"screen\",\"value\":10},\"x\":{\"field\":\"x\"},\"y\":{\"field\":\"y\"}},\"id\":\"8c2b1aad-91d7-4dab-9d89-ce9c7111052b\",\"type\":\"Circle\"},{\"attributes\":{\"plot\":{\"id\":\"297c3f67-6772-4594-b334-749e006822da\",\"subtype\":\"Figure\",\"type\":\"Plot\"}},\"id\":\"dcf9bf80-3a21-48d1-af65-49a307af230d\",\"type\":\"PreviewSaveTool\"},{\"attributes\":{\"callback\":null,\"column_names\":[\"y\",\"x\"],\"data\":{\"x\":[\"NaN\",0.465398,-0.411213,-0.943867,\"NaN\",1.1557,1.73015,-0.283423,-0.561694,1.44114,0.439124,1.8042,1.28946,-1.46338,-1.11107,1.03746,-0.911622,-0.630963,-0.985668,-0.203406,1.66805,-0.935507,-0.535419,-0.335972,-0.123388,-0.700232,0.525113,-0.384938,-0.749198,-0.564082,-1.43711,\"NaN\",-0.429127,0.940727,1.15689,0.279089,-1.24125,\"NaN\",0.547804,-1.05016,1.58684,0.758,0.556165,-0.279841,-1.32007,0.382992,\"NaN\",\"NaN\",2.98536,-0.297755,0.0235099,-1.32126,0.104722,-0.307309,0.213402,-1.65208,-0.69426,0.319695,0.416432,0.0378414],\"y\":[0.261822,0.377283,1.98603,-0.486082,-0.48604,-0.160544,2.20587,-0.477615,2.44508,-0.271066,2.54094,-0.152022,-0.496319,-0.487806,-0.499126,-0.49721,-0.189121,-0.334815,-0.399552,-0.470999,-0.47807,-0.48348,0.454213,0.0763528,0.0168187,-0.490519,-0.505889,-0.417248,-0.394341,-0.484049,0.36525,-0.481224,-0.512086,-0.406055,0.119414,-0.367752,-0.501976,-0.427277,-0.216666,-0.262171,-0.488746,-0.0965602,-0.415937,-0.483132,-0.438102,4.81426,0.186339,-0.512698,-0.118325,-0.350216,-0.492529,-0.380426,-0.346742,-0.462391,-0.262577,-0.324483,-0.434231,2.46261,-0.455996,-0.412066]}},\"id\":\"87f6817f-dc23-432e-8300-d0d714781bfa\",\"type\":\"ColumnDataSource\"},{\"attributes\":{\"dimension\":1,\"plot\":{\"id\":\"297c3f67-6772-4594-b334-749e006822da\",\"subtype\":\"Figure\",\"type\":\"Plot\"},\"ticker\":{\"id\":\"fc3c61b2-9a47-44b4-954a-ef914a0be97e\",\"type\":\"BasicTicker\"}},\"id\":\"88ee81ce-f3ec-48b2-a456-95bcb6f381e8\",\"type\":\"Grid\"},{\"attributes\":{\"fill_alpha\":{\"value\":0.1},\"fill_color\":{\"value\":\"#1f77b4\"},\"line_alpha\":{\"value\":0.1},\"line_color\":{\"value\":\"#1f77b4\"},\"size\":{\"units\":\"screen\",\"value\":10},\"x\":{\"field\":\"x\"},\"y\":{\"field\":\"y\"}},\"id\":\"901d6b71-f4f1-49b0-9a3d-4ef7eb7c1549\",\"type\":\"Circle\"},{\"attributes\":{\"callback\":null,\"column_names\":[\"y\",\"x\"],\"data\":{\"x\":[-0.403979,-0.356186,0.163806,-0.309165,-0.430303,-0.42553,0.458684,-0.436629,0.234485,-0.31694,3.07675,-0.220451,-0.433392,-0.401103,-0.441012,-0.446112,-0.365075,0.125478,0.523433,-0.361023,-0.444014,-0.297704,0.299585,0.405511,-0.303839,0.46372,-0.388386,-0.215576,0.55008,-0.417832,-0.401926,0.0861186,-0.436076,-0.0176377,-0.0794821,-0.387833,-0.140458,-0.310607,-0.4076,-0.396149,-0.341327,-0.335536,-0.167457,-0.332575,-0.418646,0.204393,-0.15808,-0.149878,-0.296584,0.0317804,-0.403391,\"NaN\",-0.0493309,-0.404722,0.388574,-0.405789,0.680994,6.42673,-0.441178,-0.223603],\"y\":[0.261822,0.377283,1.98603,-0.486082,-0.48604,-0.160544,2.20587,-0.477615,2.44508,-0.271066,2.54094,-0.152022,-0.496319,-0.487806,-0.499126,-0.49721,-0.189121,-0.334815,-0.399552,-0.470999,-0.47807,-0.48348,0.454213,0.0763528,0.0168187,-0.490519,-0.505889,-0.417248,-0.394341,-0.484049,0.36525,-0.481224,-0.512086,-0.406055,0.119414,-0.367752,-0.501976,-0.427277,-0.216666,-0.262171,-0.488746,-0.0965602,-0.415937,-0.483132,-0.438102,4.81426,0.186339,-0.512698,-0.118325,-0.350216,-0.492529,-0.380426,-0.346742,-0.462391,-0.262577,-0.324483,-0.434231,2.46261,-0.455996,-0.412066]}},\"id\":\"17f27b25-596e-444e-9014-fbe373e7c0ac\",\"type\":\"ColumnDataSource\"},{\"attributes\":{\"plot\":{\"id\":\"98886cf0-2141-4733-8ad7-d2df866e57a3\",\"subtype\":\"Figure\",\"type\":\"Plot\"}},\"id\":\"d39604e1-c107-4ae6-b081-bd3c763d4258\",\"type\":\"ResizeTool\"},{\"attributes\":{\"callback\":null,\"column_names\":[\"y\",\"x\"],\"data\":{\"x\":[-0.403979,-0.356186,0.163806,-0.309165,-0.430303,-0.42553,0.458684,-0.436629,0.234485,-0.31694,3.07675,-0.220451,-0.433392,-0.401103,-0.441012,-0.446112,-0.365075,0.125478,0.523433,-0.361023,-0.444014,-0.297704,0.299585,0.405511,-0.303839,0.46372,-0.388386,-0.215576,0.55008,-0.417832,-0.401926,0.0861186,-0.436076,-0.0176377,-0.0794821,-0.387833,-0.140458,-0.310607,-0.4076,-0.396149,-0.341327,-0.335536,-0.167457,-0.332575,-0.418646,0.204393,-0.15808,-0.149878,-0.296584,0.0317804,-0.403391,\"NaN\",-0.0493309,-0.404722,0.388574,-0.405789,0.680994,6.42673,-0.441178,-0.223603],\"y\":[0.261822,0.377283,1.98603,-0.486082,-0.48604,-0.160544,2.20587,-0.477615,2.44508,-0.271066,2.54094,-0.152022,-0.496319,-0.487806,-0.499126,-0.49721,-0.189121,-0.334815,-0.399552,-0.470999,-0.47807,-0.48348,0.454213,0.0763528,0.0168187,-0.490519,-0.505889,-0.417248,-0.394341,-0.484049,0.36525,-0.481224,-0.512086,-0.406055,0.119414,-0.367752,-0.501976,-0.427277,-0.216666,-0.262171,-0.488746,-0.0965602,-0.415937,-0.483132,-0.438102,4.81426,0.186339,-0.512698,-0.118325,-0.350216,-0.492529,-0.380426,-0.346742,-0.462391,-0.262577,-0.324483,-0.434231,2.46261,-0.455996,-0.412066]}},\"id\":\"f5767c97-4acb-4387-9416-daf77b8150bf\",\"type\":\"ColumnDataSource\"},{\"attributes\":{\"plot\":{\"id\":\"9f51ac84-1c42-44ba-8b72-6e631b2d7b68\",\"subtype\":\"Figure\",\"type\":\"Plot\"},\"ticker\":{\"id\":\"2fd00334-b46d-4f54-826f-a2d4fb7dc0f2\",\"type\":\"BasicTicker\"}},\"id\":\"06070504-6c60-40ec-9c91-0f65b3832785\",\"type\":\"Grid\"},{\"attributes\":{\"plot\":{\"id\":\"98886cf0-2141-4733-8ad7-d2df866e57a3\",\"subtype\":\"Figure\",\"type\":\"Plot\"}},\"id\":\"92636bf2-f0c3-4fa0-8cd3-1a53818985b4\",\"type\":\"HelpTool\"},{\"attributes\":{\"fill_alpha\":{\"value\":0.1},\"fill_color\":{\"value\":\"#1f77b4\"},\"line_alpha\":{\"value\":0.1},\"line_color\":{\"value\":\"#1f77b4\"},\"size\":{\"units\":\"screen\",\"value\":10},\"x\":{\"field\":\"x\"},\"y\":{\"field\":\"y\"}},\"id\":\"2fc1f380-d93a-439a-b163-54550bf9fc85\",\"type\":\"Circle\"},{\"attributes\":{},\"id\":\"85345229-aa90-4e69-b589-99d727a4917e\",\"type\":\"ToolEvents\"},{\"attributes\":{\"axis_label\":\"IS.AIR.PSGR\",\"axis_label_text_font_size\":{\"value\":\"8pt\"},\"formatter\":{\"id\":\"2420d330-14fc-4584-a021-abed550144dd\",\"type\":\"BasicTickFormatter\"},\"plot\":{\"id\":\"297c3f67-6772-4594-b334-749e006822da\",\"subtype\":\"Figure\",\"type\":\"Plot\"},\"ticker\":{\"id\":\"73c03843-5d4e-4d36-aa05-688d2a937460\",\"type\":\"BasicTicker\"}},\"id\":\"75a3f500-a8a7-4ae8-88a7-36d49b2942b5\",\"type\":\"LinearAxis\"},{\"attributes\":{\"callback\":null},\"id\":\"465f5b52-5dc9-48fc-94b7-195f8c789803\",\"type\":\"DataRange1d\"},{\"attributes\":{},\"id\":\"d47530c2-058d-4969-bc17-4fe05b680df9\",\"type\":\"BasicTicker\"},{\"attributes\":{\"overlay\":{\"id\":\"07dc1d95-9299-468b-ba6d-bdfae5ed5098\",\"type\":\"BoxAnnotation\"},\"plot\":{\"id\":\"aecdc96b-1745-4726-83b6-98e86cdce1cc\",\"subtype\":\"Figure\",\"type\":\"Plot\"}},\"id\":\"078ca04d-167f-4c29-902e-77e15e24a8b0\",\"type\":\"BoxZoomTool\"},{\"attributes\":{\"callback\":null,\"column_names\":[\"y\",\"x\"],\"data\":{\"x\":[-0.403979,-0.356186,0.163806,-0.309165,-0.430303,-0.42553,0.458684,-0.436629,0.234485,-0.31694,3.07675,-0.220451,-0.433392,-0.401103,-0.441012,-0.446112,-0.365075,0.125478,0.523433,-0.361023,-0.444014,-0.297704,0.299585,0.405511,-0.303839,0.46372,-0.388386,-0.215576,0.55008,-0.417832,-0.401926,0.0861186,-0.436076,-0.0176377,-0.0794821,-0.387833,-0.140458,-0.310607,-0.4076,-0.396149,-0.341327,-0.335536,-0.167457,-0.332575,-0.418646,0.204393,-0.15808,-0.149878,-0.296584,0.0317804,-0.403391,\"NaN\",-0.0493309,-0.404722,0.388574,-0.405789,0.680994,6.42673,-0.441178,-0.223603],\"y\":[0.261822,0.377283,1.98603,-0.486082,-0.48604,-0.160544,2.20587,-0.477615,2.44508,-0.271066,2.54094,-0.152022,-0.496319,-0.487806,-0.499126,-0.49721,-0.189121,-0.334815,-0.399552,-0.470999,-0.47807,-0.48348,0.454213,0.0763528,0.0168187,-0.490519,-0.505889,-0.417248,-0.394341,-0.484049,0.36525,-0.481224,-0.512086,-0.406055,0.119414,-0.367752,-0.501976,-0.427277,-0.216666,-0.262171,-0.488746,-0.0965602,-0.415937,-0.483132,-0.438102,4.81426,0.186339,-0.512698,-0.118325,-0.350216,-0.492529,-0.380426,-0.346742,-0.462391,-0.262577,-0.324483,-0.434231,2.46261,-0.455996,-0.412066]}},\"id\":\"bd64b908-d6d2-4864-b9d9-eb9993fa9f44\",\"type\":\"ColumnDataSource\"},{\"attributes\":{},\"id\":\"2420d330-14fc-4584-a021-abed550144dd\",\"type\":\"BasicTickFormatter\"},{\"attributes\":{\"plot\":{\"id\":\"75b6bc90-eb69-4284-8244-2eeefce64755\",\"subtype\":\"Figure\",\"type\":\"Plot\"},\"ticker\":{\"id\":\"5edae0e4-365d-43c9-b298-126680729dc0\",\"type\":\"BasicTicker\"}},\"id\":\"d44ce04e-9ccd-4f28-886c-a1341945e33c\",\"type\":\"Grid\"},{\"attributes\":{\"plot\":{\"id\":\"297c3f67-6772-4594-b334-749e006822da\",\"subtype\":\"Figure\",\"type\":\"Plot\"}},\"id\":\"1eb0054b-169b-45f0-9a24-6e3c918f957c\",\"type\":\"HelpTool\"},{\"attributes\":{\"axis_label\":\"SI.POV.GINI\",\"formatter\":{\"id\":\"0fc36947-755b-46f5-a51a-6c5d5afda7d5\",\"type\":\"BasicTickFormatter\"},\"plot\":{\"id\":\"9f51ac84-1c42-44ba-8b72-6e631b2d7b68\",\"subtype\":\"Figure\",\"type\":\"Plot\"},\"ticker\":{\"id\":\"2fd00334-b46d-4f54-826f-a2d4fb7dc0f2\",\"type\":\"BasicTicker\"}},\"id\":\"0cf0b8ef-2a19-4b8b-87b4-ca28aefc4e9d\",\"type\":\"LinearAxis\"},{\"attributes\":{\"callback\":null},\"id\":\"3d4b4d44-ccb4-4fd5-acbf-5712de651a83\",\"type\":\"DataRange1d\"},{\"attributes\":{\"data_source\":{\"id\":\"ddc9abec-51a4-4f39-8968-d788eaca0ab1\",\"type\":\"ColumnDataSource\"},\"glyph\":{\"id\":\"fe4c5b85-9e31-43e8-86d6-865b7bf0e93d\",\"type\":\"Circle\"},\"hover_glyph\":null,\"nonselection_glyph\":{\"id\":\"5e462778-6201-45fd-83af-c552b5fd7ee3\",\"type\":\"Circle\"},\"selection_glyph\":null},\"id\":\"68adcd0c-ef94-4e6e-a6e2-af135a0a44bf\",\"type\":\"GlyphRenderer\"},{\"attributes\":{\"data_source\":{\"id\":\"87f6817f-dc23-432e-8300-d0d714781bfa\",\"type\":\"ColumnDataSource\"},\"glyph\":{\"id\":\"507ae4d0-fd89-47ca-a319-4fb02df9c173\",\"type\":\"Circle\"},\"hover_glyph\":null,\"nonselection_glyph\":{\"id\":\"d3b863ea-66cc-4a0a-ab87-1e0c0799357b\",\"type\":\"Circle\"},\"selection_glyph\":null},\"id\":\"67a30eb6-9086-4809-a255-f46f43a50609\",\"type\":\"GlyphRenderer\"},{\"attributes\":{\"fill_alpha\":{\"value\":0.5},\"fill_color\":{\"value\":\"navy\"},\"line_alpha\":{\"value\":0.5},\"line_color\":{\"value\":\"navy\"},\"size\":{\"units\":\"screen\",\"value\":10},\"x\":{\"field\":\"x\"},\"y\":{\"field\":\"y\"}},\"id\":\"25174fa6-e44b-4183-8b6d-63bbc8ae161a\",\"type\":\"Circle\"},{\"attributes\":{\"plot\":{\"id\":\"e8c886e4-fb3b-469b-befe-49bf6f7a1b7f\",\"subtype\":\"Figure\",\"type\":\"Plot\"}},\"id\":\"359be194-4602-4a48-b0af-2b00fdf9bb12\",\"type\":\"WheelZoomTool\"},{\"attributes\":{\"axis_label\":\"IS.AIR.PSGR\",\"formatter\":{\"id\":\"00e6355e-5656-4428-a1cd-2fc8a776625d\",\"type\":\"BasicTickFormatter\"},\"plot\":{\"id\":\"75b6bc90-eb69-4284-8244-2eeefce64755\",\"subtype\":\"Figure\",\"type\":\"Plot\"},\"ticker\":{\"id\":\"5edae0e4-365d-43c9-b298-126680729dc0\",\"type\":\"BasicTicker\"}},\"id\":\"4d68837d-805f-4fee-ae13-730f076ea797\",\"type\":\"LinearAxis\"},{\"attributes\":{\"dimension\":1,\"plot\":{\"id\":\"98886cf0-2141-4733-8ad7-d2df866e57a3\",\"subtype\":\"Figure\",\"type\":\"Plot\"},\"ticker\":{\"id\":\"507462a5-efca-4302-844c-a97e5e501d0c\",\"type\":\"BasicTicker\"}},\"id\":\"9f20bf0d-d38b-4b12-9863-5c6496020829\",\"type\":\"Grid\"},{\"attributes\":{},\"id\":\"72bc74eb-ef1f-4332-a8ac-9f73e55af8a4\",\"type\":\"BasicTicker\"},{\"attributes\":{\"fill_alpha\":{\"value\":0.1},\"fill_color\":{\"value\":\"#1f77b4\"},\"line_alpha\":{\"value\":0.1},\"line_color\":{\"value\":\"#1f77b4\"},\"size\":{\"units\":\"screen\",\"value\":10},\"x\":{\"field\":\"x\"},\"y\":{\"field\":\"y\"}},\"id\":\"d3b863ea-66cc-4a0a-ab87-1e0c0799357b\",\"type\":\"Circle\"}],\"root_ids\":[\"9f51ac84-1c42-44ba-8b72-6e631b2d7b68\",\"98886cf0-2141-4733-8ad7-d2df866e57a3\",\"e8c886e4-fb3b-469b-befe-49bf6f7a1b7f\",\"75b6bc90-eb69-4284-8244-2eeefce64755\",\"297c3f67-6772-4594-b334-749e006822da\",\"aecdc96b-1745-4726-83b6-98e86cdce1cc\"]},\"title\":\"Bokeh Application\",\"version\":\"0.11.1\"}};\n",
       "            var render_items = [{\"docid\":\"cce1c16e-7b7f-4098-8baf-7cbcb3824712\",\"elementid\":\"d3f23930-7d68-40b9-9a5b-7cf0b3bfdfa6\",\"modelid\":\"aecdc96b-1745-4726-83b6-98e86cdce1cc\",\"notebook_comms_target\":\"e6e93809-1586-4f2d-bcfd-91977333ccf5\"}];\n",
       "            \n",
       "            Bokeh.embed.embed_items(docs_json, render_items);\n",
       "        });\n",
       "      },\n",
       "      function(Bokeh) {\n",
       "      }\n",
       "    ];\n",
       "  \n",
       "    function run_inline_js() {\n",
       "      for (var i = 0; i < inline_js.length; i++) {\n",
       "        inline_js[i](window.Bokeh);\n",
       "      }\n",
       "    }\n",
       "  \n",
       "    if (window._bokeh_is_loading === 0) {\n",
       "      console.log(\"Bokeh: BokehJS loaded, going straight to plotting\");\n",
       "      run_inline_js();\n",
       "    } else {\n",
       "      load_libs(js_urls, function() {\n",
       "        console.log(\"Bokeh: BokehJS plotting callback run at\", now());\n",
       "        run_inline_js();\n",
       "      });\n",
       "    }\n",
       "  }(this));\n",
       "</script>"
      ]
     },
     "metadata": {},
     "output_type": "display_data"
    }
   ],
   "source": [
    "# opens in browser\n",
    "output_file('temp.html')\n",
    "show(p)"
   ]
  },
  {
   "cell_type": "code",
   "execution_count": 0,
   "metadata": {
    "autoscroll": "json-false",
    "collapsed": false,
    "ein.tags": [
     "worksheet-0"
    ]
   },
   "outputs": [],
   "source": []
  }
 ],
 "metadata": {
  "kernelspec": {
   "display_name": "Python 2",
   "name": "python2"
  },
  "language_info": {
   "codemirror_mode": {
    "name": "ipython",
    "version": 2
   },
   "file_extension": ".py",
   "mimetype": "text/x-python",
   "name": "python",
   "nbconvert_exporter": "python",
   "pygments_lexer": "ipython2",
   "version": "2.7.11"
  },
  "name": "2-creating-my-pg-database-python.ipynb"
 },
 "nbformat": 4,
 "nbformat_minor": 0
}
