{
 "cells": [
  {
   "cell_type": "code",
   "execution_count": 1,
   "metadata": {
    "collapsed": true
   },
   "outputs": [],
   "source": [
    "# scrape USN's top 60 countries\n",
    "import requests\n",
    "import re\n",
    "import warnings\n",
    "import pandas as pd                # for export\n",
    "import pickle                      # for export\n",
    "from bs4 import BeautifulSoup   # html parser\n",
    "from collections import namedtuple # like a dict\n",
    "from urlparse import urljoin "
   ]
  },
  {
   "cell_type": "code",
   "execution_count": 2,
   "metadata": {
    "collapsed": true
   },
   "outputs": [],
   "source": [
    "def dl_data(url):\n",
    "    print \"Downloading data...\"\n",
    "    r = requests.get(url)\n",
    "    print \"Done.\"\n",
    "    return r\n",
    "\n",
    "\n",
    "def get_country_info(item):\n",
    "    name = item.text\n",
    "    url = item['href']\n",
    "    return CountryStore(name=name, url=url)\n",
    "\n",
    "\n",
    "def get_countries(raw):\n",
    "    soup = BeautifulSoup(raw.text, \"html.parser\")\n",
    "    divs = soup.find_all('div', attrs={'class': 'small-12 column'})\n",
    "    p = divs[1].select('p')[0]\n",
    "    return [get_country_info(c) for c in p.select('a') if get_country_info(c) is not None]\n",
    "\n",
    "\n",
    "def get_subrank_info(item):\n",
    "    name = item.text\n",
    "    url = item['href'].replace(BASEURL, \"\")\n",
    "    return name, url\n",
    "\n",
    "\n",
    "def tofloat(text):\n",
    "    t = text.strip().replace(\"(\", \"\")\n",
    "    try:\n",
    "        float(t)\n",
    "        return float(t)\n",
    "    except ValueError:\n",
    "        warnings.warn(\"Warning: Did not get a float where needed.\")\n",
    "        return False\n",
    "\n",
    "    \n",
    "def get_attributes(raw):\n",
    "    soup = BeautifulSoup(raw.text, \"html.parser\")\n",
    "    div = soup.select('span#docs-internal-guid-c27701e2-0e7e-7a4a-d5bd-469d49804385')\n",
    "    # name, url:\n",
    "    alinks = div[0].find_all('a')\n",
    "    # weights:\n",
    "    wts = re.findall('<b>(\\S?\\d+\\.\\d+ )percent\\S?<\\/b>', str(div))\n",
    "    # lists of attributes:\n",
    "    aa = div[0].find_all('span')\n",
    "    la = []\n",
    "    for i in range(len(aa)):\n",
    "        if i % 3 ==0:\n",
    "            t = aa[i].text.replace(u\"\\xa0\", \"\").replace(\"<span>\", \"\")\n",
    "            t = t.replace(\"): \", \"\")\n",
    "            la.append([t.split(\", \")])\n",
    "    # COMBINE:\n",
    "    res = []\n",
    "    for i in range(len(wts)):\n",
    "        wts[i] = tofloat(wts[i])\n",
    "        name, url = get_subrank_info(alinks[i])\n",
    "        # last one manually (:\n",
    "        if i == len(wts)-1:\n",
    "            la.append([\"a good job market, affordable, economically stable, family friendly, income equality, politically stable, safe, well-developed public education system, well-developed public health system\".split(\", \")])\n",
    "        res.append(AttributeStore(subranking=name, url=url, weight=wts[i], attributes=la[i]))\n",
    "    return res"
   ]
  },
  {
   "cell_type": "code",
   "execution_count": 16,
   "metadata": {
    "collapsed": false
   },
   "outputs": [
    {
     "name": "stdout",
     "output_type": "stream",
     "text": [
      "Downloading data...\n",
      "Done.\n",
      "Downloading data...\n",
      "Done.\n",
      "Found 60 countries.\n",
      "Found 9 subrankings.\n"
     ]
    }
   ],
   "source": [
    "BASEURL = \"http://www.usnews.com\"\n",
    "\n",
    "post1 = \"/news/best-countries/data-explorer\"\n",
    "r1 = dl_data(urljoin(BASEURL, post1))\n",
    "post2= \"/news/best-countries/articles/methodology\"\n",
    "r2 = dl_data(urljoin(BASEURL, post2))\n",
    "\n",
    "CountryStore = namedtuple(\"CountryStore\", 'name, url')\n",
    "countries = get_countries(r1)\n",
    "print \"Found %i countries.\" % len(countries) # 60\n",
    "\n",
    "AttributeStore = namedtuple(\"AttributeStore\", 'subranking, url, weight, attributes')\n",
    "attributes = get_attributes(r2)\n",
    "print \"Found %i subrankings.\" % len(attributes)  # 9"
   ]
  },
  {
   "cell_type": "code",
   "execution_count": 17,
   "metadata": {
    "collapsed": false
   },
   "outputs": [
    {
     "name": "stdout",
     "output_type": "stream",
     "text": [
      "         name                              url\n",
      "0     Algeria     /news/best-countries/algeria\n",
      "1   Argentina   /news/best-countries/argentina\n",
      "2   Australia   /news/best-countries/australia\n",
      "3     Austria     /news/best-countries/austria\n",
      "4  Azerbaijan  /news/best-countries/azerbaijan\n",
      "           subranking                                              url  \\\n",
      "0           Adventure          /news/best-countries/adventure-rankings   \n",
      "1         Citizenship        /news/best-countries/citizenship-rankings   \n",
      "2  Cultural Influence          /news/best-countries/influence-rankings   \n",
      "3    Entrepreneurship   /news/best-countries/entrepreneurship-rankings   \n",
      "4            Heritage           /news/best-countries/heritage-rankings   \n",
      "5   Open for Business  /news/best-countries/open-for-business-rankings   \n",
      "6              Movers             /news/best-countries/movers-rankings   \n",
      "7               Power              /news/best-countries/power-rankings   \n",
      "8     Quality of Life    /news/best-countries/quality-of-life-rankings   \n",
      "\n",
      "   weight                                         attributes  \n",
      "0    3.24  [[friendly, fun, pleasant climate, scenic, sexy]]  \n",
      "1   16.95  [[ares about human rights, cares about the env...  \n",
      "2   12.93  [[ulturally significant in terms of entertainm...  \n",
      "3   17.42  [[onnected to the rest of the world, educated ...  \n",
      "4    3.17  [[ulturally accessible, has a rich history, ha...  \n",
      "5   11.99  [[ureaucratic, cheap manufacturing costs, corr...  \n",
      "6   10.00         [[ifferent, distinctive, dynamic, unique]]  \n",
      "7    7.42  [[leader, economically influential, politicall...  \n",
      "8   16.89  [[a good job market, affordable, economically ...  \n"
     ]
    }
   ],
   "source": [
    "dfc = pd.DataFrame.from_records(countries, columns=CountryStore._fields)\n",
    "print dfc.head()\n",
    "\n",
    "dfa = pd.DataFrame.from_records(attributes, columns=AttributeStore._fields)\n",
    "print dfa\n",
    "\n",
    "#outfile = open(\"../../data/countries.pickle\", \"wb\")\n",
    "#pickle.dump(dfc, outfile)\n",
    "#outfile.close()\n",
    "\n",
    "#outfile = open(\"../../data/attributes.pickle\", \"wb\")\n",
    "#pickle.dump(dfa, outfile)\n",
    "#outfile.close()"
   ]
  },
  {
   "cell_type": "code",
   "execution_count": null,
   "metadata": {
    "collapsed": false
   },
   "outputs": [],
   "source": []
  }
 ],
 "metadata": {
  "kernelspec": {
   "display_name": "Python 2",
   "language": "python",
   "name": "python2"
  },
  "language_info": {
   "codemirror_mode": {
    "name": "ipython",
    "version": 2
   },
   "file_extension": ".py",
   "mimetype": "text/x-python",
   "name": "python",
   "nbconvert_exporter": "python",
   "pygments_lexer": "ipython2",
   "version": "2.7.10"
  }
 },
 "nbformat": 4,
 "nbformat_minor": 0
}
