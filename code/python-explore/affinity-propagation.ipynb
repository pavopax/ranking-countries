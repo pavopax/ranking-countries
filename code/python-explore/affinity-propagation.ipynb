{
 "cells": [
  {
   "cell_type": "markdown",
   "metadata": {
    "ein.tags": [
     "worksheet-0"
    ]
   },
   "source": [
    "# Exploring my dataset using clustering - affinity propagation"
   ]
  },
  {
   "cell_type": "markdown",
   "metadata": {
    "ein.tags": [
     "worksheet-0"
    ]
   },
   "source": [
    "production: `/heroku/clustering.py`\n",
    "\n",
    "http://scikit-learn.org/stable/auto_examples/cluster/plot_affinity_propagation.html#example-cluster-plot-affinity-propagation-py"
   ]
  },
  {
   "cell_type": "code",
   "execution_count": 1,
   "metadata": {
    "autoscroll": "json-false",
    "collapsed": false,
    "ein.tags": [
     "worksheet-0"
    ]
   },
   "outputs": [],
   "source": [
    "import numpy as np\n",
    "import pandas as pd\n",
    "import psycopg2"
   ]
  },
  {
   "cell_type": "code",
   "execution_count": 32,
   "metadata": {
    "autoscroll": "json-false",
    "collapsed": false,
    "ein.tags": [
     "worksheet-0"
    ]
   },
   "outputs": [],
   "source": [
    "conn = psycopg2.connect(\"dbname='indicators'\")\n",
    "cursor = conn.cursor()\n",
    "query = \"\"\"SELECT country, indicator, zscore from indicators;\"\"\"\n",
    "cursor.execute(query)\n",
    "df0 = pd.DataFrame(cursor.fetchall(),\n",
    "\t\t  columns=[desc[0] for desc in cursor.description])"
   ]
  },
  {
   "cell_type": "code",
   "execution_count": 33,
   "metadata": {
    "autoscroll": "json-false",
    "collapsed": false,
    "ein.tags": [
     "worksheet-0"
    ]
   },
   "outputs": [
    {
     "data": {
      "text/plain": [
       "['ST.INT.ARVL', 'GCI.A.01', 'GCI.B.06', 'GCI.B.08', 'SP.POP.GROW']"
      ]
     },
     "execution_count": 33,
     "metadata": {},
     "output_type": "execute_result"
    }
   ],
   "source": [
    "# select indicators: random or specified\n",
    "selected = df0['indicator'].sample(5)\n",
    "selected = ['ST.INT.ARVL', 'GCI.A.01', 'GCI.B.06', 'GCI.B.08', 'SP.POP.GROW']\n",
    "selected"
   ]
  },
  {
   "cell_type": "code",
   "execution_count": 37,
   "metadata": {
    "autoscroll": "json-false",
    "collapsed": false,
    "ein.tags": [
     "worksheet-0"
    ]
   },
   "outputs": [],
   "source": [
    "df = (df0[(df0.indicator.isin(selected))]\n",
    "      .pivot(index='country', columns = 'indicator', values='zscore'))\n",
    "df.fillna(0, inplace=True)\n",
    "query = \"\"\"SELECT indicator, label_short from metadata\"\"\"\n",
    "cursor.execute(query)\n",
    "indicator_labels = pd.DataFrame(cursor.fetchall(),\n",
    "\t\t\t\tcolumns=[desc[0] for desc in cursor.description])\n",
    "i_labs = indicator_labels[(indicator_labels.indicator.isin(selected))]\n",
    "conn.close()"
   ]
  },
  {
   "cell_type": "code",
   "execution_count": 154,
   "metadata": {
    "autoscroll": "json-false",
    "collapsed": false,
    "ein.tags": [
     "worksheet-0"
    ]
   },
   "outputs": [
    {
     "name": "stdout",
     "output_type": "stream",
     "text": [
      "indicator       GCI.A.01  GCI.B.06  GCI.B.08  SP.POP.GROW  ST.INT.ARVL\n",
      "country                                                               \n",
      "Afghanistan     0.000000  0.000000  0.000000     1.394280     0.000000\n",
      "Albania        -0.687855 -0.345454 -0.792408    -1.135210    -0.220841\n",
      "Algeria        -0.659362 -1.551330 -1.639340     0.511848    -0.239885\n",
      "American Samoa  0.000000  0.000000  0.000000    -0.862155    -0.462991\n",
      "Andorra         0.000000  0.000000  0.000000    -4.438730    -0.265421\n",
      "\n",
      "Indicators\n",
      "      indicator                                    label_short\n",
      "11  SP.POP.GROW                              Population growth\n",
      "13  ST.INT.ARVL      International tourism, number of arrivals\n",
      "14     GCI.A.01                  Competitiveness, Institutions\n",
      "19     GCI.B.06       Competitiveness, Goods market efficiency\n",
      "21     GCI.B.08  Competitiveness, Financial market development\n"
     ]
    }
   ],
   "source": [
    "print df.head()\n",
    "print \"\\nIndicators\"\n",
    "print i_labs"
   ]
  },
  {
   "cell_type": "markdown",
   "metadata": {
    "ein.tags": [
     "worksheet-0"
    ]
   },
   "source": [
    "# CLUSTER them with Affinity Propagation"
   ]
  },
  {
   "cell_type": "code",
   "execution_count": 40,
   "metadata": {
    "autoscroll": "json-false",
    "collapsed": false,
    "ein.tags": [
     "worksheet-0"
    ]
   },
   "outputs": [],
   "source": [
    "from sklearn.cluster import AffinityPropagation\n",
    "from sklearn import metrics"
   ]
  },
  {
   "cell_type": "code",
   "execution_count": 72,
   "metadata": {
    "autoscroll": "json-false",
    "collapsed": false,
    "ein.tags": [
     "worksheet-0"
    ]
   },
   "outputs": [],
   "source": [
    "X = np.array(df)\n",
    "labels_true = df.index"
   ]
  },
  {
   "cell_type": "code",
   "execution_count": 73,
   "metadata": {
    "autoscroll": "json-false",
    "collapsed": false,
    "ein.tags": [
     "worksheet-0"
    ]
   },
   "outputs": [
    {
     "name": "stdout",
     "output_type": "stream",
     "text": [
      "[[ 0.        0.        0.        1.39428   0.      ]\n",
      " [-0.687855 -0.345454 -0.792408 -1.13521  -0.220841]\n",
      " [-0.659362 -1.55133  -1.63934   0.511848 -0.239885]\n",
      " [ 0.        0.        0.       -0.862155 -0.462991]]\n",
      "Index([u'Afghanistan', u'Albania', u'Algeria', u'American Samoa', u'Andorra',\n",
      "       u'Angola', u'Antigua and Barbuda', u'Argentina', u'Armenia', u'Aruba',\n",
      "       ...\n",
      "       u'Uruguay', u'Uzbekistan', u'Vanuatu', u'Venezuela', u'Vietnam',\n",
      "       u'Virgin Islands', u'West Bank and Gaza', u'Yemen', u'Zambia',\n",
      "       u'Zimbabwe'],\n",
      "      dtype='object', name=u'country', length=219)\n"
     ]
    }
   ],
   "source": [
    "print X[:4]\n",
    "print labels_true"
   ]
  },
  {
   "cell_type": "code",
   "execution_count": 43,
   "metadata": {
    "autoscroll": "json-false",
    "collapsed": false,
    "ein.tags": [
     "worksheet-0"
    ]
   },
   "outputs": [],
   "source": [
    "af = AffinityPropagation().fit(X)"
   ]
  },
  {
   "cell_type": "code",
   "execution_count": 44,
   "metadata": {
    "autoscroll": "json-false",
    "collapsed": false,
    "ein.tags": [
     "worksheet-0"
    ]
   },
   "outputs": [],
   "source": [
    "cluster_centers_indices = af.cluster_centers_indices_\n",
    "labels = af.labels_\t\t# the clustering labels: 0 to n_clusters_\n",
    "n_clusters_ = len(cluster_centers_indices)"
   ]
  },
  {
   "cell_type": "code",
   "execution_count": 96,
   "metadata": {
    "autoscroll": "json-false",
    "collapsed": false,
    "ein.tags": [
     "worksheet-0"
    ]
   },
   "outputs": [
    {
     "data": {
      "text/plain": [
       "array([  1,   4,   9,  12,  17,  32,  41,  44,  75,  79,  82, 122, 145,\n",
       "       176, 182, 186, 200, 205, 207, 208])"
      ]
     },
     "execution_count": 96,
     "metadata": {},
     "output_type": "execute_result"
    }
   ],
   "source": [
    "cluster_centers_indices"
   ]
  },
  {
   "cell_type": "code",
   "execution_count": 95,
   "metadata": {
    "autoscroll": "json-false",
    "collapsed": false,
    "ein.tags": [
     "worksheet-0"
    ]
   },
   "outputs": [
    {
     "name": "stdout",
     "output_type": "stream",
     "text": [
      "20 = Number of clusters\n",
      "20 = Max cluster label value\n",
      "[ 7  0  9  2  1  9  2 10  2  2]  = first x labels\n"
     ]
    }
   ],
   "source": [
    "# labels = the clustering labels\n",
    "print n_clusters_, \"= Number of clusters\"\n",
    "print max(labels)+1, \"= Max cluster label value\"\n",
    "print labels[:10], \" = first x labels\""
   ]
  },
  {
   "cell_type": "code",
   "execution_count": 45,
   "metadata": {
    "autoscroll": "json-false",
    "collapsed": false,
    "ein.tags": [
     "worksheet-0"
    ]
   },
   "outputs": [
    {
     "name": "stdout",
     "output_type": "stream",
     "text": [
      "Estimated number of clusters: 20\n",
      "Homogeneity: 0.490\n",
      "Completeness: 1.000\n",
      "V-measure: 0.658\n",
      "Adjusted Rand Index: 0.000\n",
      "Adjusted Mutual Information 0.000\n",
      "Silhouette Coefficient: 0.385\n"
     ]
    }
   ],
   "source": [
    "print('Estimated number of clusters: %d' % n_clusters_)\n",
    "print('Homogeneity: %0.3f' % metrics.homogeneity_score(labels_true, labels))\n",
    "print('Completeness: %0.3f' % metrics.completeness_score(labels_true, labels))\n",
    "print('V-measure: %0.3f' % metrics.v_measure_score(labels_true, labels))\n",
    "print('Adjusted Rand Index: %0.3f' % metrics.adjusted_rand_score(\n",
    "    labels_true, labels))\n",
    "print('Adjusted Mutual Information %0.3f' %\n",
    "      metrics.adjusted_mutual_info_score(labels_true, labels))\n",
    "print('Silhouette Coefficient: %0.3f' % metrics.silhouette_score(\n",
    "    X, labels, metric='sqeuclidean'))"
   ]
  },
  {
   "cell_type": "code",
   "execution_count": 46,
   "metadata": {
    "autoscroll": "json-false",
    "collapsed": false,
    "ein.tags": [
     "worksheet-0"
    ]
   },
   "outputs": [
    {
     "data": {
      "image/png": "[encoded data removed]",
      "text/plain": [
       "<matplotlib.figure.Figure at 0x109c02150>"
      ]
     },
     "metadata": {},
     "output_type": "display_data"
    },
    {
     "data": {
      "text/plain": [
       "<matplotlib.text.Text at 0x11cb2fc90>"
      ]
     },
     "execution_count": 46,
     "metadata": {},
     "output_type": "execute_result"
    }
   ],
   "source": [
    "import matplotlib.pyplot as plt\n",
    "from itertools import cycle\n",
    "%matplotlib inline\n",
    "\n",
    "plt.figure(1)\n",
    "plt.clf()\n",
    "\n",
    "colors = cycle('bgrcmykbgrcmykbgrcmykbgrcmyk')\n",
    "for k, col in zip(range(n_clusters_), colors):\n",
    "    class_members = labels == k\n",
    "    cluster_center = X[cluster_centers_indices[k]]\n",
    "    plt.plot(X[class_members, 0], X[class_members, 1], col + '.')\n",
    "    plt.plot(cluster_center[0], cluster_center[1], 'o', markerfacecolor=col,\n",
    "            markeredgecolor='k', markersize=14)\n",
    "    for x in X[class_members]:\n",
    "        plt.plot([cluster_center[0], x[0]], [cluster_center[1], x[1]], col)\n",
    "\n",
    "plt.title('Estimated number of clusters: %d' % n_clusters_)    "
   ]
  },
  {
   "cell_type": "code",
   "execution_count": 67,
   "metadata": {
    "autoscroll": "json-false",
    "collapsed": false,
    "ein.tags": [
     "worksheet-0"
    ]
   },
   "outputs": [
    {
     "name": "stdout",
     "output_type": "stream",
     "text": [
      "Selected indicators:\n",
      "['ST.INT.ARVL', 'GCI.A.01', 'GCI.B.06', 'GCI.B.08', 'SP.POP.GROW']\n",
      "\n",
      "Indicator labels:\n",
      "      indicator                                    label_short\n",
      "11  SP.POP.GROW                              Population growth\n",
      "13  ST.INT.ARVL      International tourism, number of arrivals\n",
      "14     GCI.A.01                  Competitiveness, Institutions\n",
      "19     GCI.B.06       Competitiveness, Goods market efficiency\n",
      "21     GCI.B.08  Competitiveness, Financial market development\n",
      "\n",
      "Cluster members (k = 0):\n",
      "Index([u'Albania', u'Moldova', u'Serbia', u'Slovenia'], dtype='object', name=u'country')\n"
     ]
    }
   ],
   "source": [
    "# print members of a cluster (from 0 to 20)\n",
    "k = 0\n",
    "class_members=(labels==k)\n",
    "print \"Selected indicators:\"\n",
    "#print selected.values\n",
    "print selected\n",
    "print \"\\nIndicator labels:\"\n",
    "print i_labs\n",
    "print \"\\nCluster members (k = %i):\" % k\n",
    "print labels_true[class_members]"
   ]
  },
  {
   "cell_type": "code",
   "execution_count": 68,
   "metadata": {
    "autoscroll": "json-false",
    "collapsed": false,
    "ein.tags": [
     "worksheet-0"
    ]
   },
   "outputs": [
    {
     "name": "stdout",
     "output_type": "stream",
     "text": [
      "[False  True False False False False False False False False False False\n",
      " False False False False False False False False False False False False\n",
      " False False False False False False False False False False False False\n",
      " False False False False False False False False False False False False\n",
      " False False False False False False False False False False False False\n",
      " False False False False False False False False False False False False\n",
      " False False False False False False False False False False False False\n",
      " False False False False False False False False False False False False\n",
      " False False False False False False False False False False False False\n",
      " False False False False False False False False False False False False\n",
      " False False False False False False False False  True False False False\n",
      " False False False False False False False False False False False False\n",
      " False False False False False False False False False False False False\n",
      " False False False False False False False False  True False False False\n",
      " False False  True False False False False False False False False False\n",
      " False False False False False False False False False False False False\n",
      " False False False False False False False False False False False False\n",
      " False False False False False False False False False False False False\n",
      " False False False]\n",
      "4\n",
      "[ 7  0  9  2  1  9  2 10  2  2 15 18  3  4  6 11  2  4 14 14  2  3  5  8 14\n",
      "  6  3  8  5  9  3  6  5 15  3  3 14  9  2 11 13  6 14 14  7  3 14  8  2  3\n",
      " 11  8  2  4  3  2  6  3  5  2  7 14  4  5  8  2 15 19  3  5  3  2 18 14 17\n",
      "  8  2  3 14  9 14  2 10  6 18  8 11  6 11  5  7  4  2 14 16  2  4 14  3 14\n",
      " 14  8  3  2  7  5  3  8  6  3 14 10  2  8 15  3 11  5  5 18 14  5 11  2  9\n",
      " 11 16  2  0  2  5  2  3  5 10 14  6  4  3 15  6  7  5  3 15 12  5  2 11 14\n",
      "  6  6 14  8  8  4 15  8 17 11  2  2 11  7  0  3  5 15  7  8  0 14 14 14 11\n",
      "  7 13 11  3  2  2  2 14  6  3 15 15  3  3  4  5  5 16  3  7  9  7  2  6  3\n",
      " 16  3 14  2  5 17 15 18 19  2 14 14 10  6  8  7  9  7  5]\n"
     ]
    }
   ],
   "source": [
    "print class_members\n",
    "print sum(class_members)\n",
    "print labels"
   ]
  },
  {
   "cell_type": "code",
   "execution_count": 78,
   "metadata": {
    "autoscroll": "json-false",
    "collapsed": false,
    "ein.tags": [
     "worksheet-0"
    ]
   },
   "outputs": [
    {
     "data": {
      "text/plain": [
       "array([  6,   8,  25,  28,  41,  57,  75,  98, 102, 105, 107, 117, 136,\n       139, 140, 141, 144, 172, 173, 186, 193])"
      ]
     },
     "execution_count": 78,
     "metadata": {},
     "output_type": "execute_result"
    }
   ],
   "source": [
    "cluster_centers_indices"
   ]
  },
  {
   "cell_type": "code",
   "execution_count": 102,
   "metadata": {
    "autoscroll": "json-false",
    "collapsed": false,
    "ein.tags": [
     "worksheet-0"
    ]
   },
   "outputs": [
    {
     "name": "stdout",
     "output_type": "stream",
     "text": [
      "219\n",
      "Index([u'Afghanistan', u'Albania', u'Algeria', u'American Samoa', u'Andorra',\n",
      "       u'Angola', u'Antigua and Barbuda', u'Argentina', u'Armenia', u'Aruba',\n",
      "       ...\n",
      "       u'Uruguay', u'Uzbekistan', u'Vanuatu', u'Venezuela', u'Vietnam',\n",
      "       u'Virgin Islands', u'West Bank and Gaza', u'Yemen', u'Zambia',\n",
      "       u'Zimbabwe'],\n",
      "      dtype='object', name=u'country', length=219)\n"
     ]
    }
   ],
   "source": [
    "print len(labels_true)\n",
    "print labels_true"
   ]
  },
  {
   "cell_type": "markdown",
   "metadata": {
    "ein.tags": [
     "worksheet-0"
    ]
   },
   "source": [
    "## Explore label filter"
   ]
  },
  {
   "cell_type": "code",
   "execution_count": 117,
   "metadata": {
    "autoscroll": "json-false",
    "collapsed": false,
    "ein.tags": [
     "worksheet-0"
    ]
   },
   "outputs": [
    {
     "data": {
      "text/plain": [
       "                 country  label\n",
       "1                Albania      0\n",
       "128              Moldova      0\n",
       "164               Serbia      0\n",
       "170             Slovenia      0\n",
       "4                Andorra      1\n",
       "3         American Samoa      2\n",
       "6    Antigua and Barbuda      2\n",
       "8                Armenia      2\n",
       "9                  Aruba      2\n",
       "16               Belarus      2\n",
       "20               Bermuda      2\n",
       "38       Channel Islands      2"
      ]
     },
     "execution_count": 117,
     "metadata": {},
     "output_type": "execute_result"
    }
   ],
   "source": [
    "label_map = pd.DataFrame({\"label\": labels,\n",
    "\t\t     \"country\": labels_true}).sort_values([\"label\", \"country\"])\n",
    "label_map.head(12)"
   ]
  },
  {
   "cell_type": "code",
   "execution_count": 158,
   "metadata": {
    "autoscroll": "json-false",
    "collapsed": false,
    "ein.tags": [
     "worksheet-0"
    ]
   },
   "outputs": [],
   "source": [
    "_country = \"France\"\n",
    "cluster = label_map[label_map.country.isin([_country])].label"
   ]
  },
  {
   "cell_type": "code",
   "execution_count": 166,
   "metadata": {
    "autoscroll": "json-false",
    "collapsed": false,
    "ein.tags": [
     "worksheet-0"
    ]
   },
   "outputs": [
    {
     "name": "stdout",
     "output_type": "stream",
     "text": [
      "['United States']\n"
     ]
    }
   ],
   "source": [
    "similar_countries = label_map[label_map.label.isin(cluster)].country.tolist()\n",
    "print [x for x in similar_countries if x != _country]"
   ]
  },
  {
   "cell_type": "code",
   "execution_count": 163,
   "metadata": {
    "autoscroll": "json-false",
    "collapsed": false,
    "ein.tags": [
     "worksheet-0"
    ]
   },
   "outputs": [
    {
     "data": {
      "text/plain": [
       "'France'"
      ]
     },
     "execution_count": 163,
     "metadata": {},
     "output_type": "execute_result"
    }
   ],
   "source": [
    "_country"
   ]
  },
  {
   "cell_type": "code",
   "execution_count": 149,
   "metadata": {
    "autoscroll": "json-false",
    "collapsed": false,
    "ein.tags": [
     "worksheet-0"
    ]
   },
   "outputs": [
    {
     "data": {
      "text/plain": [
       "['American Samoa',\n",
       " 'Antigua and Barbuda',\n",
       " 'Armenia',\n",
       " 'Aruba',\n",
       " 'Belarus',\n",
       " 'Bermuda',\n",
       " 'Channel Islands',\n",
       " 'Cuba',\n",
       " \"Dem. People's Rep. Korea\",\n",
       " 'Dominica',\n",
       " 'El Salvador',\n",
       " 'Fiji',\n",
       " 'Georgia',\n",
       " 'Grenada',\n",
       " 'Guyana',\n",
       " 'Isle of Man',\n",
       " 'Jamaica',\n",
       " 'Kosovo',\n",
       " 'Liechtenstein',\n",
       " 'Marshall Islands',\n",
       " 'Micronesia',\n",
       " 'Monaco',\n",
       " 'Montenegro',\n",
       " 'Palau',\n",
       " 'Samoa',\n",
       " 'San Marino',\n",
       " 'St. Lucia',\n",
       " 'St. Martin (French part)',\n",
       " 'St. Vincent and the Grenadines',\n",
       " 'Tonga',\n",
       " 'Tuvalu',\n",
       " 'Uruguay']"
      ]
     },
     "execution_count": 149,
     "metadata": {},
     "output_type": "execute_result"
    }
   ],
   "source": [
    "y"
   ]
  },
  {
   "cell_type": "code",
   "execution_count": 0,
   "metadata": {
    "autoscroll": "json-false",
    "collapsed": false,
    "ein.tags": [
     "worksheet-0"
    ]
   },
   "outputs": [],
   "source": []
  }
 ],
 "metadata": {
  "kernelspec": {
   "display_name": "Python 2",
   "name": "python2"
  },
  "language_info": {
   "codemirror_mode": {
    "name": "ipython",
    "version": 2
   },
   "file_extension": ".py",
   "mimetype": "text/x-python",
   "name": "python",
   "nbconvert_exporter": "python",
   "pygments_lexer": "ipython2",
   "version": "2.7.11"
  },
  "name": "affinity-propagation.ipynb"
 },
 "nbformat": 4,
 "nbformat_minor": 0
}
