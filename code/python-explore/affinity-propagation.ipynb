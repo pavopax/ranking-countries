{
 "cells": [
  {
   "cell_type": "markdown",
   "metadata": {
    "ein.tags": [
     "worksheet-0"
    ]
   },
   "source": [
    "# exploring my dataset using clustering - affinity propagation\n",
    "http://scikit-learn.org/stable/auto_examples/cluster/plot_affinity_propagation.html#example-cluster-plot-affinity-propagation-py"
   ]
  },
  {
   "cell_type": "code",
   "execution_count": 11,
   "metadata": {
    "autoscroll": "json-false",
    "collapsed": false,
    "ein.tags": [
     "worksheet-0"
    ]
   },
   "outputs": [],
   "source": [
    "import numpy as np\n",
    "import pandas as pd\n",
    "import psycopg2"
   ]
  },
  {
   "cell_type": "code",
   "execution_count": 14,
   "metadata": {
    "autoscroll": "json-false",
    "collapsed": false,
    "ein.tags": [
     "worksheet-0"
    ]
   },
   "outputs": [],
   "source": [
    "conn = psycopg2.connect(\"dbname='indicators'\")\n",
    "cursor = conn.cursor()"
   ]
  },
  {
   "cell_type": "code",
   "execution_count": 31,
   "metadata": {
    "autoscroll": "json-false",
    "collapsed": false,
    "ein.tags": [
     "worksheet-0"
    ]
   },
   "outputs": [],
   "source": [
    "query = \"\"\"SELECT country, indicator, zscore from indicators;\"\"\"\n",
    "cursor.execute(query)"
   ]
  },
  {
   "cell_type": "code",
   "execution_count": 32,
   "metadata": {
    "autoscroll": "json-false",
    "collapsed": false,
    "ein.tags": [
     "worksheet-0"
    ]
   },
   "outputs": [],
   "source": [
    "df0 = pd.DataFrame(cursor.fetchall(),\n",
    "\t\t  columns=[desc[0] for desc in cursor.description])"
   ]
  },
  {
   "cell_type": "code",
   "execution_count": 60,
   "metadata": {
    "autoscroll": "json-false",
    "collapsed": false,
    "ein.tags": [
     "worksheet-0"
    ]
   },
   "outputs": [],
   "source": [
    "selected = df0['indicator'].sample(5)\n",
    "df = (df0[(df0.indicator.isin(selected))]\n",
    "      .pivot(index='country', columns = 'indicator', values='zscore'))\n",
    "df.fillna(0, inplace=True)"
   ]
  },
  {
   "cell_type": "code",
   "execution_count": 118,
   "metadata": {
    "autoscroll": "json-false",
    "collapsed": false,
    "ein.tags": [
     "worksheet-0"
    ]
   },
   "outputs": [],
   "source": [
    "query = \"\"\"SELECT indicator, label_short from metadata\"\"\"\n",
    "cursor.execute(query)\n",
    "indicator_labels = pd.DataFrame(cursor.fetchall(),\n",
    "\t\t\t\tcolumns=[desc[0] for desc in cursor.description])"
   ]
  },
  {
   "cell_type": "code",
   "execution_count": 125,
   "metadata": {
    "autoscroll": "json-false",
    "collapsed": false,
    "ein.tags": [
     "worksheet-0"
    ]
   },
   "outputs": [],
   "source": [
    "i_labs = indicator_labels[(indicator_labels.indicator.isin(selected))]"
   ]
  },
  {
   "cell_type": "code",
   "execution_count": 121,
   "metadata": {
    "autoscroll": "json-false",
    "collapsed": false,
    "ein.tags": [
     "worksheet-0"
    ]
   },
   "outputs": [],
   "source": [
    "conn.close()"
   ]
  },
  {
   "cell_type": "code",
   "execution_count": 120,
   "metadata": {
    "autoscroll": "json-false",
    "collapsed": false,
    "ein.tags": [
     "worksheet-0"
    ]
   },
   "outputs": [
    {
     "data": {
      "text/plain": [
       "indicator    BRIBEIDX   EOSQ048  EOSQ050  NV.IND.MANF.ZS  SG.GEN.LSOM.ZS\n",
       "country                                                                 \n",
       "Afghanistan  0.000000  0.000000  0.00000        0.062218        0.000000\n",
       "Albania     -0.788235  0.821267 -0.76861       -0.878490       -0.586303\n",
       "Algeria     -1.001360 -0.576364 -1.41979        0.000000       -1.581120\n",
       "Andorra      0.000000  0.000000  0.00000       -1.215450        0.000000\n",
       "Angola      -1.470030 -1.181890 -2.43313        0.000000        0.000000"
      ]
     },
     "execution_count": 120,
     "metadata": {},
     "output_type": "execute_result"
    }
   ],
   "source": [
    "df.head()"
   ]
  },
  {
   "cell_type": "code",
   "execution_count": 127,
   "metadata": {
    "autoscroll": "json-false",
    "collapsed": false,
    "ein.tags": [
     "worksheet-0"
    ]
   },
   "outputs": [
    {
     "data": {
      "text/plain": [
       "         indicator                                        label_short\n",
       "44  NV.IND.MANF.ZS                         Manufacturing, value added\n",
       "49  SG.GEN.LSOM.ZS  Female legislators, senior officials and managers\n",
       "65        BRIBEIDX                      Irregular payments and bribes\n",
       "81         EOSQ048                    Burden of government regulation\n",
       "83         EOSQ050                       Burden of customs procedures"
      ]
     },
     "execution_count": 127,
     "metadata": {},
     "output_type": "execute_result"
    }
   ],
   "source": [
    "i_labs"
   ]
  },
  {
   "cell_type": "markdown",
   "metadata": {
    "ein.tags": [
     "worksheet-0"
    ]
   },
   "source": [
    "# CLUSTER THESE with Affinity Propagation"
   ]
  },
  {
   "cell_type": "code",
   "execution_count": 56,
   "metadata": {
    "autoscroll": "json-false",
    "collapsed": false,
    "ein.tags": [
     "worksheet-0"
    ]
   },
   "outputs": [],
   "source": [
    "from sklearn.cluster import AffinityPropagation\n",
    "from sklearn import metrics"
   ]
  },
  {
   "cell_type": "code",
   "execution_count": 0,
   "metadata": {
    "autoscroll": "json-false",
    "collapsed": false,
    "ein.tags": [
     "worksheet-0"
    ]
   },
   "outputs": [],
   "source": [
    "X = np.array(df)\n",
    "labels_true = df.index"
   ]
  },
  {
   "cell_type": "code",
   "execution_count": 70,
   "metadata": {
    "autoscroll": "json-false",
    "collapsed": false,
    "ein.tags": [
     "worksheet-0"
    ]
   },
   "outputs": [
    {
     "name": "stdout",
     "output_type": "stream",
     "text": [
      "[[ 0.         0.         0.         0.0622179  0.       ]\n",
      " [-0.788235   0.821267  -0.76861   -0.87849   -0.586303 ]\n",
      " [-1.00136   -0.576364  -1.41979    0.        -1.58112  ]\n",
      " [ 0.         0.         0.        -1.21545    0.       ]]\n",
      "Index([u'Afghanistan', u'Albania', u'Algeria', u'Andorra', u'Angola',\n",
      "       u'Antigua and Barbuda', u'Argentina', u'Armenia', u'Aruba',\n",
      "       u'Australia',\n",
      "       ...\n",
      "       u'United States', u'Uruguay', u'Uzbekistan', u'Vanuatu', u'Venezuela',\n",
      "       u'Vietnam', u'West Bank and Gaza', u'Yemen', u'Zambia', u'Zimbabwe'],\n",
      "      dtype='object', name=u'country', length=197)\n"
     ]
    }
   ],
   "source": [
    "print X[:4]\n",
    "print labels_true"
   ]
  },
  {
   "cell_type": "code",
   "execution_count": 0,
   "metadata": {
    "autoscroll": "json-false",
    "collapsed": false,
    "ein.tags": [
     "worksheet-0"
    ]
   },
   "outputs": [],
   "source": [
    "af = AffinityPropagation().fit(X)"
   ]
  },
  {
   "cell_type": "code",
   "execution_count": 72,
   "metadata": {
    "autoscroll": "json-false",
    "collapsed": false,
    "ein.tags": [
     "worksheet-0"
    ]
   },
   "outputs": [],
   "source": [
    "cluster_centers_indices = af.cluster_centers_indices_\n",
    "labels = af.labels_\n",
    "n_clusters_ = len(cluster_centers_indices)"
   ]
  },
  {
   "cell_type": "code",
   "execution_count": 73,
   "metadata": {
    "autoscroll": "json-false",
    "collapsed": false,
    "ein.tags": [
     "worksheet-0"
    ]
   },
   "outputs": [
    {
     "name": "stdout",
     "output_type": "stream",
     "text": [
      "Estimated number of clusters: 21\n",
      "Homogeneity: 0.536\n",
      "Completeness: 1.000\n",
      "V-measure: 0.698\n",
      "Adjusted Rand Index: 0.000\n",
      "Adjusted Mutual Information 0.000\n",
      "Silhouette Coefficient: 0.429\n"
     ]
    }
   ],
   "source": [
    "print('Estimated number of clusters: %d' % n_clusters_)\n",
    "print('Homogeneity: %0.3f' % metrics.homogeneity_score(labels_true, labels))\n",
    "print('Completeness: %0.3f' % metrics.completeness_score(labels_true, labels))\n",
    "print('V-measure: %0.3f' % metrics.v_measure_score(labels_true, labels))\n",
    "print('Adjusted Rand Index: %0.3f' % metrics.adjusted_rand_score(\n",
    "    labels_true, labels))\n",
    "print('Adjusted Mutual Information %0.3f' %\n",
    "      metrics.adjusted_mutual_info_score(labels_true, labels))\n",
    "print('Silhouette Coefficient: %0.3f' % metrics.silhouette_score(\n",
    "    X, labels, metric='sqeuclidean'))"
   ]
  },
  {
   "cell_type": "code",
   "execution_count": 74,
   "metadata": {
    "autoscroll": "json-false",
    "collapsed": false,
    "ein.tags": [
     "worksheet-0"
    ]
   },
   "outputs": [
    {
     "data": {
      "image/png": "[encoded data removed]",
      "text/plain": [
       "<matplotlib.figure.Figure at 0x1186028d0>"
      ]
     },
     "metadata": {},
     "output_type": "display_data"
    },
    {
     "data": {
      "text/plain": [
       "<matplotlib.text.Text at 0x11870c410>"
      ]
     },
     "execution_count": 74,
     "metadata": {},
     "output_type": "execute_result"
    },
    {
     "name": "stderr",
     "output_type": "stream",
     "text": [
      "/Users/pawel/anaconda/lib/python2.7/site-packages/matplotlib/font_manager.py:273: UserWarning: Matplotlib is building the font cache using fc-list. This may take a moment.\n",
      "  warnings.warn('Matplotlib is building the font cache using fc-list. This may take a moment.')\n"
     ]
    }
   ],
   "source": [
    "import matplotlib.pyplot as plt\n",
    "from itertools import cycle\n",
    "%matplotlib inline\n",
    "\n",
    "plt.figure(1)\n",
    "plt.clf()\n",
    "\n",
    "colors = cycle('bgrcmykbgrcmykbgrcmykbgrcmyk')\n",
    "for k, col in zip(range(n_clusters_), colors):\n",
    "    class_members = labels == k\n",
    "    cluster_center = X[cluster_centers_indices[k]]\n",
    "    plt.plot(X[class_members, 0], X[class_members, 1], col + '.')\n",
    "    plt.plot(cluster_center[0], cluster_center[1], 'o', markerfacecolor=col,\n",
    "            markeredgecolor='k', markersize=14)\n",
    "    for x in X[class_members]:\n",
    "        plt.plot([cluster_center[0], x[0]], [cluster_center[1], x[1]], col)\n",
    "\n",
    "plt.title('Estimated number of clusters: %d' % n_clusters_)    "
   ]
  },
  {
   "cell_type": "code",
   "execution_count": 131,
   "metadata": {
    "autoscroll": "json-false",
    "collapsed": false,
    "ein.tags": [
     "worksheet-0"
    ]
   },
   "outputs": [
    {
     "name": "stdout",
     "output_type": "stream",
     "text": [
      "Selected indicators:\n",
      "['EOSQ048' 'SG.GEN.LSOM.ZS' 'EOSQ050' 'NV.IND.MANF.ZS' 'BRIBEIDX']\n",
      "\n",
      "Indicator labels:\n",
      "         indicator                                        label_short\n",
      "44  NV.IND.MANF.ZS                         Manufacturing, value added\n",
      "49  SG.GEN.LSOM.ZS  Female legislators, senior officials and managers\n",
      "65        BRIBEIDX                      Irregular payments and bribes\n",
      "81         EOSQ048                    Burden of government regulation\n",
      "83         EOSQ050                       Burden of customs procedures\n",
      "\n",
      "Cluster members (k = 10):\n",
      "Index([u'Armenia', u'Bolivia', u'Burkina Faso', u'Cameroon', u'Cape Verde',\n",
      "       u'Cote d'Ivoire', u'Guyana', u'Kenya', u'Lao PDR', u'Lesotho',\n",
      "       u'Malawi', u'Mozambique', u'Paraguay', u'Senegal', u'Seychelles',\n",
      "       u'Tajikistan', u'Uganda', u'Zambia'],\n",
      "      dtype='object', name=u'country')\n"
     ]
    }
   ],
   "source": [
    "# print members of a cluster (from 0 to 20)\n",
    "k = 10\n",
    "class_members=(labels==k)\n",
    "print \"Selected indicators:\"\n",
    "print selected.values\n",
    "print \"\\nIndicator labels:\"\n",
    "print i_labs\n",
    "print \"\\nCluster members (k = %i):\" % k\n",
    "print labels_true[class_members]"
   ]
  },
  {
   "cell_type": "code",
   "execution_count": 102,
   "metadata": {
    "autoscroll": "json-false",
    "collapsed": false,
    "ein.tags": [
     "worksheet-0"
    ]
   },
   "outputs": [
    {
     "name": "stdout",
     "output_type": "stream",
     "text": [
      "[False False False False  True False  True False False False False False\n",
      " False False False False False False False False False False False False\n",
      "  True False False False False False False False False False False False\n",
      " False False False False False False False False False False False False\n",
      " False False False False False False False False False False False False\n",
      " False False False False False False False False False False False False\n",
      " False False False False False False False False False False False False\n",
      " False False False False False False False False False False False False\n",
      " False False False False False False False False False False False False\n",
      " False False False False False False False False False False False False\n",
      " False False False False False False False False False False False False\n",
      " False False False False False False False False False False False False\n",
      " False False False False False False False False False False False False\n",
      " False False False False False False False False False False False False\n",
      " False False False False False False False False False False False False\n",
      " False False False False False False False False False False False  True\n",
      " False False False False False]\n",
      "4\n",
      "[ 2 17  7  4  0  4  0 10  1 13 13 17  9  7  1  8 13  2  2  1  9 10  2  1  0\n",
      "  2  2 10  3  4  6 10 19 10  1  4  3  9 18 11  4  4  2 10 12  2  9 18  6 19\n",
      "  4  4  2  2 20  6  4  5 17  4  2  5  4 13  4  9  5  8  4 12  4  6  3 10  3\n",
      "  6 16  8 19 20  6  7  5 13 12 12 19  9  2 10  1 18  2 20 12  6 10  2  7 10\n",
      "  2  3  8 16  4  9  6 10  5  4  3  2  4  3  9 12  4 11 11  4 20 10  3  2 17\n",
      " 19 19 11  4  3 19  9  7  4  1 10 12 11  8 13 14 15  6 11 16  2 20 20 10 12\n",
      " 10 17  5 12  8  4  4 12 13  6  2  1  4  4  6 18  5  5  2 20 19 10 17 18  1\n",
      "  4 17  4  4  3  6 20  4 10 11 15 19 13  8  2  4  0  6 20  7 10  3]\n"
     ]
    }
   ],
   "source": [
    "print class_members\n",
    "print sum(class_members)\n",
    "print labels"
   ]
  },
  {
   "cell_type": "code",
   "execution_count": 78,
   "metadata": {
    "autoscroll": "json-false",
    "collapsed": false,
    "ein.tags": [
     "worksheet-0"
    ]
   },
   "outputs": [
    {
     "data": {
      "text/plain": [
       "array([  6,   8,  25,  28,  41,  57,  75,  98, 102, 105, 107, 117, 136,\n",
       "       139, 140, 141, 144, 172, 173, 186, 193])"
      ]
     },
     "execution_count": 78,
     "metadata": {},
     "output_type": "execute_result"
    }
   ],
   "source": [
    "cluster_centers_indices"
   ]
  },
  {
   "cell_type": "code",
   "execution_count": 94,
   "metadata": {
    "autoscroll": "json-false",
    "collapsed": false,
    "ein.tags": [
     "worksheet-0"
    ]
   },
   "outputs": [
    {
     "data": {
      "text/plain": [
       "Index([u'Afghanistan', u'Albania', u'Algeria', u'Andorra', u'Angola',\n",
       "       u'Antigua and Barbuda', u'Argentina', u'Armenia', u'Aruba',\n",
       "       u'Australia',\n",
       "       ...\n",
       "       u'United States', u'Uruguay', u'Uzbekistan', u'Vanuatu', u'Venezuela',\n",
       "       u'Vietnam', u'West Bank and Gaza', u'Yemen', u'Zambia', u'Zimbabwe'],\n",
       "      dtype='object', name=u'country', length=197)"
      ]
     },
     "execution_count": 94,
     "metadata": {},
     "output_type": "execute_result"
    }
   ],
   "source": [
    "labels_true"
   ]
  },
  {
   "cell_type": "code",
   "execution_count": 0,
   "metadata": {
    "autoscroll": "json-false",
    "collapsed": false,
    "ein.tags": [
     "worksheet-0"
    ]
   },
   "outputs": [],
   "source": []
  },
  {
   "cell_type": "code",
   "execution_count": 0,
   "metadata": {
    "autoscroll": "json-false",
    "collapsed": false,
    "ein.tags": [
     "worksheet-1"
    ]
   },
   "outputs": [],
   "source": []
  }
 ],
 "metadata": {
  "kernelspec": {
   "display_name": "Python 2",
   "name": "python2"
  },
  "name": "affinity-propagation.ipynb"
 },
 "nbformat": 4,
 "nbformat_minor": 0
}
