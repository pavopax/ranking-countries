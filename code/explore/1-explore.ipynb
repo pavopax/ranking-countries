{
 "cells": [
  {
   "cell_type": "code",
   "execution_count": 17,
   "metadata": {
    "autoscroll": "json-false",
    "collapsed": false,
    "ein.tags": [
     "worksheet-0"
    ]
   },
   "outputs": [],
   "source": [
    "import pickle\n",
    "import pandas as pd"
   ]
  },
  {
   "cell_type": "code",
   "execution_count": 10,
   "metadata": {
    "autoscroll": "json-false",
    "collapsed": false,
    "ein.tags": [
     "worksheet-0"
    ]
   },
   "outputs": [],
   "source": [
    "dfc = pickle.load( open(\"../../data/countries.pickle\", \"rb\"))\n",
    "dfa = pickle.load( open(\"../../data/attributes.pickle\", \"rb\"))"
   ]
  },
  {
   "cell_type": "code",
   "execution_count": 29,
   "metadata": {
    "autoscroll": "json-false",
    "collapsed": false,
    "ein.tags": [
     "worksheet-0"
    ]
   },
   "outputs": [
    {
     "data": {
      "text/html": [
       "<div>\n",
       "<table border=\"1\" class=\"dataframe\">\n",
       "  <thead>\n",
       "    <tr style=\"text-align: right;\">\n",
       "      <th></th>\n",
       "      <th>name</th>\n",
       "      <th>url</th>\n",
       "    </tr>\n",
       "  </thead>\n",
       "  <tbody>\n",
       "    <tr>\n",
       "      <th>0</th>\n",
       "      <td>Algeria</td>\n",
       "      <td>/news/best-countries/algeria</td>\n",
       "    </tr>\n",
       "    <tr>\n",
       "      <th>1</th>\n",
       "      <td>Argentina</td>\n",
       "      <td>/news/best-countries/argentina</td>\n",
       "    </tr>\n",
       "    <tr>\n",
       "      <th>2</th>\n",
       "      <td>Australia</td>\n",
       "      <td>/news/best-countries/australia</td>\n",
       "    </tr>\n",
       "    <tr>\n",
       "      <th>3</th>\n",
       "      <td>Austria</td>\n",
       "      <td>/news/best-countries/austria</td>\n",
       "    </tr>\n",
       "    <tr>\n",
       "      <th>4</th>\n",
       "      <td>Azerbaijan</td>\n",
       "      <td>/news/best-countries/azerbaijan</td>\n",
       "    </tr>\n",
       "  </tbody>\n",
       "</table>\n",
       "</div>"
      ],
      "text/plain": [
       "         name                              url\n",
       "0     Algeria     /news/best-countries/algeria\n",
       "1   Argentina   /news/best-countries/argentina\n",
       "2   Australia   /news/best-countries/australia\n",
       "3     Austria     /news/best-countries/austria\n",
       "4  Azerbaijan  /news/best-countries/azerbaijan"
      ]
     },
     "execution_count": 29,
     "metadata": {},
     "output_type": "execute_result"
    }
   ],
   "source": [
    "dfc.head()"
   ]
  },
  {
   "cell_type": "code",
   "execution_count": 30,
   "metadata": {
    "autoscroll": "json-false",
    "collapsed": false,
    "ein.tags": [
     "worksheet-0"
    ]
   },
   "outputs": [
    {
     "name": "stdout",
     "output_type": "stream",
     "text": [
      "[[u'friendly', u'fun', u'pleasant climate', u'scenic', u'sexy']]\n",
      "[[u'ares about human rights', u'cares about the environment', u'gender equality', u'progressive', u'religious freedom', u'respects property rights', u'trustworthy', u'well-distributed political power']]\n",
      "[[u'ulturally significant in terms of entertainment', u'fashionable', u'happy', u'has an influential culture', u'modern', u'prestigious', u'trendy']]\n",
      "[[u'onnected to the rest of the world', u'educated population', u'entrepreneurial', u'innovative', u'provides easy access to capital', u'skilled labor force', u'technological expertise', u'transparent business practices', u'well-developed infrastructure', u'well-developed legal framework']]\n",
      "[[u'ulturally accessible', u'has a rich history', u'has great food', u'many cultural attractions']]\n",
      "[[u'ureaucratic', u'cheap manufacturing costs', u'corrupt', u'favorable tax environment', u'transparent government practices']]\n",
      "[[u'ifferent', u'distinctive', u'dynamic', u'unique']]\n",
      "[[u'leader', u'economically influential', u'politically influential', u'strong international alliances', u'strong military']]\n",
      "[['a good job market', 'affordable', 'economically stable', 'family friendly', 'income equality', 'politically stable', 'safe', 'well-developed public education system', 'well-developed public health system']]\n"
     ]
    }
   ],
   "source": [
    "for i in range(len(dfa['attributes'])):\n",
    "    print dfa['attributes'][i]\n"
   ]
  },
  {
   "cell_type": "code",
   "execution_count": 35,
   "metadata": {
    "collapsed": false
   },
   "outputs": [
    {
     "data": {
      "text/plain": [
       "[[[u'friendly', u'fun', u'pleasant climate', u'scenic', u'sexy']],\n",
       " [[u'ares about human rights',\n",
       "   u'cares about the environment',\n",
       "   u'gender equality',\n",
       "   u'progressive',\n",
       "   u'religious freedom',\n",
       "   u'respects property rights',\n",
       "   u'trustworthy',\n",
       "   u'well-distributed political power']],\n",
       " [[u'ulturally significant in terms of entertainment',\n",
       "   u'fashionable',\n",
       "   u'happy',\n",
       "   u'has an influential culture',\n",
       "   u'modern',\n",
       "   u'prestigious',\n",
       "   u'trendy']],\n",
       " [[u'onnected to the rest of the world',\n",
       "   u'educated population',\n",
       "   u'entrepreneurial',\n",
       "   u'innovative',\n",
       "   u'provides easy access to capital',\n",
       "   u'skilled labor force',\n",
       "   u'technological expertise',\n",
       "   u'transparent business practices',\n",
       "   u'well-developed infrastructure',\n",
       "   u'well-developed legal framework']],\n",
       " [[u'ulturally accessible',\n",
       "   u'has a rich history',\n",
       "   u'has great food',\n",
       "   u'many cultural attractions']],\n",
       " [[u'ureaucratic',\n",
       "   u'cheap manufacturing costs',\n",
       "   u'corrupt',\n",
       "   u'favorable tax environment',\n",
       "   u'transparent government practices']],\n",
       " [[u'ifferent', u'distinctive', u'dynamic', u'unique']],\n",
       " [[u'leader',\n",
       "   u'economically influential',\n",
       "   u'politically influential',\n",
       "   u'strong international alliances',\n",
       "   u'strong military']],\n",
       " [['a good job market',\n",
       "   'affordable',\n",
       "   'economically stable',\n",
       "   'family friendly',\n",
       "   'income equality',\n",
       "   'politically stable',\n",
       "   'safe',\n",
       "   'well-developed public education system',\n",
       "   'well-developed public health system']]]"
      ]
     },
     "execution_count": 35,
     "metadata": {},
     "output_type": "execute_result"
    }
   ],
   "source": [
    "sum([], dfa['attributes'].tolist())"
   ]
  },
  {
   "cell_type": "code",
   "execution_count": null,
   "metadata": {
    "collapsed": true
   },
   "outputs": [],
   "source": []
  }
 ],
 "metadata": {
  "kernelspec": {
   "display_name": "Python 2",
   "language": "python",
   "name": "python2"
  },
  "language_info": {
   "codemirror_mode": {
    "name": "ipython",
    "version": 2
   },
   "file_extension": ".py",
   "mimetype": "text/x-python",
   "name": "python",
   "nbconvert_exporter": "python",
   "pygments_lexer": "ipython2",
   "version": "2.7.10"
  },
  "name": "1-explore.ipynb"
 },
 "nbformat": 4,
 "nbformat_minor": 0
}
